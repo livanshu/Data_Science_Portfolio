{
  "nbformat": 4,
  "nbformat_minor": 0,
  "metadata": {
    "colab": {
      "name": "LL.ipynb",
      "provenance": [],
      "authorship_tag": "ABX9TyMVFBbb726byP7/bKo9kHOS"
    },
    "kernelspec": {
      "name": "python3",
      "display_name": "Python 3"
    },
    "language_info": {
      "name": "python"
    },
    "accelerator": "GPU"
  },
  "cells": [
    {
      "cell_type": "code",
      "metadata": {
        "colab": {
          "base_uri": "https://localhost:8080/"
        },
        "id": "XEv_uqBG9xfP",
        "outputId": "6ab4ce93-d7c7-4ca1-9bdf-6537c90bd191"
      },
      "source": [
        "!wget https://www.fjc.gov/sites/default/files/idb/textfiles/cv88on_0.zip --no-check-certificate\n",
        "!unzip cv88on_0.zip"
      ],
      "execution_count": 2,
      "outputs": [
        {
          "output_type": "stream",
          "text": [
            "--2021-05-30 00:11:44--  https://www.fjc.gov/sites/default/files/idb/textfiles/cv88on_0.zip\n",
            "Resolving www.fjc.gov (www.fjc.gov)... 199.83.132.98\n",
            "Connecting to www.fjc.gov (www.fjc.gov)|199.83.132.98|:443... connected.\n",
            "WARNING: cannot verify www.fjc.gov's certificate, issued by ‘CN=DigiCert TLS RSA SHA256 2020 CA1,O=DigiCert Inc,C=US’:\n",
            "  Unable to locally verify the issuer's authority.\n",
            "HTTP request sent, awaiting response... 200 OK\n",
            "Length: 278990576 (266M) [application/zip]\n",
            "Saving to: ‘cv88on_0.zip’\n",
            "\n",
            "cv88on_0.zip        100%[===================>] 266.07M  99.5MB/s    in 2.7s    \n",
            "\n",
            "2021-05-30 00:11:47 (99.5 MB/s) - ‘cv88on_0.zip’ saved [278990576/278990576]\n",
            "\n",
            "Archive:  cv88on_0.zip\n",
            "  inflating: cv88on.txt              \n"
          ],
          "name": "stdout"
        }
      ]
    },
    {
      "cell_type": "code",
      "metadata": {
        "colab": {
          "base_uri": "https://localhost:8080/"
        },
        "id": "_1x3zvMv-hmq",
        "outputId": "d26ab665-34b8-472e-c601-d2b6b9c506a9"
      },
      "source": [
        "!ls"
      ],
      "execution_count": 1,
      "outputs": [
        {
          "output_type": "stream",
          "text": [
            "cv88on_0.zip  cv88on.txt  sample_data\n"
          ],
          "name": "stdout"
        }
      ]
    },
    {
      "cell_type": "code",
      "metadata": {
        "colab": {
          "base_uri": "https://localhost:8080/",
          "height": 17
        },
        "id": "Xk2z05MgHN2l",
        "outputId": "2430c334-b090-4beb-d7c0-cc6b6ab0a4b6"
      },
      "source": [
        "import warnings\n",
        "warnings.filterwarnings('ignore')\n",
        "\n",
        "# for some basic operations\n",
        "import numpy as np \n",
        "import pandas as pd \n",
        "\n"
      ],
      "execution_count": 2,
      "outputs": [
        {
          "output_type": "display_data",
          "data": {
            "text/html": [
              "        <script type=\"text/javascript\">\n",
              "        window.PlotlyConfig = {MathJaxConfig: 'local'};\n",
              "        if (window.MathJax) {MathJax.Hub.Config({SVG: {font: \"STIX-Web\"}});}\n",
              "        if (typeof require !== 'undefined') {\n",
              "        require.undef(\"plotly\");\n",
              "        requirejs.config({\n",
              "            paths: {\n",
              "                'plotly': ['https://cdn.plot.ly/plotly-latest.min']\n",
              "            }\n",
              "        });\n",
              "        require(['plotly'], function(Plotly) {\n",
              "            window._Plotly = Plotly;\n",
              "        });\n",
              "        }\n",
              "        </script>\n",
              "        "
            ]
          },
          "metadata": {
            "tags": []
          }
        }
      ]
    },
    {
      "cell_type": "code",
      "metadata": {
        "colab": {
          "base_uri": "https://localhost:8080/",
          "height": 224
        },
        "id": "sxVRmw4R-tZH",
        "outputId": "d65ec1e1-3476-4e30-ec6a-53b5f17f0a50"
      },
      "source": [
        "def convert(val):\n",
        "  if val == -8 or val == \"-8\":\n",
        "    return np.nan\n",
        "  return val\n",
        "\n",
        "#conv_dict = {\"\":convert} converters=conv_dict\n",
        "\n",
        "#req_col = []\n",
        "#d_type=\n",
        "\n",
        "to_drop = [\"TITL\",\"SECTION\",\"FILEJUDG\",\"FILEMAG\",\"MDLDOCK\",\"PLT\",\"DEF\",\"SUBSECT\",\"DJOINED\",\"PRETRIAL\",\"TRIBEGAN\",\"TRIALEND\",\"TDATEUSE\",\"FDATEUSE\"]\n",
        "\n",
        "df = pd.read_csv(\"cv88on.txt\", sep='\\t',encoding='cp1252').drop(to_drop,axis='columns')\n",
        "df.head()"
      ],
      "execution_count": 3,
      "outputs": [
        {
          "output_type": "execute_result",
          "data": {
            "text/html": [
              "<div>\n",
              "<style scoped>\n",
              "    .dataframe tbody tr th:only-of-type {\n",
              "        vertical-align: middle;\n",
              "    }\n",
              "\n",
              "    .dataframe tbody tr th {\n",
              "        vertical-align: top;\n",
              "    }\n",
              "\n",
              "    .dataframe thead th {\n",
              "        text-align: right;\n",
              "    }\n",
              "</style>\n",
              "<table border=\"1\" class=\"dataframe\">\n",
              "  <thead>\n",
              "    <tr style=\"text-align: right;\">\n",
              "      <th></th>\n",
              "      <th>CIRCUIT</th>\n",
              "      <th>DISTRICT</th>\n",
              "      <th>OFFICE</th>\n",
              "      <th>DOCKET</th>\n",
              "      <th>ORIGIN</th>\n",
              "      <th>FILEDATE</th>\n",
              "      <th>JURIS</th>\n",
              "      <th>NOS</th>\n",
              "      <th>RESIDENC</th>\n",
              "      <th>JURY</th>\n",
              "      <th>CLASSACT</th>\n",
              "      <th>DEMANDED</th>\n",
              "      <th>COUNTY</th>\n",
              "      <th>ARBIT</th>\n",
              "      <th>TRANSDAT</th>\n",
              "      <th>TRANSOFF</th>\n",
              "      <th>TRANSDOC</th>\n",
              "      <th>TRANSORG</th>\n",
              "      <th>TERMDATE</th>\n",
              "      <th>TRCLACT</th>\n",
              "      <th>TERMJUDG</th>\n",
              "      <th>TERMMAG</th>\n",
              "      <th>PROCPROG</th>\n",
              "      <th>DISP</th>\n",
              "      <th>NOJ</th>\n",
              "      <th>AMTREC</th>\n",
              "      <th>JUDGMENT</th>\n",
              "      <th>TRMARB</th>\n",
              "      <th>PROSE</th>\n",
              "      <th>IFP</th>\n",
              "      <th>STATUSCD</th>\n",
              "      <th>TAPEYEAR</th>\n",
              "    </tr>\n",
              "  </thead>\n",
              "  <tbody>\n",
              "    <tr>\n",
              "      <th>0</th>\n",
              "      <td>0</td>\n",
              "      <td>90</td>\n",
              "      <td>1</td>\n",
              "      <td>7101462</td>\n",
              "      <td>4</td>\n",
              "      <td>07/21/1971</td>\n",
              "      <td>3</td>\n",
              "      <td>440</td>\n",
              "      <td>-8</td>\n",
              "      <td>-8</td>\n",
              "      <td>1</td>\n",
              "      <td>-8</td>\n",
              "      <td>0</td>\n",
              "      <td>-8</td>\n",
              "      <td>NaN</td>\n",
              "      <td>-8</td>\n",
              "      <td>-8</td>\n",
              "      <td>-8</td>\n",
              "      <td>11/17/1985</td>\n",
              "      <td>2</td>\n",
              "      <td>NaN</td>\n",
              "      <td>NaN</td>\n",
              "      <td>6</td>\n",
              "      <td>9</td>\n",
              "      <td>3</td>\n",
              "      <td>-8</td>\n",
              "      <td>1</td>\n",
              "      <td>-8</td>\n",
              "      <td>-8</td>\n",
              "      <td>NaN</td>\n",
              "      <td>NaN</td>\n",
              "      <td>1988</td>\n",
              "    </tr>\n",
              "    <tr>\n",
              "      <th>1</th>\n",
              "      <td>0</td>\n",
              "      <td>90</td>\n",
              "      <td>1</td>\n",
              "      <td>7300974</td>\n",
              "      <td>4</td>\n",
              "      <td>05/17/1973</td>\n",
              "      <td>2</td>\n",
              "      <td>890</td>\n",
              "      <td>-8</td>\n",
              "      <td>-8</td>\n",
              "      <td>-8</td>\n",
              "      <td>-8</td>\n",
              "      <td>0</td>\n",
              "      <td>-8</td>\n",
              "      <td>NaN</td>\n",
              "      <td>-8</td>\n",
              "      <td>-8</td>\n",
              "      <td>-8</td>\n",
              "      <td>04/18/1988</td>\n",
              "      <td>-8</td>\n",
              "      <td>NaN</td>\n",
              "      <td>NaN</td>\n",
              "      <td>4</td>\n",
              "      <td>17</td>\n",
              "      <td>1</td>\n",
              "      <td>518</td>\n",
              "      <td>1</td>\n",
              "      <td>-8</td>\n",
              "      <td>-8</td>\n",
              "      <td>NaN</td>\n",
              "      <td>NaN</td>\n",
              "      <td>1988</td>\n",
              "    </tr>\n",
              "    <tr>\n",
              "      <th>2</th>\n",
              "      <td>0</td>\n",
              "      <td>90</td>\n",
              "      <td>1</td>\n",
              "      <td>7601326</td>\n",
              "      <td>4</td>\n",
              "      <td>01/31/1985</td>\n",
              "      <td>2</td>\n",
              "      <td>440</td>\n",
              "      <td>-8</td>\n",
              "      <td>-8</td>\n",
              "      <td>-8</td>\n",
              "      <td>-8</td>\n",
              "      <td>0</td>\n",
              "      <td>-8</td>\n",
              "      <td>NaN</td>\n",
              "      <td>-8</td>\n",
              "      <td>-8</td>\n",
              "      <td>-8</td>\n",
              "      <td>03/21/1988</td>\n",
              "      <td>-8</td>\n",
              "      <td>NaN</td>\n",
              "      <td>NaN</td>\n",
              "      <td>10</td>\n",
              "      <td>13</td>\n",
              "      <td>-8</td>\n",
              "      <td>-8</td>\n",
              "      <td>-8</td>\n",
              "      <td>-8</td>\n",
              "      <td>-8</td>\n",
              "      <td>NaN</td>\n",
              "      <td>NaN</td>\n",
              "      <td>1988</td>\n",
              "    </tr>\n",
              "    <tr>\n",
              "      <th>3</th>\n",
              "      <td>0</td>\n",
              "      <td>90</td>\n",
              "      <td>1</td>\n",
              "      <td>7700081</td>\n",
              "      <td>3</td>\n",
              "      <td>09/19/1984</td>\n",
              "      <td>2</td>\n",
              "      <td>442</td>\n",
              "      <td>-8</td>\n",
              "      <td>-8</td>\n",
              "      <td>-8</td>\n",
              "      <td>-8</td>\n",
              "      <td>0</td>\n",
              "      <td>-8</td>\n",
              "      <td>NaN</td>\n",
              "      <td>-8</td>\n",
              "      <td>-8</td>\n",
              "      <td>-8</td>\n",
              "      <td>10/19/1985</td>\n",
              "      <td>-8</td>\n",
              "      <td>NaN</td>\n",
              "      <td>NaN</td>\n",
              "      <td>10</td>\n",
              "      <td>13</td>\n",
              "      <td>-8</td>\n",
              "      <td>-8</td>\n",
              "      <td>-8</td>\n",
              "      <td>-8</td>\n",
              "      <td>-8</td>\n",
              "      <td>NaN</td>\n",
              "      <td>NaN</td>\n",
              "      <td>1988</td>\n",
              "    </tr>\n",
              "    <tr>\n",
              "      <th>4</th>\n",
              "      <td>0</td>\n",
              "      <td>90</td>\n",
              "      <td>1</td>\n",
              "      <td>7901559</td>\n",
              "      <td>2</td>\n",
              "      <td>06/15/1979</td>\n",
              "      <td>2</td>\n",
              "      <td>550</td>\n",
              "      <td>-8</td>\n",
              "      <td>-8</td>\n",
              "      <td>-8</td>\n",
              "      <td>-8</td>\n",
              "      <td>0</td>\n",
              "      <td>-8</td>\n",
              "      <td>NaN</td>\n",
              "      <td>-8</td>\n",
              "      <td>-8</td>\n",
              "      <td>-8</td>\n",
              "      <td>12/10/1987</td>\n",
              "      <td>-8</td>\n",
              "      <td>NaN</td>\n",
              "      <td>NaN</td>\n",
              "      <td>12</td>\n",
              "      <td>6</td>\n",
              "      <td>0</td>\n",
              "      <td>-8</td>\n",
              "      <td>2</td>\n",
              "      <td>-8</td>\n",
              "      <td>-8</td>\n",
              "      <td>NaN</td>\n",
              "      <td>NaN</td>\n",
              "      <td>1988</td>\n",
              "    </tr>\n",
              "  </tbody>\n",
              "</table>\n",
              "</div>"
            ],
            "text/plain": [
              "   CIRCUIT DISTRICT OFFICE   DOCKET  ...  PROSE  IFP  STATUSCD  TAPEYEAR\n",
              "0        0       90      1  7101462  ...     -8  NaN       NaN      1988\n",
              "1        0       90      1  7300974  ...     -8  NaN       NaN      1988\n",
              "2        0       90      1  7601326  ...     -8  NaN       NaN      1988\n",
              "3        0       90      1  7700081  ...     -8  NaN       NaN      1988\n",
              "4        0       90      1  7901559  ...     -8  NaN       NaN      1988\n",
              "\n",
              "[5 rows x 32 columns]"
            ]
          },
          "metadata": {
            "tags": []
          },
          "execution_count": 3
        }
      ]
    },
    {
      "cell_type": "code",
      "metadata": {
        "colab": {
          "base_uri": "https://localhost:8080/"
        },
        "id": "kkMTMU0QzJ1U",
        "outputId": "ff844817-da94-4052-f18f-b1cd8cb650b8"
      },
      "source": [
        "df[\"NOS\"].value_counts()"
      ],
      "execution_count": 4,
      "outputs": [
        {
          "output_type": "execute_result",
          "data": {
            "text/plain": [
              "365    843087\n",
              "550    723069\n",
              "530    627768\n",
              "190    547522\n",
              "440    524916\n",
              "        ...  \n",
              "910        31\n",
              "421        23\n",
              "992        22\n",
              "420        13\n",
              "930         2\n",
              "Name: NOS, Length: 113, dtype: int64"
            ]
          },
          "metadata": {
            "tags": []
          },
          "execution_count": 4
        }
      ]
    },
    {
      "cell_type": "code",
      "metadata": {
        "colab": {
          "base_uri": "https://localhost:8080/"
        },
        "id": "mDx0qY_tH8fW",
        "outputId": "a0ca4060-9201-4ce5-a444-0bffa04392d1"
      },
      "source": [
        "df.info()"
      ],
      "execution_count": 5,
      "outputs": [
        {
          "output_type": "stream",
          "text": [
            "<class 'pandas.core.frame.DataFrame'>\n",
            "RangeIndex: 9222144 entries, 0 to 9222143\n",
            "Data columns (total 32 columns):\n",
            " #   Column    Dtype  \n",
            "---  ------    -----  \n",
            " 0   CIRCUIT   int64  \n",
            " 1   DISTRICT  object \n",
            " 2   OFFICE    object \n",
            " 3   DOCKET    int64  \n",
            " 4   ORIGIN    int64  \n",
            " 5   FILEDATE  object \n",
            " 6   JURIS     int64  \n",
            " 7   NOS       int64  \n",
            " 8   RESIDENC  int64  \n",
            " 9   JURY      object \n",
            " 10  CLASSACT  int64  \n",
            " 11  DEMANDED  int64  \n",
            " 12  COUNTY    int64  \n",
            " 13  ARBIT     object \n",
            " 14  TRANSDAT  object \n",
            " 15  TRANSOFF  object \n",
            " 16  TRANSDOC  int64  \n",
            " 17  TRANSORG  object \n",
            " 18  TERMDATE  object \n",
            " 19  TRCLACT   int64  \n",
            " 20  TERMJUDG  float64\n",
            " 21  TERMMAG   float64\n",
            " 22  PROCPROG  int64  \n",
            " 23  DISP      int64  \n",
            " 24  NOJ       int64  \n",
            " 25  AMTREC    int64  \n",
            " 26  JUDGMENT  int64  \n",
            " 27  TRMARB    object \n",
            " 28  PROSE     int64  \n",
            " 29  IFP       object \n",
            " 30  STATUSCD  object \n",
            " 31  TAPEYEAR  int64  \n",
            "dtypes: float64(2), int64(18), object(12)\n",
            "memory usage: 2.2+ GB\n",
            "CIRCUIT       int64\n",
            "DISTRICT     object\n",
            "OFFICE       object\n",
            "DOCKET        int64\n",
            "ORIGIN        int64\n",
            "FILEDATE     object\n",
            "JURIS         int64\n",
            "NOS           int64\n",
            "RESIDENC      int64\n",
            "JURY         object\n",
            "CLASSACT      int64\n",
            "DEMANDED      int64\n",
            "COUNTY        int64\n",
            "ARBIT        object\n",
            "TRANSDAT     object\n",
            "TRANSOFF     object\n",
            "TRANSDOC      int64\n",
            "TRANSORG     object\n",
            "TERMDATE     object\n",
            "TRCLACT       int64\n",
            "TERMJUDG    float64\n",
            "TERMMAG     float64\n",
            "PROCPROG      int64\n",
            "DISP          int64\n",
            "NOJ           int64\n",
            "AMTREC        int64\n",
            "JUDGMENT      int64\n",
            "TRMARB       object\n",
            "PROSE         int64\n",
            "IFP          object\n",
            "STATUSCD     object\n",
            "TAPEYEAR      int64\n",
            "dtype: object\n"
          ],
          "name": "stdout"
        }
      ]
    },
    {
      "cell_type": "code",
      "metadata": {
        "id": "ZBbHQpba6eqf"
      },
      "source": [
        "all_columns = df.columns\n",
        "\n",
        "for i in range(0,len(all_columns)):\n",
        "    (df[all_columns[i]]).replace(\"-8\",np.nan,inplace=True)\n",
        "\n",
        "\n",
        "for i in range(0,len(all_columns)):\n",
        "    (df[all_columns[i]]).replace(-8,np.nan,inplace=True)"
      ],
      "execution_count": 6,
      "outputs": []
    },
    {
      "cell_type": "code",
      "metadata": {
        "colab": {
          "base_uri": "https://localhost:8080/",
          "height": 224
        },
        "id": "gYvR-xyfE9Z4",
        "outputId": "88615323-2b4e-4eea-cb0d-7b6008929306"
      },
      "source": [
        "df.head()"
      ],
      "execution_count": 7,
      "outputs": [
        {
          "output_type": "execute_result",
          "data": {
            "text/html": [
              "<div>\n",
              "<style scoped>\n",
              "    .dataframe tbody tr th:only-of-type {\n",
              "        vertical-align: middle;\n",
              "    }\n",
              "\n",
              "    .dataframe tbody tr th {\n",
              "        vertical-align: top;\n",
              "    }\n",
              "\n",
              "    .dataframe thead th {\n",
              "        text-align: right;\n",
              "    }\n",
              "</style>\n",
              "<table border=\"1\" class=\"dataframe\">\n",
              "  <thead>\n",
              "    <tr style=\"text-align: right;\">\n",
              "      <th></th>\n",
              "      <th>CIRCUIT</th>\n",
              "      <th>DISTRICT</th>\n",
              "      <th>OFFICE</th>\n",
              "      <th>DOCKET</th>\n",
              "      <th>ORIGIN</th>\n",
              "      <th>FILEDATE</th>\n",
              "      <th>JURIS</th>\n",
              "      <th>NOS</th>\n",
              "      <th>RESIDENC</th>\n",
              "      <th>JURY</th>\n",
              "      <th>CLASSACT</th>\n",
              "      <th>DEMANDED</th>\n",
              "      <th>COUNTY</th>\n",
              "      <th>ARBIT</th>\n",
              "      <th>TRANSDAT</th>\n",
              "      <th>TRANSOFF</th>\n",
              "      <th>TRANSDOC</th>\n",
              "      <th>TRANSORG</th>\n",
              "      <th>TERMDATE</th>\n",
              "      <th>TRCLACT</th>\n",
              "      <th>TERMJUDG</th>\n",
              "      <th>TERMMAG</th>\n",
              "      <th>PROCPROG</th>\n",
              "      <th>DISP</th>\n",
              "      <th>NOJ</th>\n",
              "      <th>AMTREC</th>\n",
              "      <th>JUDGMENT</th>\n",
              "      <th>TRMARB</th>\n",
              "      <th>PROSE</th>\n",
              "      <th>IFP</th>\n",
              "      <th>STATUSCD</th>\n",
              "      <th>TAPEYEAR</th>\n",
              "    </tr>\n",
              "  </thead>\n",
              "  <tbody>\n",
              "    <tr>\n",
              "      <th>0</th>\n",
              "      <td>0</td>\n",
              "      <td>90</td>\n",
              "      <td>1</td>\n",
              "      <td>7101462</td>\n",
              "      <td>4.0</td>\n",
              "      <td>07/21/1971</td>\n",
              "      <td>3.0</td>\n",
              "      <td>440</td>\n",
              "      <td>NaN</td>\n",
              "      <td>NaN</td>\n",
              "      <td>1.0</td>\n",
              "      <td>NaN</td>\n",
              "      <td>0</td>\n",
              "      <td>NaN</td>\n",
              "      <td>NaN</td>\n",
              "      <td>NaN</td>\n",
              "      <td>NaN</td>\n",
              "      <td>NaN</td>\n",
              "      <td>11/17/1985</td>\n",
              "      <td>2.0</td>\n",
              "      <td>NaN</td>\n",
              "      <td>NaN</td>\n",
              "      <td>6.0</td>\n",
              "      <td>9.0</td>\n",
              "      <td>3.0</td>\n",
              "      <td>NaN</td>\n",
              "      <td>1.0</td>\n",
              "      <td>NaN</td>\n",
              "      <td>NaN</td>\n",
              "      <td>NaN</td>\n",
              "      <td>NaN</td>\n",
              "      <td>1988</td>\n",
              "    </tr>\n",
              "    <tr>\n",
              "      <th>1</th>\n",
              "      <td>0</td>\n",
              "      <td>90</td>\n",
              "      <td>1</td>\n",
              "      <td>7300974</td>\n",
              "      <td>4.0</td>\n",
              "      <td>05/17/1973</td>\n",
              "      <td>2.0</td>\n",
              "      <td>890</td>\n",
              "      <td>NaN</td>\n",
              "      <td>NaN</td>\n",
              "      <td>NaN</td>\n",
              "      <td>NaN</td>\n",
              "      <td>0</td>\n",
              "      <td>NaN</td>\n",
              "      <td>NaN</td>\n",
              "      <td>NaN</td>\n",
              "      <td>NaN</td>\n",
              "      <td>NaN</td>\n",
              "      <td>04/18/1988</td>\n",
              "      <td>NaN</td>\n",
              "      <td>NaN</td>\n",
              "      <td>NaN</td>\n",
              "      <td>4.0</td>\n",
              "      <td>17.0</td>\n",
              "      <td>1.0</td>\n",
              "      <td>518.0</td>\n",
              "      <td>1.0</td>\n",
              "      <td>NaN</td>\n",
              "      <td>NaN</td>\n",
              "      <td>NaN</td>\n",
              "      <td>NaN</td>\n",
              "      <td>1988</td>\n",
              "    </tr>\n",
              "    <tr>\n",
              "      <th>2</th>\n",
              "      <td>0</td>\n",
              "      <td>90</td>\n",
              "      <td>1</td>\n",
              "      <td>7601326</td>\n",
              "      <td>4.0</td>\n",
              "      <td>01/31/1985</td>\n",
              "      <td>2.0</td>\n",
              "      <td>440</td>\n",
              "      <td>NaN</td>\n",
              "      <td>NaN</td>\n",
              "      <td>NaN</td>\n",
              "      <td>NaN</td>\n",
              "      <td>0</td>\n",
              "      <td>NaN</td>\n",
              "      <td>NaN</td>\n",
              "      <td>NaN</td>\n",
              "      <td>NaN</td>\n",
              "      <td>NaN</td>\n",
              "      <td>03/21/1988</td>\n",
              "      <td>NaN</td>\n",
              "      <td>NaN</td>\n",
              "      <td>NaN</td>\n",
              "      <td>10.0</td>\n",
              "      <td>13.0</td>\n",
              "      <td>NaN</td>\n",
              "      <td>NaN</td>\n",
              "      <td>NaN</td>\n",
              "      <td>NaN</td>\n",
              "      <td>NaN</td>\n",
              "      <td>NaN</td>\n",
              "      <td>NaN</td>\n",
              "      <td>1988</td>\n",
              "    </tr>\n",
              "    <tr>\n",
              "      <th>3</th>\n",
              "      <td>0</td>\n",
              "      <td>90</td>\n",
              "      <td>1</td>\n",
              "      <td>7700081</td>\n",
              "      <td>3.0</td>\n",
              "      <td>09/19/1984</td>\n",
              "      <td>2.0</td>\n",
              "      <td>442</td>\n",
              "      <td>NaN</td>\n",
              "      <td>NaN</td>\n",
              "      <td>NaN</td>\n",
              "      <td>NaN</td>\n",
              "      <td>0</td>\n",
              "      <td>NaN</td>\n",
              "      <td>NaN</td>\n",
              "      <td>NaN</td>\n",
              "      <td>NaN</td>\n",
              "      <td>NaN</td>\n",
              "      <td>10/19/1985</td>\n",
              "      <td>NaN</td>\n",
              "      <td>NaN</td>\n",
              "      <td>NaN</td>\n",
              "      <td>10.0</td>\n",
              "      <td>13.0</td>\n",
              "      <td>NaN</td>\n",
              "      <td>NaN</td>\n",
              "      <td>NaN</td>\n",
              "      <td>NaN</td>\n",
              "      <td>NaN</td>\n",
              "      <td>NaN</td>\n",
              "      <td>NaN</td>\n",
              "      <td>1988</td>\n",
              "    </tr>\n",
              "    <tr>\n",
              "      <th>4</th>\n",
              "      <td>0</td>\n",
              "      <td>90</td>\n",
              "      <td>1</td>\n",
              "      <td>7901559</td>\n",
              "      <td>2.0</td>\n",
              "      <td>06/15/1979</td>\n",
              "      <td>2.0</td>\n",
              "      <td>550</td>\n",
              "      <td>NaN</td>\n",
              "      <td>NaN</td>\n",
              "      <td>NaN</td>\n",
              "      <td>NaN</td>\n",
              "      <td>0</td>\n",
              "      <td>NaN</td>\n",
              "      <td>NaN</td>\n",
              "      <td>NaN</td>\n",
              "      <td>NaN</td>\n",
              "      <td>NaN</td>\n",
              "      <td>12/10/1987</td>\n",
              "      <td>NaN</td>\n",
              "      <td>NaN</td>\n",
              "      <td>NaN</td>\n",
              "      <td>12.0</td>\n",
              "      <td>6.0</td>\n",
              "      <td>0.0</td>\n",
              "      <td>NaN</td>\n",
              "      <td>2.0</td>\n",
              "      <td>NaN</td>\n",
              "      <td>NaN</td>\n",
              "      <td>NaN</td>\n",
              "      <td>NaN</td>\n",
              "      <td>1988</td>\n",
              "    </tr>\n",
              "  </tbody>\n",
              "</table>\n",
              "</div>"
            ],
            "text/plain": [
              "   CIRCUIT DISTRICT OFFICE   DOCKET  ...  PROSE  IFP  STATUSCD  TAPEYEAR\n",
              "0        0       90      1  7101462  ...    NaN  NaN       NaN      1988\n",
              "1        0       90      1  7300974  ...    NaN  NaN       NaN      1988\n",
              "2        0       90      1  7601326  ...    NaN  NaN       NaN      1988\n",
              "3        0       90      1  7700081  ...    NaN  NaN       NaN      1988\n",
              "4        0       90      1  7901559  ...    NaN  NaN       NaN      1988\n",
              "\n",
              "[5 rows x 32 columns]"
            ]
          },
          "metadata": {
            "tags": []
          },
          "execution_count": 7
        }
      ]
    },
    {
      "cell_type": "code",
      "metadata": {
        "colab": {
          "base_uri": "https://localhost:8080/",
          "height": 224
        },
        "id": "nKRyqnXFUVWS",
        "outputId": "f5bcb04b-5e13-47fd-afb4-0f03bed28bb2"
      },
      "source": [
        "df[\"JUDGMENT\"].replace(4,np.nan,inplace=True)\n",
        "df[\"JUDGMENT\"].replace(0,np.nan,inplace=True)\n",
        "\n",
        "#df.drop(df[df[\"JUDGMENT\"] == 4].index ,inplace=True)\n",
        "#df.drop(df[df[\"JUDGMENT\"] == 0].index ,inplace=True)\n",
        "df[\"JUDGMENT\"]=df[\"JUDGMENT\"]*10\n",
        "df[\"LABEL\"] = df[\"NOJ\"] + df[\"JUDGMENT\"]\n",
        "df.head()"
      ],
      "execution_count": 8,
      "outputs": [
        {
          "output_type": "execute_result",
          "data": {
            "text/html": [
              "<div>\n",
              "<style scoped>\n",
              "    .dataframe tbody tr th:only-of-type {\n",
              "        vertical-align: middle;\n",
              "    }\n",
              "\n",
              "    .dataframe tbody tr th {\n",
              "        vertical-align: top;\n",
              "    }\n",
              "\n",
              "    .dataframe thead th {\n",
              "        text-align: right;\n",
              "    }\n",
              "</style>\n",
              "<table border=\"1\" class=\"dataframe\">\n",
              "  <thead>\n",
              "    <tr style=\"text-align: right;\">\n",
              "      <th></th>\n",
              "      <th>CIRCUIT</th>\n",
              "      <th>DISTRICT</th>\n",
              "      <th>OFFICE</th>\n",
              "      <th>DOCKET</th>\n",
              "      <th>ORIGIN</th>\n",
              "      <th>FILEDATE</th>\n",
              "      <th>JURIS</th>\n",
              "      <th>NOS</th>\n",
              "      <th>RESIDENC</th>\n",
              "      <th>JURY</th>\n",
              "      <th>CLASSACT</th>\n",
              "      <th>DEMANDED</th>\n",
              "      <th>COUNTY</th>\n",
              "      <th>ARBIT</th>\n",
              "      <th>TRANSDAT</th>\n",
              "      <th>TRANSOFF</th>\n",
              "      <th>TRANSDOC</th>\n",
              "      <th>TRANSORG</th>\n",
              "      <th>TERMDATE</th>\n",
              "      <th>TRCLACT</th>\n",
              "      <th>TERMJUDG</th>\n",
              "      <th>TERMMAG</th>\n",
              "      <th>PROCPROG</th>\n",
              "      <th>DISP</th>\n",
              "      <th>NOJ</th>\n",
              "      <th>AMTREC</th>\n",
              "      <th>JUDGMENT</th>\n",
              "      <th>TRMARB</th>\n",
              "      <th>PROSE</th>\n",
              "      <th>IFP</th>\n",
              "      <th>STATUSCD</th>\n",
              "      <th>TAPEYEAR</th>\n",
              "      <th>LABEL</th>\n",
              "    </tr>\n",
              "  </thead>\n",
              "  <tbody>\n",
              "    <tr>\n",
              "      <th>0</th>\n",
              "      <td>0</td>\n",
              "      <td>90</td>\n",
              "      <td>1</td>\n",
              "      <td>7101462</td>\n",
              "      <td>4.0</td>\n",
              "      <td>07/21/1971</td>\n",
              "      <td>3.0</td>\n",
              "      <td>440</td>\n",
              "      <td>NaN</td>\n",
              "      <td>NaN</td>\n",
              "      <td>1.0</td>\n",
              "      <td>NaN</td>\n",
              "      <td>0</td>\n",
              "      <td>NaN</td>\n",
              "      <td>NaN</td>\n",
              "      <td>NaN</td>\n",
              "      <td>NaN</td>\n",
              "      <td>NaN</td>\n",
              "      <td>11/17/1985</td>\n",
              "      <td>2.0</td>\n",
              "      <td>NaN</td>\n",
              "      <td>NaN</td>\n",
              "      <td>6.0</td>\n",
              "      <td>9.0</td>\n",
              "      <td>3.0</td>\n",
              "      <td>NaN</td>\n",
              "      <td>10.0</td>\n",
              "      <td>NaN</td>\n",
              "      <td>NaN</td>\n",
              "      <td>NaN</td>\n",
              "      <td>NaN</td>\n",
              "      <td>1988</td>\n",
              "      <td>13.0</td>\n",
              "    </tr>\n",
              "    <tr>\n",
              "      <th>1</th>\n",
              "      <td>0</td>\n",
              "      <td>90</td>\n",
              "      <td>1</td>\n",
              "      <td>7300974</td>\n",
              "      <td>4.0</td>\n",
              "      <td>05/17/1973</td>\n",
              "      <td>2.0</td>\n",
              "      <td>890</td>\n",
              "      <td>NaN</td>\n",
              "      <td>NaN</td>\n",
              "      <td>NaN</td>\n",
              "      <td>NaN</td>\n",
              "      <td>0</td>\n",
              "      <td>NaN</td>\n",
              "      <td>NaN</td>\n",
              "      <td>NaN</td>\n",
              "      <td>NaN</td>\n",
              "      <td>NaN</td>\n",
              "      <td>04/18/1988</td>\n",
              "      <td>NaN</td>\n",
              "      <td>NaN</td>\n",
              "      <td>NaN</td>\n",
              "      <td>4.0</td>\n",
              "      <td>17.0</td>\n",
              "      <td>1.0</td>\n",
              "      <td>518.0</td>\n",
              "      <td>10.0</td>\n",
              "      <td>NaN</td>\n",
              "      <td>NaN</td>\n",
              "      <td>NaN</td>\n",
              "      <td>NaN</td>\n",
              "      <td>1988</td>\n",
              "      <td>11.0</td>\n",
              "    </tr>\n",
              "    <tr>\n",
              "      <th>2</th>\n",
              "      <td>0</td>\n",
              "      <td>90</td>\n",
              "      <td>1</td>\n",
              "      <td>7601326</td>\n",
              "      <td>4.0</td>\n",
              "      <td>01/31/1985</td>\n",
              "      <td>2.0</td>\n",
              "      <td>440</td>\n",
              "      <td>NaN</td>\n",
              "      <td>NaN</td>\n",
              "      <td>NaN</td>\n",
              "      <td>NaN</td>\n",
              "      <td>0</td>\n",
              "      <td>NaN</td>\n",
              "      <td>NaN</td>\n",
              "      <td>NaN</td>\n",
              "      <td>NaN</td>\n",
              "      <td>NaN</td>\n",
              "      <td>03/21/1988</td>\n",
              "      <td>NaN</td>\n",
              "      <td>NaN</td>\n",
              "      <td>NaN</td>\n",
              "      <td>10.0</td>\n",
              "      <td>13.0</td>\n",
              "      <td>NaN</td>\n",
              "      <td>NaN</td>\n",
              "      <td>NaN</td>\n",
              "      <td>NaN</td>\n",
              "      <td>NaN</td>\n",
              "      <td>NaN</td>\n",
              "      <td>NaN</td>\n",
              "      <td>1988</td>\n",
              "      <td>NaN</td>\n",
              "    </tr>\n",
              "    <tr>\n",
              "      <th>3</th>\n",
              "      <td>0</td>\n",
              "      <td>90</td>\n",
              "      <td>1</td>\n",
              "      <td>7700081</td>\n",
              "      <td>3.0</td>\n",
              "      <td>09/19/1984</td>\n",
              "      <td>2.0</td>\n",
              "      <td>442</td>\n",
              "      <td>NaN</td>\n",
              "      <td>NaN</td>\n",
              "      <td>NaN</td>\n",
              "      <td>NaN</td>\n",
              "      <td>0</td>\n",
              "      <td>NaN</td>\n",
              "      <td>NaN</td>\n",
              "      <td>NaN</td>\n",
              "      <td>NaN</td>\n",
              "      <td>NaN</td>\n",
              "      <td>10/19/1985</td>\n",
              "      <td>NaN</td>\n",
              "      <td>NaN</td>\n",
              "      <td>NaN</td>\n",
              "      <td>10.0</td>\n",
              "      <td>13.0</td>\n",
              "      <td>NaN</td>\n",
              "      <td>NaN</td>\n",
              "      <td>NaN</td>\n",
              "      <td>NaN</td>\n",
              "      <td>NaN</td>\n",
              "      <td>NaN</td>\n",
              "      <td>NaN</td>\n",
              "      <td>1988</td>\n",
              "      <td>NaN</td>\n",
              "    </tr>\n",
              "    <tr>\n",
              "      <th>4</th>\n",
              "      <td>0</td>\n",
              "      <td>90</td>\n",
              "      <td>1</td>\n",
              "      <td>7901559</td>\n",
              "      <td>2.0</td>\n",
              "      <td>06/15/1979</td>\n",
              "      <td>2.0</td>\n",
              "      <td>550</td>\n",
              "      <td>NaN</td>\n",
              "      <td>NaN</td>\n",
              "      <td>NaN</td>\n",
              "      <td>NaN</td>\n",
              "      <td>0</td>\n",
              "      <td>NaN</td>\n",
              "      <td>NaN</td>\n",
              "      <td>NaN</td>\n",
              "      <td>NaN</td>\n",
              "      <td>NaN</td>\n",
              "      <td>12/10/1987</td>\n",
              "      <td>NaN</td>\n",
              "      <td>NaN</td>\n",
              "      <td>NaN</td>\n",
              "      <td>12.0</td>\n",
              "      <td>6.0</td>\n",
              "      <td>0.0</td>\n",
              "      <td>NaN</td>\n",
              "      <td>20.0</td>\n",
              "      <td>NaN</td>\n",
              "      <td>NaN</td>\n",
              "      <td>NaN</td>\n",
              "      <td>NaN</td>\n",
              "      <td>1988</td>\n",
              "      <td>20.0</td>\n",
              "    </tr>\n",
              "  </tbody>\n",
              "</table>\n",
              "</div>"
            ],
            "text/plain": [
              "   CIRCUIT DISTRICT OFFICE   DOCKET  ...  IFP STATUSCD  TAPEYEAR  LABEL\n",
              "0        0       90      1  7101462  ...  NaN      NaN      1988   13.0\n",
              "1        0       90      1  7300974  ...  NaN      NaN      1988   11.0\n",
              "2        0       90      1  7601326  ...  NaN      NaN      1988    NaN\n",
              "3        0       90      1  7700081  ...  NaN      NaN      1988    NaN\n",
              "4        0       90      1  7901559  ...  NaN      NaN      1988   20.0\n",
              "\n",
              "[5 rows x 33 columns]"
            ]
          },
          "metadata": {
            "tags": []
          },
          "execution_count": 8
        }
      ]
    },
    {
      "cell_type": "code",
      "metadata": {
        "colab": {
          "base_uri": "https://localhost:8080/",
          "height": 309
        },
        "id": "1AwGpjgUtn1u",
        "outputId": "1f7b9fc8-860a-44fe-f8c3-2d189252f5e8"
      },
      "source": [
        "df[\"TERMDATE\"]= pd.to_datetime(df[\"TERMDATE\"])\n",
        "df[\"FILEDATE\"]= pd.to_datetime(df[\"FILEDATE\"])\n",
        "df[\"CASEDAYS\"] = (df[\"TERMDATE\"]-df[\"FILEDATE\"]).dt.days\n",
        "df.head()"
      ],
      "execution_count": 9,
      "outputs": [
        {
          "output_type": "execute_result",
          "data": {
            "text/html": [
              "<div>\n",
              "<style scoped>\n",
              "    .dataframe tbody tr th:only-of-type {\n",
              "        vertical-align: middle;\n",
              "    }\n",
              "\n",
              "    .dataframe tbody tr th {\n",
              "        vertical-align: top;\n",
              "    }\n",
              "\n",
              "    .dataframe thead th {\n",
              "        text-align: right;\n",
              "    }\n",
              "</style>\n",
              "<table border=\"1\" class=\"dataframe\">\n",
              "  <thead>\n",
              "    <tr style=\"text-align: right;\">\n",
              "      <th></th>\n",
              "      <th>CIRCUIT</th>\n",
              "      <th>DISTRICT</th>\n",
              "      <th>OFFICE</th>\n",
              "      <th>DOCKET</th>\n",
              "      <th>ORIGIN</th>\n",
              "      <th>FILEDATE</th>\n",
              "      <th>JURIS</th>\n",
              "      <th>NOS</th>\n",
              "      <th>RESIDENC</th>\n",
              "      <th>JURY</th>\n",
              "      <th>CLASSACT</th>\n",
              "      <th>DEMANDED</th>\n",
              "      <th>COUNTY</th>\n",
              "      <th>ARBIT</th>\n",
              "      <th>TRANSDAT</th>\n",
              "      <th>TRANSOFF</th>\n",
              "      <th>TRANSDOC</th>\n",
              "      <th>TRANSORG</th>\n",
              "      <th>TERMDATE</th>\n",
              "      <th>TRCLACT</th>\n",
              "      <th>TERMJUDG</th>\n",
              "      <th>TERMMAG</th>\n",
              "      <th>PROCPROG</th>\n",
              "      <th>DISP</th>\n",
              "      <th>NOJ</th>\n",
              "      <th>AMTREC</th>\n",
              "      <th>JUDGMENT</th>\n",
              "      <th>TRMARB</th>\n",
              "      <th>PROSE</th>\n",
              "      <th>IFP</th>\n",
              "      <th>STATUSCD</th>\n",
              "      <th>TAPEYEAR</th>\n",
              "      <th>LABEL</th>\n",
              "      <th>CASEDAYS</th>\n",
              "    </tr>\n",
              "  </thead>\n",
              "  <tbody>\n",
              "    <tr>\n",
              "      <th>0</th>\n",
              "      <td>0</td>\n",
              "      <td>90</td>\n",
              "      <td>1</td>\n",
              "      <td>7101462</td>\n",
              "      <td>4.0</td>\n",
              "      <td>1971-07-21</td>\n",
              "      <td>3.0</td>\n",
              "      <td>440</td>\n",
              "      <td>NaN</td>\n",
              "      <td>NaN</td>\n",
              "      <td>1.0</td>\n",
              "      <td>NaN</td>\n",
              "      <td>0</td>\n",
              "      <td>NaN</td>\n",
              "      <td>NaN</td>\n",
              "      <td>NaN</td>\n",
              "      <td>NaN</td>\n",
              "      <td>NaN</td>\n",
              "      <td>1985-11-17</td>\n",
              "      <td>2.0</td>\n",
              "      <td>NaN</td>\n",
              "      <td>NaN</td>\n",
              "      <td>6.0</td>\n",
              "      <td>9.0</td>\n",
              "      <td>3.0</td>\n",
              "      <td>NaN</td>\n",
              "      <td>10.0</td>\n",
              "      <td>NaN</td>\n",
              "      <td>NaN</td>\n",
              "      <td>NaN</td>\n",
              "      <td>NaN</td>\n",
              "      <td>1988</td>\n",
              "      <td>13.0</td>\n",
              "      <td>5233.0</td>\n",
              "    </tr>\n",
              "    <tr>\n",
              "      <th>1</th>\n",
              "      <td>0</td>\n",
              "      <td>90</td>\n",
              "      <td>1</td>\n",
              "      <td>7300974</td>\n",
              "      <td>4.0</td>\n",
              "      <td>1973-05-17</td>\n",
              "      <td>2.0</td>\n",
              "      <td>890</td>\n",
              "      <td>NaN</td>\n",
              "      <td>NaN</td>\n",
              "      <td>NaN</td>\n",
              "      <td>NaN</td>\n",
              "      <td>0</td>\n",
              "      <td>NaN</td>\n",
              "      <td>NaN</td>\n",
              "      <td>NaN</td>\n",
              "      <td>NaN</td>\n",
              "      <td>NaN</td>\n",
              "      <td>1988-04-18</td>\n",
              "      <td>NaN</td>\n",
              "      <td>NaN</td>\n",
              "      <td>NaN</td>\n",
              "      <td>4.0</td>\n",
              "      <td>17.0</td>\n",
              "      <td>1.0</td>\n",
              "      <td>518.0</td>\n",
              "      <td>10.0</td>\n",
              "      <td>NaN</td>\n",
              "      <td>NaN</td>\n",
              "      <td>NaN</td>\n",
              "      <td>NaN</td>\n",
              "      <td>1988</td>\n",
              "      <td>11.0</td>\n",
              "      <td>5450.0</td>\n",
              "    </tr>\n",
              "    <tr>\n",
              "      <th>2</th>\n",
              "      <td>0</td>\n",
              "      <td>90</td>\n",
              "      <td>1</td>\n",
              "      <td>7601326</td>\n",
              "      <td>4.0</td>\n",
              "      <td>1985-01-31</td>\n",
              "      <td>2.0</td>\n",
              "      <td>440</td>\n",
              "      <td>NaN</td>\n",
              "      <td>NaN</td>\n",
              "      <td>NaN</td>\n",
              "      <td>NaN</td>\n",
              "      <td>0</td>\n",
              "      <td>NaN</td>\n",
              "      <td>NaN</td>\n",
              "      <td>NaN</td>\n",
              "      <td>NaN</td>\n",
              "      <td>NaN</td>\n",
              "      <td>1988-03-21</td>\n",
              "      <td>NaN</td>\n",
              "      <td>NaN</td>\n",
              "      <td>NaN</td>\n",
              "      <td>10.0</td>\n",
              "      <td>13.0</td>\n",
              "      <td>NaN</td>\n",
              "      <td>NaN</td>\n",
              "      <td>NaN</td>\n",
              "      <td>NaN</td>\n",
              "      <td>NaN</td>\n",
              "      <td>NaN</td>\n",
              "      <td>NaN</td>\n",
              "      <td>1988</td>\n",
              "      <td>NaN</td>\n",
              "      <td>1145.0</td>\n",
              "    </tr>\n",
              "    <tr>\n",
              "      <th>3</th>\n",
              "      <td>0</td>\n",
              "      <td>90</td>\n",
              "      <td>1</td>\n",
              "      <td>7700081</td>\n",
              "      <td>3.0</td>\n",
              "      <td>1984-09-19</td>\n",
              "      <td>2.0</td>\n",
              "      <td>442</td>\n",
              "      <td>NaN</td>\n",
              "      <td>NaN</td>\n",
              "      <td>NaN</td>\n",
              "      <td>NaN</td>\n",
              "      <td>0</td>\n",
              "      <td>NaN</td>\n",
              "      <td>NaN</td>\n",
              "      <td>NaN</td>\n",
              "      <td>NaN</td>\n",
              "      <td>NaN</td>\n",
              "      <td>1985-10-19</td>\n",
              "      <td>NaN</td>\n",
              "      <td>NaN</td>\n",
              "      <td>NaN</td>\n",
              "      <td>10.0</td>\n",
              "      <td>13.0</td>\n",
              "      <td>NaN</td>\n",
              "      <td>NaN</td>\n",
              "      <td>NaN</td>\n",
              "      <td>NaN</td>\n",
              "      <td>NaN</td>\n",
              "      <td>NaN</td>\n",
              "      <td>NaN</td>\n",
              "      <td>1988</td>\n",
              "      <td>NaN</td>\n",
              "      <td>395.0</td>\n",
              "    </tr>\n",
              "    <tr>\n",
              "      <th>4</th>\n",
              "      <td>0</td>\n",
              "      <td>90</td>\n",
              "      <td>1</td>\n",
              "      <td>7901559</td>\n",
              "      <td>2.0</td>\n",
              "      <td>1979-06-15</td>\n",
              "      <td>2.0</td>\n",
              "      <td>550</td>\n",
              "      <td>NaN</td>\n",
              "      <td>NaN</td>\n",
              "      <td>NaN</td>\n",
              "      <td>NaN</td>\n",
              "      <td>0</td>\n",
              "      <td>NaN</td>\n",
              "      <td>NaN</td>\n",
              "      <td>NaN</td>\n",
              "      <td>NaN</td>\n",
              "      <td>NaN</td>\n",
              "      <td>1987-12-10</td>\n",
              "      <td>NaN</td>\n",
              "      <td>NaN</td>\n",
              "      <td>NaN</td>\n",
              "      <td>12.0</td>\n",
              "      <td>6.0</td>\n",
              "      <td>0.0</td>\n",
              "      <td>NaN</td>\n",
              "      <td>20.0</td>\n",
              "      <td>NaN</td>\n",
              "      <td>NaN</td>\n",
              "      <td>NaN</td>\n",
              "      <td>NaN</td>\n",
              "      <td>1988</td>\n",
              "      <td>20.0</td>\n",
              "      <td>3100.0</td>\n",
              "    </tr>\n",
              "  </tbody>\n",
              "</table>\n",
              "</div>"
            ],
            "text/plain": [
              "   CIRCUIT DISTRICT OFFICE   DOCKET  ...  STATUSCD TAPEYEAR  LABEL  CASEDAYS\n",
              "0        0       90      1  7101462  ...       NaN     1988   13.0    5233.0\n",
              "1        0       90      1  7300974  ...       NaN     1988   11.0    5450.0\n",
              "2        0       90      1  7601326  ...       NaN     1988    NaN    1145.0\n",
              "3        0       90      1  7700081  ...       NaN     1988    NaN     395.0\n",
              "4        0       90      1  7901559  ...       NaN     1988   20.0    3100.0\n",
              "\n",
              "[5 rows x 34 columns]"
            ]
          },
          "metadata": {
            "tags": []
          },
          "execution_count": 9
        }
      ]
    },
    {
      "cell_type": "code",
      "metadata": {
        "colab": {
          "base_uri": "https://localhost:8080/"
        },
        "id": "DfqKIy0o_HkZ",
        "outputId": "c52e1bff-5696-41a6-fe62-994863398aee"
      },
      "source": [
        "missing_value_count = df.isnull().sum()\n",
        "total_cells = np.product(df.shape)\n",
        "total_missing = missing_value_count.sum()\n",
        "percentage_missing = (total_missing/total_cells)*100\n",
        "print(\"Missing Values Count:\")\n",
        "print(missing_value_count)\n",
        "print(\"Percentage of missing data:\",percentage_missing)"
      ],
      "execution_count": 10,
      "outputs": [
        {
          "output_type": "stream",
          "text": [
            "Missing Values Count:\n",
            "CIRCUIT           0\n",
            "DISTRICT          0\n",
            "OFFICE            0\n",
            "DOCKET            0\n",
            "ORIGIN          550\n",
            "FILEDATE          0\n",
            "JURIS             1\n",
            "NOS               0\n",
            "RESIDENC    6511026\n",
            "JURY        5132105\n",
            "CLASSACT    9082443\n",
            "DEMANDED     411258\n",
            "COUNTY            0\n",
            "ARBIT       8912329\n",
            "TRANSDAT    9140825\n",
            "TRANSOFF    9123116\n",
            "TRANSDOC    9117462\n",
            "TRANSORG    8999142\n",
            "TERMDATE          6\n",
            "TRCLACT     9133262\n",
            "TERMJUDG    9222144\n",
            "TERMMAG     9222144\n",
            "PROCPROG     578117\n",
            "DISP         578117\n",
            "NOJ         4666897\n",
            "AMTREC      1115570\n",
            "JUDGMENT    7236686\n",
            "TRMARB      9035709\n",
            "PROSE       2170918\n",
            "IFP         8369953\n",
            "STATUSCD    3183081\n",
            "TAPEYEAR          0\n",
            "LABEL       7242691\n",
            "CASEDAYS          6\n",
            "dtype: int64\n",
            "Percentage of missing data: 44.07089194928054\n"
          ],
          "name": "stdout"
        }
      ]
    },
    {
      "cell_type": "code",
      "metadata": {
        "colab": {
          "base_uri": "https://localhost:8080/"
        },
        "id": "7b4XY2GSC4aj",
        "outputId": "3a719c0f-fa5c-458f-dbc4-d7f4b3791f93"
      },
      "source": [
        "df.dropna(subset=[\"LABEL\",\"ORIGIN\"],inplace=True)\n",
        "threshold = len(df)*0.80\n",
        "print(\"Old Shape:\",df.shape)\n",
        "df.dropna(axis=1,thresh=threshold,inplace=True)\n",
        "print(\"New Shape:\",df.shape)"
      ],
      "execution_count": 11,
      "outputs": [
        {
          "output_type": "stream",
          "text": [
            "Old Shape: (1979238, 34)\n",
            "New Shape: (1979238, 19)\n"
          ],
          "name": "stdout"
        }
      ]
    },
    {
      "cell_type": "code",
      "metadata": {
        "colab": {
          "base_uri": "https://localhost:8080/",
          "height": 289
        },
        "id": "IDqUKEgqjvwj",
        "outputId": "20e9bfee-f218-48ff-bfe4-5d9fe89db829"
      },
      "source": [
        "df.head()"
      ],
      "execution_count": 12,
      "outputs": [
        {
          "output_type": "execute_result",
          "data": {
            "text/html": [
              "<div>\n",
              "<style scoped>\n",
              "    .dataframe tbody tr th:only-of-type {\n",
              "        vertical-align: middle;\n",
              "    }\n",
              "\n",
              "    .dataframe tbody tr th {\n",
              "        vertical-align: top;\n",
              "    }\n",
              "\n",
              "    .dataframe thead th {\n",
              "        text-align: right;\n",
              "    }\n",
              "</style>\n",
              "<table border=\"1\" class=\"dataframe\">\n",
              "  <thead>\n",
              "    <tr style=\"text-align: right;\">\n",
              "      <th></th>\n",
              "      <th>CIRCUIT</th>\n",
              "      <th>DISTRICT</th>\n",
              "      <th>OFFICE</th>\n",
              "      <th>DOCKET</th>\n",
              "      <th>ORIGIN</th>\n",
              "      <th>FILEDATE</th>\n",
              "      <th>JURIS</th>\n",
              "      <th>NOS</th>\n",
              "      <th>DEMANDED</th>\n",
              "      <th>COUNTY</th>\n",
              "      <th>TERMDATE</th>\n",
              "      <th>PROCPROG</th>\n",
              "      <th>DISP</th>\n",
              "      <th>NOJ</th>\n",
              "      <th>AMTREC</th>\n",
              "      <th>JUDGMENT</th>\n",
              "      <th>TAPEYEAR</th>\n",
              "      <th>LABEL</th>\n",
              "      <th>CASEDAYS</th>\n",
              "    </tr>\n",
              "  </thead>\n",
              "  <tbody>\n",
              "    <tr>\n",
              "      <th>0</th>\n",
              "      <td>0</td>\n",
              "      <td>90</td>\n",
              "      <td>1</td>\n",
              "      <td>7101462</td>\n",
              "      <td>4.0</td>\n",
              "      <td>1971-07-21</td>\n",
              "      <td>3.0</td>\n",
              "      <td>440</td>\n",
              "      <td>NaN</td>\n",
              "      <td>0</td>\n",
              "      <td>1985-11-17</td>\n",
              "      <td>6.0</td>\n",
              "      <td>9.0</td>\n",
              "      <td>3.0</td>\n",
              "      <td>NaN</td>\n",
              "      <td>10.0</td>\n",
              "      <td>1988</td>\n",
              "      <td>13.0</td>\n",
              "      <td>5233.0</td>\n",
              "    </tr>\n",
              "    <tr>\n",
              "      <th>1</th>\n",
              "      <td>0</td>\n",
              "      <td>90</td>\n",
              "      <td>1</td>\n",
              "      <td>7300974</td>\n",
              "      <td>4.0</td>\n",
              "      <td>1973-05-17</td>\n",
              "      <td>2.0</td>\n",
              "      <td>890</td>\n",
              "      <td>NaN</td>\n",
              "      <td>0</td>\n",
              "      <td>1988-04-18</td>\n",
              "      <td>4.0</td>\n",
              "      <td>17.0</td>\n",
              "      <td>1.0</td>\n",
              "      <td>518.0</td>\n",
              "      <td>10.0</td>\n",
              "      <td>1988</td>\n",
              "      <td>11.0</td>\n",
              "      <td>5450.0</td>\n",
              "    </tr>\n",
              "    <tr>\n",
              "      <th>4</th>\n",
              "      <td>0</td>\n",
              "      <td>90</td>\n",
              "      <td>1</td>\n",
              "      <td>7901559</td>\n",
              "      <td>2.0</td>\n",
              "      <td>1979-06-15</td>\n",
              "      <td>2.0</td>\n",
              "      <td>550</td>\n",
              "      <td>NaN</td>\n",
              "      <td>0</td>\n",
              "      <td>1987-12-10</td>\n",
              "      <td>12.0</td>\n",
              "      <td>6.0</td>\n",
              "      <td>0.0</td>\n",
              "      <td>NaN</td>\n",
              "      <td>20.0</td>\n",
              "      <td>1988</td>\n",
              "      <td>20.0</td>\n",
              "      <td>3100.0</td>\n",
              "    </tr>\n",
              "    <tr>\n",
              "      <th>5</th>\n",
              "      <td>0</td>\n",
              "      <td>90</td>\n",
              "      <td>1</td>\n",
              "      <td>7902405</td>\n",
              "      <td>1.0</td>\n",
              "      <td>1979-09-10</td>\n",
              "      <td>2.0</td>\n",
              "      <td>442</td>\n",
              "      <td>NaN</td>\n",
              "      <td>0</td>\n",
              "      <td>1988-04-08</td>\n",
              "      <td>8.0</td>\n",
              "      <td>9.0</td>\n",
              "      <td>0.0</td>\n",
              "      <td>NaN</td>\n",
              "      <td>20.0</td>\n",
              "      <td>1988</td>\n",
              "      <td>20.0</td>\n",
              "      <td>3133.0</td>\n",
              "    </tr>\n",
              "    <tr>\n",
              "      <th>8</th>\n",
              "      <td>0</td>\n",
              "      <td>90</td>\n",
              "      <td>1</td>\n",
              "      <td>8001844</td>\n",
              "      <td>4.0</td>\n",
              "      <td>1988-03-01</td>\n",
              "      <td>2.0</td>\n",
              "      <td>440</td>\n",
              "      <td>0.0</td>\n",
              "      <td>99999</td>\n",
              "      <td>1988-04-26</td>\n",
              "      <td>4.0</td>\n",
              "      <td>6.0</td>\n",
              "      <td>0.0</td>\n",
              "      <td>0.0</td>\n",
              "      <td>20.0</td>\n",
              "      <td>1988</td>\n",
              "      <td>20.0</td>\n",
              "      <td>56.0</td>\n",
              "    </tr>\n",
              "  </tbody>\n",
              "</table>\n",
              "</div>"
            ],
            "text/plain": [
              "   CIRCUIT DISTRICT OFFICE   DOCKET  ...  JUDGMENT TAPEYEAR  LABEL  CASEDAYS\n",
              "0        0       90      1  7101462  ...      10.0     1988   13.0    5233.0\n",
              "1        0       90      1  7300974  ...      10.0     1988   11.0    5450.0\n",
              "4        0       90      1  7901559  ...      20.0     1988   20.0    3100.0\n",
              "5        0       90      1  7902405  ...      20.0     1988   20.0    3133.0\n",
              "8        0       90      1  8001844  ...      20.0     1988   20.0      56.0\n",
              "\n",
              "[5 rows x 19 columns]"
            ]
          },
          "metadata": {
            "tags": []
          },
          "execution_count": 12
        }
      ]
    },
    {
      "cell_type": "code",
      "metadata": {
        "colab": {
          "base_uri": "https://localhost:8080/",
          "height": 411
        },
        "id": "ffG9NJ-TLEya",
        "outputId": "3e79895d-c94c-493a-f8c1-73629a0dc5de"
      },
      "source": [
        "#to_drop = [\"TITL\",\"SECTION\",\"FILEJUDG\",\"FILEMAG\",\"MDLDOCK\",\"PLT\",\"DEF\",\"SUBSECT\",\"DJOINED\",\"PRETRIAL\",\"TRIBEGAN\",\"TRIALEND\",\"AMTREC\",\"TDATEUSE\",\"FDATEUSE\"]\n",
        "#print(to_drop)\n",
        "#print(to_drop[0])\n",
        "#for i in range(0,len(to_drop)):\n",
        "#    df.drop(to_drop[i],axis=1,inplace=True)\n",
        "\n",
        "#df.drop([\"TITL\",\"SECTION\",\"FILEJUDG\",\"FILEMAG\",\"MDLDOCK\",\"PLT\",\"DEF\",\"SUBSECT\",\"DJOINED\",\"PRETRIAL\",\"TRIBEGAN\",\"TRIALEND\",\"AMTREC\",\"TDATEUSE\",\"FDATEUSE\"],axis=1,inplace=True)\n",
        "#df.isnull().any()"
      ],
      "execution_count": 9,
      "outputs": [
        {
          "output_type": "error",
          "ename": "KeyError",
          "evalue": "ignored",
          "traceback": [
            "\u001b[0;31m---------------------------------------------------------------------------\u001b[0m",
            "\u001b[0;31mKeyError\u001b[0m                                  Traceback (most recent call last)",
            "\u001b[0;32m<ipython-input-9-69e2e13f0dee>\u001b[0m in \u001b[0;36m<module>\u001b[0;34m()\u001b[0m\n\u001b[1;32m      5\u001b[0m \u001b[0;31m#    df.drop(to_drop[i],axis=1,inplace=True)\u001b[0m\u001b[0;34m\u001b[0m\u001b[0;34m\u001b[0m\u001b[0;34m\u001b[0m\u001b[0m\n\u001b[1;32m      6\u001b[0m \u001b[0;34m\u001b[0m\u001b[0m\n\u001b[0;32m----> 7\u001b[0;31m \u001b[0mdf\u001b[0m\u001b[0;34m.\u001b[0m\u001b[0mdrop\u001b[0m\u001b[0;34m(\u001b[0m\u001b[0;34m[\u001b[0m\u001b[0;34m\"TITL\"\u001b[0m\u001b[0;34m,\u001b[0m\u001b[0;34m\"SECTION\"\u001b[0m\u001b[0;34m,\u001b[0m\u001b[0;34m\"FILEJUDG\"\u001b[0m\u001b[0;34m,\u001b[0m\u001b[0;34m\"FILEMAG\"\u001b[0m\u001b[0;34m,\u001b[0m\u001b[0;34m\"MDLDOCK\"\u001b[0m\u001b[0;34m,\u001b[0m\u001b[0;34m\"PLT\"\u001b[0m\u001b[0;34m,\u001b[0m\u001b[0;34m\"DEF\"\u001b[0m\u001b[0;34m,\u001b[0m\u001b[0;34m\"SUBSECT\"\u001b[0m\u001b[0;34m,\u001b[0m\u001b[0;34m\"DJOINED\"\u001b[0m\u001b[0;34m,\u001b[0m\u001b[0;34m\"PRETRIAL\"\u001b[0m\u001b[0;34m,\u001b[0m\u001b[0;34m\"TRIBEGAN\"\u001b[0m\u001b[0;34m,\u001b[0m\u001b[0;34m\"TRIALEND\"\u001b[0m\u001b[0;34m,\u001b[0m\u001b[0;34m\"AMTREC\"\u001b[0m\u001b[0;34m,\u001b[0m\u001b[0;34m\"TDATEUSE\"\u001b[0m\u001b[0;34m,\u001b[0m\u001b[0;34m\"FDATEUSE\"\u001b[0m\u001b[0;34m]\u001b[0m\u001b[0;34m,\u001b[0m\u001b[0maxis\u001b[0m\u001b[0;34m=\u001b[0m\u001b[0;36m1\u001b[0m\u001b[0;34m,\u001b[0m\u001b[0minplace\u001b[0m\u001b[0;34m=\u001b[0m\u001b[0;32mTrue\u001b[0m\u001b[0;34m)\u001b[0m\u001b[0;34m\u001b[0m\u001b[0;34m\u001b[0m\u001b[0m\n\u001b[0m\u001b[1;32m      8\u001b[0m \u001b[0mdf\u001b[0m\u001b[0;34m.\u001b[0m\u001b[0misnull\u001b[0m\u001b[0;34m(\u001b[0m\u001b[0;34m)\u001b[0m\u001b[0;34m.\u001b[0m\u001b[0many\u001b[0m\u001b[0;34m(\u001b[0m\u001b[0;34m)\u001b[0m\u001b[0;34m\u001b[0m\u001b[0;34m\u001b[0m\u001b[0m\n",
            "\u001b[0;32m/usr/local/lib/python3.7/dist-packages/pandas/core/frame.py\u001b[0m in \u001b[0;36mdrop\u001b[0;34m(self, labels, axis, index, columns, level, inplace, errors)\u001b[0m\n\u001b[1;32m   4172\u001b[0m             \u001b[0mlevel\u001b[0m\u001b[0;34m=\u001b[0m\u001b[0mlevel\u001b[0m\u001b[0;34m,\u001b[0m\u001b[0;34m\u001b[0m\u001b[0;34m\u001b[0m\u001b[0m\n\u001b[1;32m   4173\u001b[0m             \u001b[0minplace\u001b[0m\u001b[0;34m=\u001b[0m\u001b[0minplace\u001b[0m\u001b[0;34m,\u001b[0m\u001b[0;34m\u001b[0m\u001b[0;34m\u001b[0m\u001b[0m\n\u001b[0;32m-> 4174\u001b[0;31m             \u001b[0merrors\u001b[0m\u001b[0;34m=\u001b[0m\u001b[0merrors\u001b[0m\u001b[0;34m,\u001b[0m\u001b[0;34m\u001b[0m\u001b[0;34m\u001b[0m\u001b[0m\n\u001b[0m\u001b[1;32m   4175\u001b[0m         )\n\u001b[1;32m   4176\u001b[0m \u001b[0;34m\u001b[0m\u001b[0m\n",
            "\u001b[0;32m/usr/local/lib/python3.7/dist-packages/pandas/core/generic.py\u001b[0m in \u001b[0;36mdrop\u001b[0;34m(self, labels, axis, index, columns, level, inplace, errors)\u001b[0m\n\u001b[1;32m   3887\u001b[0m         \u001b[0;32mfor\u001b[0m \u001b[0maxis\u001b[0m\u001b[0;34m,\u001b[0m \u001b[0mlabels\u001b[0m \u001b[0;32min\u001b[0m \u001b[0maxes\u001b[0m\u001b[0;34m.\u001b[0m\u001b[0mitems\u001b[0m\u001b[0;34m(\u001b[0m\u001b[0;34m)\u001b[0m\u001b[0;34m:\u001b[0m\u001b[0;34m\u001b[0m\u001b[0;34m\u001b[0m\u001b[0m\n\u001b[1;32m   3888\u001b[0m             \u001b[0;32mif\u001b[0m \u001b[0mlabels\u001b[0m \u001b[0;32mis\u001b[0m \u001b[0;32mnot\u001b[0m \u001b[0;32mNone\u001b[0m\u001b[0;34m:\u001b[0m\u001b[0;34m\u001b[0m\u001b[0;34m\u001b[0m\u001b[0m\n\u001b[0;32m-> 3889\u001b[0;31m                 \u001b[0mobj\u001b[0m \u001b[0;34m=\u001b[0m \u001b[0mobj\u001b[0m\u001b[0;34m.\u001b[0m\u001b[0m_drop_axis\u001b[0m\u001b[0;34m(\u001b[0m\u001b[0mlabels\u001b[0m\u001b[0;34m,\u001b[0m \u001b[0maxis\u001b[0m\u001b[0;34m,\u001b[0m \u001b[0mlevel\u001b[0m\u001b[0;34m=\u001b[0m\u001b[0mlevel\u001b[0m\u001b[0;34m,\u001b[0m \u001b[0merrors\u001b[0m\u001b[0;34m=\u001b[0m\u001b[0merrors\u001b[0m\u001b[0;34m)\u001b[0m\u001b[0;34m\u001b[0m\u001b[0;34m\u001b[0m\u001b[0m\n\u001b[0m\u001b[1;32m   3890\u001b[0m \u001b[0;34m\u001b[0m\u001b[0m\n\u001b[1;32m   3891\u001b[0m         \u001b[0;32mif\u001b[0m \u001b[0minplace\u001b[0m\u001b[0;34m:\u001b[0m\u001b[0;34m\u001b[0m\u001b[0;34m\u001b[0m\u001b[0m\n",
            "\u001b[0;32m/usr/local/lib/python3.7/dist-packages/pandas/core/generic.py\u001b[0m in \u001b[0;36m_drop_axis\u001b[0;34m(self, labels, axis, level, errors)\u001b[0m\n\u001b[1;32m   3921\u001b[0m                 \u001b[0mnew_axis\u001b[0m \u001b[0;34m=\u001b[0m \u001b[0maxis\u001b[0m\u001b[0;34m.\u001b[0m\u001b[0mdrop\u001b[0m\u001b[0;34m(\u001b[0m\u001b[0mlabels\u001b[0m\u001b[0;34m,\u001b[0m \u001b[0mlevel\u001b[0m\u001b[0;34m=\u001b[0m\u001b[0mlevel\u001b[0m\u001b[0;34m,\u001b[0m \u001b[0merrors\u001b[0m\u001b[0;34m=\u001b[0m\u001b[0merrors\u001b[0m\u001b[0;34m)\u001b[0m\u001b[0;34m\u001b[0m\u001b[0;34m\u001b[0m\u001b[0m\n\u001b[1;32m   3922\u001b[0m             \u001b[0;32melse\u001b[0m\u001b[0;34m:\u001b[0m\u001b[0;34m\u001b[0m\u001b[0;34m\u001b[0m\u001b[0m\n\u001b[0;32m-> 3923\u001b[0;31m                 \u001b[0mnew_axis\u001b[0m \u001b[0;34m=\u001b[0m \u001b[0maxis\u001b[0m\u001b[0;34m.\u001b[0m\u001b[0mdrop\u001b[0m\u001b[0;34m(\u001b[0m\u001b[0mlabels\u001b[0m\u001b[0;34m,\u001b[0m \u001b[0merrors\u001b[0m\u001b[0;34m=\u001b[0m\u001b[0merrors\u001b[0m\u001b[0;34m)\u001b[0m\u001b[0;34m\u001b[0m\u001b[0;34m\u001b[0m\u001b[0m\n\u001b[0m\u001b[1;32m   3924\u001b[0m             \u001b[0mresult\u001b[0m \u001b[0;34m=\u001b[0m \u001b[0mself\u001b[0m\u001b[0;34m.\u001b[0m\u001b[0mreindex\u001b[0m\u001b[0;34m(\u001b[0m\u001b[0;34m**\u001b[0m\u001b[0;34m{\u001b[0m\u001b[0maxis_name\u001b[0m\u001b[0;34m:\u001b[0m \u001b[0mnew_axis\u001b[0m\u001b[0;34m}\u001b[0m\u001b[0;34m)\u001b[0m\u001b[0;34m\u001b[0m\u001b[0;34m\u001b[0m\u001b[0m\n\u001b[1;32m   3925\u001b[0m \u001b[0;34m\u001b[0m\u001b[0m\n",
            "\u001b[0;32m/usr/local/lib/python3.7/dist-packages/pandas/core/indexes/base.py\u001b[0m in \u001b[0;36mdrop\u001b[0;34m(self, labels, errors)\u001b[0m\n\u001b[1;32m   5285\u001b[0m         \u001b[0;32mif\u001b[0m \u001b[0mmask\u001b[0m\u001b[0;34m.\u001b[0m\u001b[0many\u001b[0m\u001b[0;34m(\u001b[0m\u001b[0;34m)\u001b[0m\u001b[0;34m:\u001b[0m\u001b[0;34m\u001b[0m\u001b[0;34m\u001b[0m\u001b[0m\n\u001b[1;32m   5286\u001b[0m             \u001b[0;32mif\u001b[0m \u001b[0merrors\u001b[0m \u001b[0;34m!=\u001b[0m \u001b[0;34m\"ignore\"\u001b[0m\u001b[0;34m:\u001b[0m\u001b[0;34m\u001b[0m\u001b[0;34m\u001b[0m\u001b[0m\n\u001b[0;32m-> 5287\u001b[0;31m                 \u001b[0;32mraise\u001b[0m \u001b[0mKeyError\u001b[0m\u001b[0;34m(\u001b[0m\u001b[0;34mf\"{labels[mask]} not found in axis\"\u001b[0m\u001b[0;34m)\u001b[0m\u001b[0;34m\u001b[0m\u001b[0;34m\u001b[0m\u001b[0m\n\u001b[0m\u001b[1;32m   5288\u001b[0m             \u001b[0mindexer\u001b[0m \u001b[0;34m=\u001b[0m \u001b[0mindexer\u001b[0m\u001b[0;34m[\u001b[0m\u001b[0;34m~\u001b[0m\u001b[0mmask\u001b[0m\u001b[0;34m]\u001b[0m\u001b[0;34m\u001b[0m\u001b[0;34m\u001b[0m\u001b[0m\n\u001b[1;32m   5289\u001b[0m         \u001b[0;32mreturn\u001b[0m \u001b[0mself\u001b[0m\u001b[0;34m.\u001b[0m\u001b[0mdelete\u001b[0m\u001b[0;34m(\u001b[0m\u001b[0mindexer\u001b[0m\u001b[0;34m)\u001b[0m\u001b[0;34m\u001b[0m\u001b[0;34m\u001b[0m\u001b[0m\n",
            "\u001b[0;31mKeyError\u001b[0m: \"['TITL' 'SECTION' 'FILEJUDG' 'FILEMAG' 'MDLDOCK' 'PLT' 'DEF' 'SUBSECT'\\n 'DJOINED' 'PRETRIAL' 'TRIBEGAN' 'TRIALEND' 'AMTREC' 'TDATEUSE' 'FDATEUSE'] not found in axis\""
          ]
        }
      ]
    },
    {
      "cell_type": "code",
      "metadata": {
        "colab": {
          "base_uri": "https://localhost:8080/",
          "height": 683
        },
        "id": "8SOJzLuC4vV4",
        "outputId": "2da97283-0e69-494e-a011-ac429dfbacd3"
      },
      "source": [
        "missing_value_count = df.isnull().sum()\n",
        "total_cells = np.product(df.shape)\n",
        "total_missing = missing_value_count.sum()\n",
        "percentage_missing = (total_missing/total_cells)*100\n",
        "print(\"Missing Values Count:\")\n",
        "print(missing_value_count)\n",
        "print(\"Percentage of missing data:\",percentage_missing)\n",
        "df.tail()\n"
      ],
      "execution_count": 12,
      "outputs": [
        {
          "output_type": "stream",
          "text": [
            "Missing Values Count:\n",
            "CIRCUIT          0\n",
            "DISTRICT         0\n",
            "OFFICE           0\n",
            "DOCKET           0\n",
            "ORIGIN           0\n",
            "FILEDATE         0\n",
            "JURIS            0\n",
            "NOS              0\n",
            "DEMANDED    130061\n",
            "COUNTY           0\n",
            "TERMDATE         0\n",
            "PROCPROG         0\n",
            "DISP             0\n",
            "NOJ              0\n",
            "AMTREC      112310\n",
            "JUDGMENT         0\n",
            "TAPEYEAR         0\n",
            "LABEL            0\n",
            "CASEDAYS         0\n",
            "dtype: int64\n",
            "Percentage of missing data: 0.6445090697052417\n"
          ],
          "name": "stdout"
        },
        {
          "output_type": "execute_result",
          "data": {
            "text/html": [
              "<div>\n",
              "<style scoped>\n",
              "    .dataframe tbody tr th:only-of-type {\n",
              "        vertical-align: middle;\n",
              "    }\n",
              "\n",
              "    .dataframe tbody tr th {\n",
              "        vertical-align: top;\n",
              "    }\n",
              "\n",
              "    .dataframe thead th {\n",
              "        text-align: right;\n",
              "    }\n",
              "</style>\n",
              "<table border=\"1\" class=\"dataframe\">\n",
              "  <thead>\n",
              "    <tr style=\"text-align: right;\">\n",
              "      <th></th>\n",
              "      <th>CIRCUIT</th>\n",
              "      <th>DISTRICT</th>\n",
              "      <th>OFFICE</th>\n",
              "      <th>DOCKET</th>\n",
              "      <th>ORIGIN</th>\n",
              "      <th>FILEDATE</th>\n",
              "      <th>JURIS</th>\n",
              "      <th>NOS</th>\n",
              "      <th>DEMANDED</th>\n",
              "      <th>COUNTY</th>\n",
              "      <th>TERMDATE</th>\n",
              "      <th>PROCPROG</th>\n",
              "      <th>DISP</th>\n",
              "      <th>NOJ</th>\n",
              "      <th>AMTREC</th>\n",
              "      <th>JUDGMENT</th>\n",
              "      <th>TAPEYEAR</th>\n",
              "      <th>LABEL</th>\n",
              "      <th>CASEDAYS</th>\n",
              "    </tr>\n",
              "  </thead>\n",
              "  <tbody>\n",
              "    <tr>\n",
              "      <th>9221609</th>\n",
              "      <td>11</td>\n",
              "      <td>3J</td>\n",
              "      <td>4</td>\n",
              "      <td>2000147</td>\n",
              "      <td>1.0</td>\n",
              "      <td>2020-07-06</td>\n",
              "      <td>3.0</td>\n",
              "      <td>446</td>\n",
              "      <td>0.0</td>\n",
              "      <td>13051</td>\n",
              "      <td>2020-10-07</td>\n",
              "      <td>10.0</td>\n",
              "      <td>17.0</td>\n",
              "      <td>0.0</td>\n",
              "      <td>0.0</td>\n",
              "      <td>30.0</td>\n",
              "      <td>2021</td>\n",
              "      <td>30.0</td>\n",
              "      <td>93.0</td>\n",
              "    </tr>\n",
              "    <tr>\n",
              "      <th>9221620</th>\n",
              "      <td>11</td>\n",
              "      <td>3J</td>\n",
              "      <td>4</td>\n",
              "      <td>2000159</td>\n",
              "      <td>1.0</td>\n",
              "      <td>2020-07-20</td>\n",
              "      <td>4.0</td>\n",
              "      <td>140</td>\n",
              "      <td>531.0</td>\n",
              "      <td>13051</td>\n",
              "      <td>2020-11-17</td>\n",
              "      <td>1.0</td>\n",
              "      <td>5.0</td>\n",
              "      <td>2.0</td>\n",
              "      <td>540.0</td>\n",
              "      <td>10.0</td>\n",
              "      <td>2021</td>\n",
              "      <td>12.0</td>\n",
              "      <td>120.0</td>\n",
              "    </tr>\n",
              "    <tr>\n",
              "      <th>9221788</th>\n",
              "      <td>11</td>\n",
              "      <td>3J</td>\n",
              "      <td>5</td>\n",
              "      <td>1500065</td>\n",
              "      <td>1.0</td>\n",
              "      <td>2015-08-17</td>\n",
              "      <td>3.0</td>\n",
              "      <td>555</td>\n",
              "      <td>0.0</td>\n",
              "      <td>13299</td>\n",
              "      <td>2020-12-17</td>\n",
              "      <td>10.0</td>\n",
              "      <td>17.0</td>\n",
              "      <td>0.0</td>\n",
              "      <td>0.0</td>\n",
              "      <td>20.0</td>\n",
              "      <td>2021</td>\n",
              "      <td>20.0</td>\n",
              "      <td>1949.0</td>\n",
              "    </tr>\n",
              "    <tr>\n",
              "      <th>9222063</th>\n",
              "      <td>11</td>\n",
              "      <td>3J</td>\n",
              "      <td>6</td>\n",
              "      <td>2000035</td>\n",
              "      <td>1.0</td>\n",
              "      <td>2020-04-07</td>\n",
              "      <td>2.0</td>\n",
              "      <td>510</td>\n",
              "      <td>0.0</td>\n",
              "      <td>13031</td>\n",
              "      <td>2020-10-28</td>\n",
              "      <td>10.0</td>\n",
              "      <td>17.0</td>\n",
              "      <td>0.0</td>\n",
              "      <td>0.0</td>\n",
              "      <td>20.0</td>\n",
              "      <td>2021</td>\n",
              "      <td>20.0</td>\n",
              "      <td>204.0</td>\n",
              "    </tr>\n",
              "    <tr>\n",
              "      <th>9222100</th>\n",
              "      <td>11</td>\n",
              "      <td>3J</td>\n",
              "      <td>6</td>\n",
              "      <td>2000079</td>\n",
              "      <td>1.0</td>\n",
              "      <td>2020-08-17</td>\n",
              "      <td>3.0</td>\n",
              "      <td>370</td>\n",
              "      <td>75.0</td>\n",
              "      <td>13031</td>\n",
              "      <td>2020-12-30</td>\n",
              "      <td>1.0</td>\n",
              "      <td>5.0</td>\n",
              "      <td>3.0</td>\n",
              "      <td>0.0</td>\n",
              "      <td>10.0</td>\n",
              "      <td>2021</td>\n",
              "      <td>13.0</td>\n",
              "      <td>135.0</td>\n",
              "    </tr>\n",
              "  </tbody>\n",
              "</table>\n",
              "</div>"
            ],
            "text/plain": [
              "         CIRCUIT DISTRICT OFFICE   DOCKET  ...  JUDGMENT TAPEYEAR  LABEL  CASEDAYS\n",
              "9221609       11       3J      4  2000147  ...      30.0     2021   30.0      93.0\n",
              "9221620       11       3J      4  2000159  ...      10.0     2021   12.0     120.0\n",
              "9221788       11       3J      5  1500065  ...      20.0     2021   20.0    1949.0\n",
              "9222063       11       3J      6  2000035  ...      20.0     2021   20.0     204.0\n",
              "9222100       11       3J      6  2000079  ...      10.0     2021   13.0     135.0\n",
              "\n",
              "[5 rows x 19 columns]"
            ]
          },
          "metadata": {
            "tags": []
          },
          "execution_count": 12
        }
      ]
    },
    {
      "cell_type": "code",
      "metadata": {
        "id": "qspMOaZXdkEE"
      },
      "source": [
        "#Data type modification\n",
        "df[\"DISTRICT\"] = df[\"DISTRICT\"].astype(str)\n",
        "df[\"DISTRICT\"].replace(\"3A\",\"30\",inplace=True)\n",
        "df[\"DISTRICT\"].replace(\"3C\",\"31\",inplace=True)\n",
        "df[\"DISTRICT\"].replace(\"3E\",\"32\",inplace=True)\n",
        "df[\"DISTRICT\"].replace(\"3G\",\"33\",inplace=True)\n",
        "df[\"DISTRICT\"].replace(\"3J\",\"34\",inplace=True)\n",
        "df[\"DISTRICT\"].replace(\"3L\",\"35\",inplace=True)\n",
        "df[\"DISTRICT\"].replace(\"3N\",\"96\",inplace=True)\n",
        "df[\"DISTRICT\"].replace(\"7\",\"95\",inplace=True)"
      ],
      "execution_count": 13,
      "outputs": []
    },
    {
      "cell_type": "code",
      "metadata": {
        "colab": {
          "base_uri": "https://localhost:8080/"
        },
        "id": "nwHWqiGu4Yeq",
        "outputId": "7c4e55d3-5750-4f32-f9d9-586ab161e5a1"
      },
      "source": [
        "df[\"PROSE\"].fillna(0,inplace=True)\n",
        "df[\"PROSE\"].value_counts()"
      ],
      "execution_count": 12,
      "outputs": [
        {
          "output_type": "execute_result",
          "data": {
            "text/plain": [
              "0.0    3169527\n",
              "1.0     954497\n",
              "2.0      90475\n",
              "3.0      15640\n",
              "Name: PROSE, dtype: int64"
            ]
          },
          "metadata": {
            "tags": []
          },
          "execution_count": 12
        }
      ]
    },
    {
      "cell_type": "code",
      "metadata": {
        "colab": {
          "base_uri": "https://localhost:8080/"
        },
        "id": "wDM_Cq234WZ6",
        "outputId": "5c25065d-9239-4214-9d5f-c4a123c49ab0"
      },
      "source": [
        "df[\"STATUSCD\"].fillna(\"L\",inplace=True)\n",
        "df[\"STATUSCD\"].value_counts()"
      ],
      "execution_count": 13,
      "outputs": [
        {
          "output_type": "execute_result",
          "data": {
            "text/plain": [
              "L    4230139\n",
              "Name: STATUSCD, dtype: int64"
            ]
          },
          "metadata": {
            "tags": []
          },
          "execution_count": 13
        }
      ]
    },
    {
      "cell_type": "code",
      "metadata": {
        "colab": {
          "base_uri": "https://localhost:8080/"
        },
        "id": "-bSwa86A3zV7",
        "outputId": "462fd3a1-3881-40eb-ac6c-7c8bf4ee1907"
      },
      "source": [
        "df[\"DEMANDED\"].fillna(0,inplace=True)\n",
        "df[\"DEMANDED\"].value_counts()\n",
        "\n",
        "df[\"AMTREC\"].fillna(0,inplace=True)\n",
        "df[\"AMTREC\"].value_counts()"
      ],
      "execution_count": 14,
      "outputs": [
        {
          "output_type": "execute_result",
          "data": {
            "text/plain": [
              "0.0       1540579\n",
              "1.0         32848\n",
              "9999.0      27608\n",
              "2.0         20931\n",
              "3.0         18507\n",
              "           ...   \n",
              "4138.0          1\n",
              "4135.0          1\n",
              "4133.0          1\n",
              "4132.0          1\n",
              "3144.0          1\n",
              "Name: AMTREC, Length: 6941, dtype: int64"
            ]
          },
          "metadata": {
            "tags": []
          },
          "execution_count": 14
        }
      ]
    },
    {
      "cell_type": "code",
      "metadata": {
        "colab": {
          "base_uri": "https://localhost:8080/"
        },
        "id": "_pD80lXoENWr",
        "outputId": "e9c3f117-1cf2-4c7c-a1dd-fd68e7494687"
      },
      "source": [
        "df[\"JURY\"].fillna(\"N\",inplace=True)\n",
        "df[\"JURY\"].value_counts()"
      ],
      "execution_count": 15,
      "outputs": [
        {
          "output_type": "execute_result",
          "data": {
            "text/plain": [
              "N    2680549\n",
              "P    1071010\n",
              "B     314856\n",
              "D     159877\n",
              "Y       2234\n",
              "J        994\n",
              "X        394\n",
              "T        116\n",
              "1         21\n",
              "U         15\n",
              "9         10\n",
              "0          9\n",
              "M          7\n",
              "8          7\n",
              "3          6\n",
              "5          6\n",
              "2          4\n",
              "F          4\n",
              "6          3\n",
              "K          3\n",
              "I          3\n",
              "S          2\n",
              "H          2\n",
              "4          1\n",
              "L          1\n",
              "O          1\n",
              "A          1\n",
              "R          1\n",
              "Q          1\n",
              "C          1\n",
              "Name: JURY, dtype: int64"
            ]
          },
          "metadata": {
            "tags": []
          },
          "execution_count": 15
        }
      ]
    },
    {
      "cell_type": "code",
      "metadata": {
        "colab": {
          "base_uri": "https://localhost:8080/"
        },
        "id": "qxtAAgurFgOg",
        "outputId": "b4069484-6c50-4436-fdb3-48a771d7e057"
      },
      "source": [
        "print(\"Unique values of target variable :-\", df['LABEL'].unique())"
      ],
      "execution_count": 15,
      "outputs": [
        {
          "output_type": "stream",
          "text": [
            "Unique values of target variable :- [13. 11. 20. 10. 14. 21. 30. 23. 15. 31. 24. 12. 22. 35. 34. 16. 25. 32.\n",
            " 33. 36. 26.]\n"
          ],
          "name": "stdout"
        }
      ]
    },
    {
      "cell_type": "code",
      "metadata": {
        "colab": {
          "base_uri": "https://localhost:8080/"
        },
        "id": "shfogZq6iBy8",
        "outputId": "250effd9-3a01-4646-b80a-bc67fd9a3d2b"
      },
      "source": [
        "df[\"LABEL\"].value_counts()"
      ],
      "execution_count": 15,
      "outputs": [
        {
          "output_type": "execute_result",
          "data": {
            "text/plain": [
              "20.0    1110857\n",
              "11.0     300130\n",
              "10.0     206726\n",
              "12.0     112473\n",
              "14.0      81931\n",
              "30.0      46397\n",
              "25.0      42730\n",
              "13.0      17681\n",
              "21.0      13380\n",
              "15.0      11927\n",
              "16.0       7988\n",
              "24.0       5261\n",
              "31.0       4614\n",
              "22.0       4426\n",
              "34.0       3200\n",
              "26.0       2937\n",
              "32.0       2547\n",
              "33.0       1172\n",
              "23.0       1145\n",
              "35.0       1045\n",
              "36.0        671\n",
              "Name: LABEL, dtype: int64"
            ]
          },
          "metadata": {
            "tags": []
          },
          "execution_count": 15
        }
      ]
    },
    {
      "cell_type": "code",
      "metadata": {
        "colab": {
          "base_uri": "https://localhost:8080/"
        },
        "id": "ofA6aU2fcXJz",
        "outputId": "69a9b6c3-abd4-4082-e4fe-4dfad64c7c97"
      },
      "source": [
        "print(\"Unique values of target variable :-\", df['DISTRICT'].unique())"
      ],
      "execution_count": 16,
      "outputs": [
        {
          "output_type": "stream",
          "text": [
            "Unique values of target variable :- ['90' '0' '1' '2' '3' '4' '5' '6' '95' '8' '9' '10' '11' '12' '13' '14'\n",
            " '15' '91' '16' '17' '18' '19' '20' '22' '23' '24' '25' '35' '96' '36'\n",
            " '37' '38' '39' '40' '41' '42' '43' '44' '45' '46' '47' '48' '49' '50'\n",
            " '51' '52' '53' '54' '55' '56' '57' '58' '60' '61' '62' '63' '64' '65'\n",
            " '66' '67' '68' '69' '7-' '70' '71' '72' '73' '74' '75' '76' '77' '78'\n",
            " '79' '80' '81' '93' '94' '82' '83' '84' '85' '86' '87' '88' '89' '26'\n",
            " '27' '28' '29' '30' '31' '32' '33' '34' '02' '05' '00' '01' '08' '09'\n",
            " '04' '03' '06' '07']\n"
          ],
          "name": "stdout"
        }
      ]
    },
    {
      "cell_type": "code",
      "metadata": {
        "colab": {
          "base_uri": "https://localhost:8080/"
        },
        "id": "DJ2rc5xHHCcp",
        "outputId": "85c6a1f5-fe0e-4bc3-ad59-f573ddfcaa95"
      },
      "source": [
        "print(\"Number of sample under each target value :- \\n\",df['LABEL'].value_counts())"
      ],
      "execution_count": 20,
      "outputs": [
        {
          "output_type": "stream",
          "text": [
            "Number of sample under each target value :- \n",
            " 20.0    1110857\n",
            "11.0     300130\n",
            "10.0     206726\n",
            "12.0     112473\n",
            "14.0      81931\n",
            "30.0      46397\n",
            "25.0      42730\n",
            "13.0      17681\n",
            "21.0      13380\n",
            "15.0      11927\n",
            "16.0       7988\n",
            "24.0       5261\n",
            "31.0       4614\n",
            "22.0       4426\n",
            "34.0       3200\n",
            "26.0       2937\n",
            "32.0       2547\n",
            "33.0       1172\n",
            "23.0       1145\n",
            "35.0       1045\n",
            "36.0        671\n",
            "Name: LABEL, dtype: int64\n"
          ],
          "name": "stdout"
        }
      ]
    },
    {
      "cell_type": "code",
      "metadata": {
        "colab": {
          "base_uri": "https://localhost:8080/",
          "height": 297
        },
        "id": "YT2dAG3LX6GH",
        "outputId": "de187e31-1337-4433-c49d-a7bfaf2588aa"
      },
      "source": [
        "noj_labels = 'No Montary Award','Monetery Award Only','Monetery Award and other','Injunction','Forefiet','Costs only','Costs and attorney fees'\n",
        "#colours = ['silver']\n",
        "plt.pie(df[\"LABEL\"].value_counts(),startangle=90,autopct='%.1f%%')\n",
        "plt.legend(noj_labels, loc=\"best\")\n",
        "plt.axis('equal')\n",
        "plt.tight_layout()\n",
        "plt.show()"
      ],
      "execution_count": 18,
      "outputs": [
        {
          "output_type": "display_data",
          "data": {
            "image/png": "[encoded data removed]",
            "text/plain": [
              "<Figure size 432x288 with 1 Axes>"
            ]
          },
          "metadata": {
            "tags": []
          }
        }
      ]
    },
    {
      "cell_type": "code",
      "metadata": {
        "colab": {
          "base_uri": "https://localhost:8080/"
        },
        "id": "1shMHWXR7JfR",
        "outputId": "198e5bd9-2771-41de-8fe6-9eda27c79320"
      },
      "source": [
        "val = df[\"LABEL\"].value_counts()\n",
        "print(val)"
      ],
      "execution_count": 21,
      "outputs": [
        {
          "output_type": "stream",
          "text": [
            "20.0    1110857\n",
            "11.0     300130\n",
            "10.0     206726\n",
            "12.0     112473\n",
            "14.0      81931\n",
            "30.0      46397\n",
            "25.0      42730\n",
            "13.0      17681\n",
            "21.0      13380\n",
            "15.0      11927\n",
            "16.0       7988\n",
            "24.0       5261\n",
            "31.0       4614\n",
            "22.0       4426\n",
            "34.0       3200\n",
            "26.0       2937\n",
            "32.0       2547\n",
            "33.0       1172\n",
            "23.0       1145\n",
            "35.0       1045\n",
            "36.0        671\n",
            "Name: LABEL, dtype: int64\n"
          ],
          "name": "stdout"
        }
      ]
    },
    {
      "cell_type": "code",
      "metadata": {
        "colab": {
          "base_uri": "https://localhost:8080/",
          "height": 483
        },
        "id": "KwWYCTqUbVMO",
        "outputId": "8970f3ec-368a-44b7-c5f3-97ab380879a9"
      },
      "source": [
        "fig, ax = plt.subplots()\n",
        "\n",
        "size = 1\n",
        "vals = df[\"LABEL\"]\n",
        "\n",
        "cmap = plt.get_cmap(\"tab20c\")\n",
        "outer_colors = cmap(np.arange(3)*4)\n",
        "inner_colors = cmap([1, 2, 3,4,5, 6, 7,8,9, 10])\n",
        "\n",
        "inner_vals = []\n",
        "\n",
        "for index,value in df[\"LABEL\"].value_counts():\n",
        "  if index <= 10:\n",
        "    inner_vals[0]+=value\n",
        "  if index > 10 and index < 20:\n",
        "    inner_vals[1]+=value_counts\n",
        "return inner_vals\n",
        "\n",
        "ax.pie(vals.value_counts(), radius=2.5, colors=outer_colors,\n",
        "       wedgeprops=dict(width=size, edgecolor='w'))\n",
        "\n",
        "ax.pie(vals.flatten(), radius=1-size, colors=inner_colors,\n",
        "       wedgeprops=dict(width=size, edgecolor='w'))\n",
        "\n",
        "ax.set(aspect=\"equal\", title='Pie plot with `ax.pie`')\n",
        "plt.show()"
      ],
      "execution_count": 40,
      "outputs": [
        {
          "output_type": "error",
          "ename": "TypeError",
          "evalue": "ignored",
          "traceback": [
            "\u001b[0;31m---------------------------------------------------------------------------\u001b[0m",
            "\u001b[0;31mTypeError\u001b[0m                                 Traceback (most recent call last)",
            "\u001b[0;32m<ipython-input-40-79585a90ff23>\u001b[0m in \u001b[0;36m<module>\u001b[0;34m()\u001b[0m\n\u001b[1;32m     10\u001b[0m \u001b[0minner_vals\u001b[0m \u001b[0;34m=\u001b[0m \u001b[0;34m[\u001b[0m\u001b[0;34m]\u001b[0m\u001b[0;34m\u001b[0m\u001b[0;34m\u001b[0m\u001b[0m\n\u001b[1;32m     11\u001b[0m \u001b[0;34m\u001b[0m\u001b[0m\n\u001b[0;32m---> 12\u001b[0;31m \u001b[0;32mfor\u001b[0m \u001b[0mindex\u001b[0m\u001b[0;34m,\u001b[0m\u001b[0mvalue\u001b[0m \u001b[0;32min\u001b[0m \u001b[0mdf\u001b[0m\u001b[0;34m[\u001b[0m\u001b[0;34m\"LABEL\"\u001b[0m\u001b[0;34m]\u001b[0m\u001b[0;34m.\u001b[0m\u001b[0mvalue_counts\u001b[0m\u001b[0;34m(\u001b[0m\u001b[0;34m)\u001b[0m\u001b[0;34m:\u001b[0m\u001b[0;34m\u001b[0m\u001b[0;34m\u001b[0m\u001b[0m\n\u001b[0m\u001b[1;32m     13\u001b[0m   \u001b[0;32mif\u001b[0m \u001b[0mindex\u001b[0m \u001b[0;34m<=\u001b[0m \u001b[0;36m10\u001b[0m\u001b[0;34m:\u001b[0m\u001b[0;34m\u001b[0m\u001b[0;34m\u001b[0m\u001b[0m\n\u001b[1;32m     14\u001b[0m     \u001b[0minner_vals\u001b[0m\u001b[0;34m[\u001b[0m\u001b[0;36m0\u001b[0m\u001b[0;34m]\u001b[0m\u001b[0;34m+=\u001b[0m\u001b[0mvalue\u001b[0m\u001b[0;34m\u001b[0m\u001b[0;34m\u001b[0m\u001b[0m\n",
            "\u001b[0;31mTypeError\u001b[0m: cannot unpack non-iterable int object"
          ]
        },
        {
          "output_type": "display_data",
          "data": {
            "image/png": "[encoded data removed]",
            "text/plain": [
              "<Figure size 432x288 with 1 Axes>"
            ]
          },
          "metadata": {
            "tags": [],
            "needs_background": "light"
          }
        }
      ]
    },
    {
      "cell_type": "code",
      "metadata": {
        "colab": {
          "base_uri": "https://localhost:8080/",
          "height": 644
        },
        "id": "MUToiEuLn1X4",
        "outputId": "2f4cb0b6-db15-4860-ed57-edda10809aef"
      },
      "source": [
        "plt.figure(figsize=(10,10))\n",
        "sns.heatmap(data=df.corr(), cmap=\"seismic\")\n",
        "plt.show()"
      ],
      "execution_count": 21,
      "outputs": [
        {
          "output_type": "display_data",
          "data": {
            "image/png": "[encoded data removed]",
            "text/plain": [
              "<Figure size 720x720 with 2 Axes>"
            ]
          },
          "metadata": {
            "tags": [],
            "needs_background": "light"
          }
        }
      ]
    },
    {
      "cell_type": "markdown",
      "metadata": {
        "id": "U4WZYjBdyXJ_"
      },
      "source": [
        "Highest Correlation:\n",
        "PRO SE vs DOCKET\n",
        "PRO SE vs TAPEYEAR\n"
      ]
    },
    {
      "cell_type": "code",
      "metadata": {
        "id": "pntjWWOGzWTz"
      },
      "source": [
        "df.to_csv(\"Output.csv\", index=False, header=True)"
      ],
      "execution_count": 17,
      "outputs": []
    },
    {
      "cell_type": "code",
      "metadata": {
        "colab": {
          "base_uri": "https://localhost:8080/",
          "height": 17
        },
        "id": "SOExU5e31wuX",
        "outputId": "9de4c54b-df18-43dc-cf60-68bd1307f828"
      },
      "source": [
        "from google.colab import files\n",
        "files.download(\"Output.csv\")"
      ],
      "execution_count": 18,
      "outputs": [
        {
          "output_type": "display_data",
          "data": {
            "application/javascript": [
              "\n",
              "    async function download(id, filename, size) {\n",
              "      if (!google.colab.kernel.accessAllowed) {\n",
              "        return;\n",
              "      }\n",
              "      const div = document.createElement('div');\n",
              "      const label = document.createElement('label');\n",
              "      label.textContent = `Downloading \"${filename}\": `;\n",
              "      div.appendChild(label);\n",
              "      const progress = document.createElement('progress');\n",
              "      progress.max = size;\n",
              "      div.appendChild(progress);\n",
              "      document.body.appendChild(div);\n",
              "\n",
              "      const buffers = [];\n",
              "      let downloaded = 0;\n",
              "\n",
              "      const channel = await google.colab.kernel.comms.open(id);\n",
              "      // Send a message to notify the kernel that we're ready.\n",
              "      channel.send({})\n",
              "\n",
              "      for await (const message of channel.messages) {\n",
              "        // Send a message to notify the kernel that we're ready.\n",
              "        channel.send({})\n",
              "        if (message.buffers) {\n",
              "          for (const buffer of message.buffers) {\n",
              "            buffers.push(buffer);\n",
              "            downloaded += buffer.byteLength;\n",
              "            progress.value = downloaded;\n",
              "          }\n",
              "        }\n",
              "      }\n",
              "      const blob = new Blob(buffers, {type: 'application/binary'});\n",
              "      const a = document.createElement('a');\n",
              "      a.href = window.URL.createObjectURL(blob);\n",
              "      a.download = filename;\n",
              "      div.appendChild(a);\n",
              "      a.click();\n",
              "      div.remove();\n",
              "    }\n",
              "  "
            ],
            "text/plain": [
              "<IPython.core.display.Javascript object>"
            ]
          },
          "metadata": {
            "tags": []
          }
        },
        {
          "output_type": "display_data",
          "data": {
            "application/javascript": [
              "download(\"download_6196718d-9ec8-4c63-a6cd-307d73a2ec18\", \"Output.csv\", 190767470)"
            ],
            "text/plain": [
              "<IPython.core.display.Javascript object>"
            ]
          },
          "metadata": {
            "tags": []
          }
        }
      ]
    },
    {
      "cell_type": "code",
      "metadata": {
        "colab": {
          "base_uri": "https://localhost:8080/",
          "height": 163
        },
        "id": "4YnhwmUnZ4Ah",
        "outputId": "45c7dd2f-2761-45bf-f10e-fee9687b1997"
      },
      "source": [
        "df.isnull().sum()"
      ],
      "execution_count": 1,
      "outputs": [
        {
          "output_type": "error",
          "ename": "NameError",
          "evalue": "ignored",
          "traceback": [
            "\u001b[0;31m---------------------------------------------------------------------------\u001b[0m",
            "\u001b[0;31mNameError\u001b[0m                                 Traceback (most recent call last)",
            "\u001b[0;32m<ipython-input-1-629914d6d1c7>\u001b[0m in \u001b[0;36m<module>\u001b[0;34m()\u001b[0m\n\u001b[0;32m----> 1\u001b[0;31m \u001b[0mdf\u001b[0m\u001b[0;34m.\u001b[0m\u001b[0misnull\u001b[0m\u001b[0;34m(\u001b[0m\u001b[0;34m)\u001b[0m\u001b[0;34m.\u001b[0m\u001b[0msum\u001b[0m\u001b[0;34m(\u001b[0m\u001b[0;34m)\u001b[0m\u001b[0;34m\u001b[0m\u001b[0;34m\u001b[0m\u001b[0m\n\u001b[0m",
            "\u001b[0;31mNameError\u001b[0m: name 'df' is not defined"
          ]
        }
      ]
    },
    {
      "cell_type": "code",
      "metadata": {
        "colab": {
          "base_uri": "https://localhost:8080/"
        },
        "id": "Rc5HoUyb9WmR",
        "outputId": "0573ae14-31d4-4fca-c9a3-00e718ebe5c8"
      },
      "source": [
        "import numpy as np\n",
        "import pandas as pd\n",
        "\n",
        "import tensorflow as tf\n",
        "\n",
        "from tensorflow import feature_column\n",
        "from tensorflow.keras import layers\n",
        "from sklearn.model_selection import train_test_split\n",
        "\n",
        "train, test = train_test_split(df, test_size=0.2)\n",
        "train, val = train_test_split(train, test_size=0.2)\n",
        "print(len(train), 'train examples')\n",
        "print(len(val), 'validation examples')\n",
        "print(len(test), 'test examples')"
      ],
      "execution_count": 29,
      "outputs": [
        {
          "output_type": "stream",
          "text": [
            "2707288 train examples\n",
            "676823 validation examples\n",
            "846028 test examples\n"
          ],
          "name": "stdout"
        }
      ]
    },
    {
      "cell_type": "code",
      "metadata": {
        "id": "77Q4qq65g9tL"
      },
      "source": [
        "def get_compiled_model():\n",
        "  model = tf.keras.Sequential([\n",
        "    tf.keras.layers.Dense(10, activation='relu'),\n",
        "    tf.keras.layers.Dense(10, activation='relu'),\n",
        "    tf.keras.layers.Dense(1)\n",
        "  ])\n",
        "\n",
        "  model.compile(optimizer='adam',\n",
        "                loss=tf.keras.losses.BinaryCrossentropy(from_logits=True),\n",
        "                metrics=['accuracy'])\n",
        "  return model"
      ],
      "execution_count": null,
      "outputs": []
    },
    {
      "cell_type": "code",
      "metadata": {
        "id": "S7_DLIdkhGd4"
      },
      "source": [
        "model = get_compiled_model()\n",
        "model.fit(train, epochs=5)"
      ],
      "execution_count": null,
      "outputs": []
    }
  ]
}