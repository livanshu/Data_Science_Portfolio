{
 "cells": [
  {
   "attachments": {},
   "cell_type": "markdown",
   "metadata": {},
   "source": [
    "# Fraud Detection\n",
    "<br>\n",
    "This repo contains the Fraud Detection project as part of my data science portfolio. The objective is to detect fraudulent cases using a dataset of credit card transactions. \n",
    "\n",
    "\n",
    "\n",
    "1. [Problem Statement](#problem)\n",
    "2. [Dataset](#data)\n",
    "3. [Exploratory Data Analysis](#eda)\n",
    "4. [Traditional Method](#trad)\n",
    "5. [Supervised Machine Learning](#sml)\n",
    "6. [Unsupervised Machine Learning](#uml)\n",
    "7. [Discussion and Conclusion](#conclusion)\n"
   ]
  },
  {
   "attachments": {},
   "cell_type": "markdown",
   "metadata": {},
   "source": [
    "# <a name=\"problem\">Problem Statement</a>\n",
    "Organizations around the world lose an estimated five percent of their annual revenues to fraud, according to a survey of Certified Fraud Examiners (CFEs) who investigated cases between January 2010 and December 2011. Applied to the estimated 2011 Gross World Product, this figure translates to a potential total fraud loss of more than $3.5 trillion. ([Source](https://www.acfe.com/press-release.aspx?id=4294973129)). In this project, we will explore how to fight fraud by using data. We will apply machine learning algorithms to detect fraudulent behavior similar to past ones. In fraud analytics we often deal with highly imbalanced datasets when classifying fraud versus non-fraud, and in this project we will examine some techniques on how to deal with that. For example, we will make use of ```imbalanced-learn```, a Python module to balance data set using under- and over-sampling. More info [here](https://anaconda.org/conda-forge/imbalanced-learn).\n",
    "To install this package with conda run the following:<br>\n",
    "``conda install -c conda-forge imbalanced-learn``"
   ]
  },
  {
   "attachments": {},
   "cell_type": "markdown",
   "metadata": {},
   "source": [
    "# <a name=\"data\">Dataset</a>\n",
    "\n",
    "The dataset used in this project is downloaded from DataCamp's [Fraud Detection in Python course](https://www.datacamp.com/courses/fraud-detection-in-python). It is a dataset containing credit card transactions data. Fraud occurrences are fortunately an extreme minority in these transactions. However, Machine Learning algorithms usually work best when the different classes contained in the dataset are more or less equally present. If there are few cases of fraud, then there's little data to learn how to identify them. This is known as **class imbalance**, and it's one of the main challenges of fraud detection. Let's explore this dataset, and observe this class imbalance problem."
   ]
  },
  {
   "attachments": {},
   "cell_type": "markdown",
   "metadata": {},
   "source": [
    "# <a name=\"eda\">Exploratory Data Analysis</a>"
   ]
  },
  {
   "cell_type": "code",
   "execution_count": 1,
   "metadata": {},
   "outputs": [
    {
     "name": "stdout",
     "output_type": "stream",
     "text": [
      "0.20.1\n"
     ]
    }
   ],
   "source": [
    "# import numpy and pandas\n",
    "import numpy as np\n",
    "import pandas as pd\n",
    "\n",
    "# to plot within notebook\n",
    "import seaborn as sns\n",
    "import matplotlib.pyplot as plt\n",
    "%matplotlib inline\n",
    "\n",
    "# machine learning modules\n",
    "from sklearn.model_selection import train_test_split\n",
    "from sklearn.linear_model import LogisticRegression\n",
    "from sklearn.metrics import accuracy_score\n",
    "from sklearn.metrics import classification_report\n",
    "from sklearn.metrics import confusion_matrix\n",
    "from sklearn.metrics import roc_auc_score\n",
    "from sklearn.metrics import roc_curve\n",
    "from sklearn.metrics import homogeneity_score\n",
    "from sklearn.metrics import silhouette_score\n",
    "from sklearn.ensemble import VotingClassifier\n",
    "from sklearn.ensemble import RandomForestClassifier\n",
    "from sklearn.tree import DecisionTreeClassifier\n",
    "from sklearn.cluster import MiniBatchKMeans\n",
    "from sklearn.cluster import DBSCAN\n",
    "from imblearn.over_sampling import SMOTE\n",
    "from imblearn.pipeline import Pipeline \n",
    "from sklearn.model_selection import GridSearchCV\n",
    "from sklearn.preprocessing import MinMaxScaler\n",
    "\n",
    "import sklearn\n",
    "print(sklearn.__version__)"
   ]
  },
  {
   "cell_type": "code",
   "execution_count": 2,
   "metadata": {},
   "outputs": [
    {
     "data": {
      "text/html": [
       "<div>\n",
       "<style scoped>\n",
       "    .dataframe tbody tr th:only-of-type {\n",
       "        vertical-align: middle;\n",
       "    }\n",
       "\n",
       "    .dataframe tbody tr th {\n",
       "        vertical-align: top;\n",
       "    }\n",
       "\n",
       "    .dataframe thead th {\n",
       "        text-align: right;\n",
       "    }\n",
       "</style>\n",
       "<table border=\"1\" class=\"dataframe\">\n",
       "  <thead>\n",
       "    <tr style=\"text-align: right;\">\n",
       "      <th></th>\n",
       "      <th>Unnamed: 0</th>\n",
       "      <th>V1</th>\n",
       "      <th>V2</th>\n",
       "      <th>V3</th>\n",
       "      <th>V4</th>\n",
       "      <th>V5</th>\n",
       "      <th>V6</th>\n",
       "      <th>V7</th>\n",
       "      <th>V8</th>\n",
       "      <th>V9</th>\n",
       "      <th>...</th>\n",
       "      <th>V21</th>\n",
       "      <th>V22</th>\n",
       "      <th>V23</th>\n",
       "      <th>V24</th>\n",
       "      <th>V25</th>\n",
       "      <th>V26</th>\n",
       "      <th>V27</th>\n",
       "      <th>V28</th>\n",
       "      <th>Amount</th>\n",
       "      <th>Class</th>\n",
       "    </tr>\n",
       "  </thead>\n",
       "  <tbody>\n",
       "    <tr>\n",
       "      <th>0</th>\n",
       "      <td>258647</td>\n",
       "      <td>1.725265</td>\n",
       "      <td>-1.337256</td>\n",
       "      <td>-1.012687</td>\n",
       "      <td>-0.361656</td>\n",
       "      <td>-1.431611</td>\n",
       "      <td>-1.098681</td>\n",
       "      <td>-0.842274</td>\n",
       "      <td>-0.026594</td>\n",
       "      <td>-0.032409</td>\n",
       "      <td>...</td>\n",
       "      <td>0.414524</td>\n",
       "      <td>0.793434</td>\n",
       "      <td>0.028887</td>\n",
       "      <td>0.419421</td>\n",
       "      <td>-0.367529</td>\n",
       "      <td>-0.155634</td>\n",
       "      <td>-0.015768</td>\n",
       "      <td>0.010790</td>\n",
       "      <td>189.00</td>\n",
       "      <td>0</td>\n",
       "    </tr>\n",
       "    <tr>\n",
       "      <th>1</th>\n",
       "      <td>69263</td>\n",
       "      <td>0.683254</td>\n",
       "      <td>-1.681875</td>\n",
       "      <td>0.533349</td>\n",
       "      <td>-0.326064</td>\n",
       "      <td>-1.455603</td>\n",
       "      <td>0.101832</td>\n",
       "      <td>-0.520590</td>\n",
       "      <td>0.114036</td>\n",
       "      <td>-0.601760</td>\n",
       "      <td>...</td>\n",
       "      <td>0.116898</td>\n",
       "      <td>-0.304605</td>\n",
       "      <td>-0.125547</td>\n",
       "      <td>0.244848</td>\n",
       "      <td>0.069163</td>\n",
       "      <td>-0.460712</td>\n",
       "      <td>-0.017068</td>\n",
       "      <td>0.063542</td>\n",
       "      <td>315.17</td>\n",
       "      <td>0</td>\n",
       "    </tr>\n",
       "    <tr>\n",
       "      <th>2</th>\n",
       "      <td>96552</td>\n",
       "      <td>1.067973</td>\n",
       "      <td>-0.656667</td>\n",
       "      <td>1.029738</td>\n",
       "      <td>0.253899</td>\n",
       "      <td>-1.172715</td>\n",
       "      <td>0.073232</td>\n",
       "      <td>-0.745771</td>\n",
       "      <td>0.249803</td>\n",
       "      <td>1.383057</td>\n",
       "      <td>...</td>\n",
       "      <td>-0.189315</td>\n",
       "      <td>-0.426743</td>\n",
       "      <td>0.079539</td>\n",
       "      <td>0.129692</td>\n",
       "      <td>0.002778</td>\n",
       "      <td>0.970498</td>\n",
       "      <td>-0.035056</td>\n",
       "      <td>0.017313</td>\n",
       "      <td>59.98</td>\n",
       "      <td>0</td>\n",
       "    </tr>\n",
       "    <tr>\n",
       "      <th>3</th>\n",
       "      <td>281898</td>\n",
       "      <td>0.119513</td>\n",
       "      <td>0.729275</td>\n",
       "      <td>-1.678879</td>\n",
       "      <td>-1.551408</td>\n",
       "      <td>3.128914</td>\n",
       "      <td>3.210632</td>\n",
       "      <td>0.356276</td>\n",
       "      <td>0.920374</td>\n",
       "      <td>-0.160589</td>\n",
       "      <td>...</td>\n",
       "      <td>-0.335825</td>\n",
       "      <td>-0.906171</td>\n",
       "      <td>0.108350</td>\n",
       "      <td>0.593062</td>\n",
       "      <td>-0.424303</td>\n",
       "      <td>0.164201</td>\n",
       "      <td>0.245881</td>\n",
       "      <td>0.071029</td>\n",
       "      <td>0.89</td>\n",
       "      <td>0</td>\n",
       "    </tr>\n",
       "    <tr>\n",
       "      <th>4</th>\n",
       "      <td>86917</td>\n",
       "      <td>1.271253</td>\n",
       "      <td>0.275694</td>\n",
       "      <td>0.159568</td>\n",
       "      <td>1.003096</td>\n",
       "      <td>-0.128535</td>\n",
       "      <td>-0.608730</td>\n",
       "      <td>0.088777</td>\n",
       "      <td>-0.145336</td>\n",
       "      <td>0.156047</td>\n",
       "      <td>...</td>\n",
       "      <td>0.031958</td>\n",
       "      <td>0.123503</td>\n",
       "      <td>-0.174528</td>\n",
       "      <td>-0.147535</td>\n",
       "      <td>0.735909</td>\n",
       "      <td>-0.262270</td>\n",
       "      <td>0.015577</td>\n",
       "      <td>0.015955</td>\n",
       "      <td>6.53</td>\n",
       "      <td>0</td>\n",
       "    </tr>\n",
       "  </tbody>\n",
       "</table>\n",
       "<p>5 rows × 31 columns</p>\n",
       "</div>"
      ],
      "text/plain": [
       "   Unnamed: 0        V1        V2        V3        V4        V5        V6  \\\n",
       "0      258647  1.725265 -1.337256 -1.012687 -0.361656 -1.431611 -1.098681   \n",
       "1       69263  0.683254 -1.681875  0.533349 -0.326064 -1.455603  0.101832   \n",
       "2       96552  1.067973 -0.656667  1.029738  0.253899 -1.172715  0.073232   \n",
       "3      281898  0.119513  0.729275 -1.678879 -1.551408  3.128914  3.210632   \n",
       "4       86917  1.271253  0.275694  0.159568  1.003096 -0.128535 -0.608730   \n",
       "\n",
       "         V7        V8        V9  ...         V21       V22       V23  \\\n",
       "0 -0.842274 -0.026594 -0.032409  ...    0.414524  0.793434  0.028887   \n",
       "1 -0.520590  0.114036 -0.601760  ...    0.116898 -0.304605 -0.125547   \n",
       "2 -0.745771  0.249803  1.383057  ...   -0.189315 -0.426743  0.079539   \n",
       "3  0.356276  0.920374 -0.160589  ...   -0.335825 -0.906171  0.108350   \n",
       "4  0.088777 -0.145336  0.156047  ...    0.031958  0.123503 -0.174528   \n",
       "\n",
       "        V24       V25       V26       V27       V28  Amount  Class  \n",
       "0  0.419421 -0.367529 -0.155634 -0.015768  0.010790  189.00      0  \n",
       "1  0.244848  0.069163 -0.460712 -0.017068  0.063542  315.17      0  \n",
       "2  0.129692  0.002778  0.970498 -0.035056  0.017313   59.98      0  \n",
       "3  0.593062 -0.424303  0.164201  0.245881  0.071029    0.89      0  \n",
       "4 -0.147535  0.735909 -0.262270  0.015577  0.015955    6.53      0  \n",
       "\n",
       "[5 rows x 31 columns]"
      ]
     },
     "execution_count": 2,
     "metadata": {},
     "output_type": "execute_result"
    }
   ],
   "source": [
    "# load the dataset\n",
    "df = pd.read_csv(\"chapter_1/creditcard_sampledata_3.csv\")\n",
    "\n",
    "df.head()"
   ]
  },
  {
   "cell_type": "code",
   "execution_count": 3,
   "metadata": {},
   "outputs": [
    {
     "name": "stdout",
     "output_type": "stream",
     "text": [
      "<class 'pandas.core.frame.DataFrame'>\n",
      "RangeIndex: 5050 entries, 0 to 5049\n",
      "Data columns (total 31 columns):\n",
      "Unnamed: 0    5050 non-null int64\n",
      "V1            5050 non-null float64\n",
      "V2            5050 non-null float64\n",
      "V3            5050 non-null float64\n",
      "V4            5050 non-null float64\n",
      "V5            5050 non-null float64\n",
      "V6            5050 non-null float64\n",
      "V7            5050 non-null float64\n",
      "V8            5050 non-null float64\n",
      "V9            5050 non-null float64\n",
      "V10           5050 non-null float64\n",
      "V11           5050 non-null float64\n",
      "V12           5050 non-null float64\n",
      "V13           5050 non-null float64\n",
      "V14           5050 non-null float64\n",
      "V15           5050 non-null float64\n",
      "V16           5050 non-null float64\n",
      "V17           5050 non-null float64\n",
      "V18           5050 non-null float64\n",
      "V19           5050 non-null float64\n",
      "V20           5050 non-null float64\n",
      "V21           5050 non-null float64\n",
      "V22           5050 non-null float64\n",
      "V23           5050 non-null float64\n",
      "V24           5050 non-null float64\n",
      "V25           5050 non-null float64\n",
      "V26           5050 non-null float64\n",
      "V27           5050 non-null float64\n",
      "V28           5050 non-null float64\n",
      "Amount        5050 non-null float64\n",
      "Class         5050 non-null int64\n",
      "dtypes: float64(29), int64(2)\n",
      "memory usage: 1.2 MB\n",
      "None\n"
     ]
    }
   ],
   "source": [
    "# explore the features available in the dataframe\n",
    "print(df.info())"
   ]
  },
  {
   "cell_type": "code",
   "execution_count": 4,
   "metadata": {},
   "outputs": [
    {
     "data": {
      "text/html": [
       "<div>\n",
       "<style scoped>\n",
       "    .dataframe tbody tr th:only-of-type {\n",
       "        vertical-align: middle;\n",
       "    }\n",
       "\n",
       "    .dataframe tbody tr th {\n",
       "        vertical-align: top;\n",
       "    }\n",
       "\n",
       "    .dataframe thead th {\n",
       "        text-align: right;\n",
       "    }\n",
       "</style>\n",
       "<table border=\"1\" class=\"dataframe\">\n",
       "  <thead>\n",
       "    <tr style=\"text-align: right;\">\n",
       "      <th></th>\n",
       "      <th>Unnamed: 0</th>\n",
       "      <th>V1</th>\n",
       "      <th>V2</th>\n",
       "      <th>V3</th>\n",
       "      <th>V4</th>\n",
       "      <th>V5</th>\n",
       "      <th>V6</th>\n",
       "      <th>V7</th>\n",
       "      <th>V8</th>\n",
       "      <th>V9</th>\n",
       "      <th>...</th>\n",
       "      <th>V21</th>\n",
       "      <th>V22</th>\n",
       "      <th>V23</th>\n",
       "      <th>V24</th>\n",
       "      <th>V25</th>\n",
       "      <th>V26</th>\n",
       "      <th>V27</th>\n",
       "      <th>V28</th>\n",
       "      <th>Amount</th>\n",
       "      <th>Class</th>\n",
       "    </tr>\n",
       "  </thead>\n",
       "  <tbody>\n",
       "    <tr>\n",
       "      <th>count</th>\n",
       "      <td>5050.000000</td>\n",
       "      <td>5050.000000</td>\n",
       "      <td>5050.000000</td>\n",
       "      <td>5050.000000</td>\n",
       "      <td>5050.000000</td>\n",
       "      <td>5050.000000</td>\n",
       "      <td>5050.000000</td>\n",
       "      <td>5050.000000</td>\n",
       "      <td>5050.000000</td>\n",
       "      <td>5050.000000</td>\n",
       "      <td>...</td>\n",
       "      <td>5050.000000</td>\n",
       "      <td>5050.000000</td>\n",
       "      <td>5050.000000</td>\n",
       "      <td>5050.000000</td>\n",
       "      <td>5050.000000</td>\n",
       "      <td>5050.000000</td>\n",
       "      <td>5050.000000</td>\n",
       "      <td>5050.000000</td>\n",
       "      <td>5050.000000</td>\n",
       "      <td>5050.000000</td>\n",
       "    </tr>\n",
       "    <tr>\n",
       "      <th>mean</th>\n",
       "      <td>142870.017030</td>\n",
       "      <td>-0.014675</td>\n",
       "      <td>0.044325</td>\n",
       "      <td>-0.035144</td>\n",
       "      <td>0.002494</td>\n",
       "      <td>-0.046625</td>\n",
       "      <td>-0.046340</td>\n",
       "      <td>-0.043020</td>\n",
       "      <td>-0.008398</td>\n",
       "      <td>-0.027331</td>\n",
       "      <td>...</td>\n",
       "      <td>-0.003516</td>\n",
       "      <td>-0.009421</td>\n",
       "      <td>-0.004147</td>\n",
       "      <td>-0.001200</td>\n",
       "      <td>-0.003314</td>\n",
       "      <td>-0.004836</td>\n",
       "      <td>-0.005726</td>\n",
       "      <td>0.002482</td>\n",
       "      <td>86.117232</td>\n",
       "      <td>0.009901</td>\n",
       "    </tr>\n",
       "    <tr>\n",
       "      <th>std</th>\n",
       "      <td>82574.683531</td>\n",
       "      <td>1.952784</td>\n",
       "      <td>1.558235</td>\n",
       "      <td>1.691458</td>\n",
       "      <td>1.493592</td>\n",
       "      <td>1.321320</td>\n",
       "      <td>1.254301</td>\n",
       "      <td>1.338170</td>\n",
       "      <td>1.323247</td>\n",
       "      <td>1.134506</td>\n",
       "      <td>...</td>\n",
       "      <td>0.756735</td>\n",
       "      <td>0.724749</td>\n",
       "      <td>0.601276</td>\n",
       "      <td>0.599400</td>\n",
       "      <td>0.517363</td>\n",
       "      <td>0.481913</td>\n",
       "      <td>0.411055</td>\n",
       "      <td>0.302719</td>\n",
       "      <td>227.210259</td>\n",
       "      <td>0.099020</td>\n",
       "    </tr>\n",
       "    <tr>\n",
       "      <th>min</th>\n",
       "      <td>5.000000</td>\n",
       "      <td>-25.266355</td>\n",
       "      <td>-18.701995</td>\n",
       "      <td>-26.823673</td>\n",
       "      <td>-4.575708</td>\n",
       "      <td>-18.664251</td>\n",
       "      <td>-6.357009</td>\n",
       "      <td>-23.783470</td>\n",
       "      <td>-41.484823</td>\n",
       "      <td>-8.504285</td>\n",
       "      <td>...</td>\n",
       "      <td>-20.262054</td>\n",
       "      <td>-5.532541</td>\n",
       "      <td>-17.026156</td>\n",
       "      <td>-2.307453</td>\n",
       "      <td>-3.308049</td>\n",
       "      <td>-1.715640</td>\n",
       "      <td>-7.976100</td>\n",
       "      <td>-5.048979</td>\n",
       "      <td>0.000000</td>\n",
       "      <td>0.000000</td>\n",
       "    </tr>\n",
       "    <tr>\n",
       "      <th>25%</th>\n",
       "      <td>71817.750000</td>\n",
       "      <td>-0.926226</td>\n",
       "      <td>-0.589562</td>\n",
       "      <td>-0.873696</td>\n",
       "      <td>-0.871759</td>\n",
       "      <td>-0.733235</td>\n",
       "      <td>-0.777552</td>\n",
       "      <td>-0.571678</td>\n",
       "      <td>-0.211263</td>\n",
       "      <td>-0.651215</td>\n",
       "      <td>...</td>\n",
       "      <td>-0.231508</td>\n",
       "      <td>-0.558904</td>\n",
       "      <td>-0.161166</td>\n",
       "      <td>-0.354973</td>\n",
       "      <td>-0.316947</td>\n",
       "      <td>-0.331584</td>\n",
       "      <td>-0.070963</td>\n",
       "      <td>-0.052133</td>\n",
       "      <td>4.990000</td>\n",
       "      <td>0.000000</td>\n",
       "    </tr>\n",
       "    <tr>\n",
       "      <th>50%</th>\n",
       "      <td>142544.000000</td>\n",
       "      <td>0.009592</td>\n",
       "      <td>0.088726</td>\n",
       "      <td>0.168377</td>\n",
       "      <td>-0.027034</td>\n",
       "      <td>-0.060932</td>\n",
       "      <td>-0.304225</td>\n",
       "      <td>0.036753</td>\n",
       "      <td>0.000985</td>\n",
       "      <td>-0.052724</td>\n",
       "      <td>...</td>\n",
       "      <td>-0.035204</td>\n",
       "      <td>-0.013332</td>\n",
       "      <td>-0.011305</td>\n",
       "      <td>0.038272</td>\n",
       "      <td>0.019200</td>\n",
       "      <td>-0.059882</td>\n",
       "      <td>0.003521</td>\n",
       "      <td>0.012842</td>\n",
       "      <td>20.260000</td>\n",
       "      <td>0.000000</td>\n",
       "    </tr>\n",
       "    <tr>\n",
       "      <th>75%</th>\n",
       "      <td>215019.000000</td>\n",
       "      <td>1.310062</td>\n",
       "      <td>0.809298</td>\n",
       "      <td>1.017166</td>\n",
       "      <td>0.763626</td>\n",
       "      <td>0.603678</td>\n",
       "      <td>0.356664</td>\n",
       "      <td>0.594029</td>\n",
       "      <td>0.313264</td>\n",
       "      <td>0.568374</td>\n",
       "      <td>...</td>\n",
       "      <td>0.196481</td>\n",
       "      <td>0.509243</td>\n",
       "      <td>0.146835</td>\n",
       "      <td>0.441278</td>\n",
       "      <td>0.348177</td>\n",
       "      <td>0.228486</td>\n",
       "      <td>0.095662</td>\n",
       "      <td>0.077357</td>\n",
       "      <td>75.000000</td>\n",
       "      <td>0.000000</td>\n",
       "    </tr>\n",
       "    <tr>\n",
       "      <th>max</th>\n",
       "      <td>284782.000000</td>\n",
       "      <td>2.422508</td>\n",
       "      <td>14.323254</td>\n",
       "      <td>3.760965</td>\n",
       "      <td>11.885313</td>\n",
       "      <td>9.880564</td>\n",
       "      <td>7.473970</td>\n",
       "      <td>9.288494</td>\n",
       "      <td>16.633103</td>\n",
       "      <td>8.054123</td>\n",
       "      <td>...</td>\n",
       "      <td>19.283602</td>\n",
       "      <td>5.805795</td>\n",
       "      <td>13.218751</td>\n",
       "      <td>3.535179</td>\n",
       "      <td>3.590787</td>\n",
       "      <td>2.961609</td>\n",
       "      <td>4.623508</td>\n",
       "      <td>9.876371</td>\n",
       "      <td>4584.880000</td>\n",
       "      <td>1.000000</td>\n",
       "    </tr>\n",
       "  </tbody>\n",
       "</table>\n",
       "<p>8 rows × 31 columns</p>\n",
       "</div>"
      ],
      "text/plain": [
       "          Unnamed: 0           V1           V2           V3           V4  \\\n",
       "count    5050.000000  5050.000000  5050.000000  5050.000000  5050.000000   \n",
       "mean   142870.017030    -0.014675     0.044325    -0.035144     0.002494   \n",
       "std     82574.683531     1.952784     1.558235     1.691458     1.493592   \n",
       "min         5.000000   -25.266355   -18.701995   -26.823673    -4.575708   \n",
       "25%     71817.750000    -0.926226    -0.589562    -0.873696    -0.871759   \n",
       "50%    142544.000000     0.009592     0.088726     0.168377    -0.027034   \n",
       "75%    215019.000000     1.310062     0.809298     1.017166     0.763626   \n",
       "max    284782.000000     2.422508    14.323254     3.760965    11.885313   \n",
       "\n",
       "                V5           V6           V7           V8           V9  \\\n",
       "count  5050.000000  5050.000000  5050.000000  5050.000000  5050.000000   \n",
       "mean     -0.046625    -0.046340    -0.043020    -0.008398    -0.027331   \n",
       "std       1.321320     1.254301     1.338170     1.323247     1.134506   \n",
       "min     -18.664251    -6.357009   -23.783470   -41.484823    -8.504285   \n",
       "25%      -0.733235    -0.777552    -0.571678    -0.211263    -0.651215   \n",
       "50%      -0.060932    -0.304225     0.036753     0.000985    -0.052724   \n",
       "75%       0.603678     0.356664     0.594029     0.313264     0.568374   \n",
       "max       9.880564     7.473970     9.288494    16.633103     8.054123   \n",
       "\n",
       "          ...               V21          V22          V23          V24  \\\n",
       "count     ...       5050.000000  5050.000000  5050.000000  5050.000000   \n",
       "mean      ...         -0.003516    -0.009421    -0.004147    -0.001200   \n",
       "std       ...          0.756735     0.724749     0.601276     0.599400   \n",
       "min       ...        -20.262054    -5.532541   -17.026156    -2.307453   \n",
       "25%       ...         -0.231508    -0.558904    -0.161166    -0.354973   \n",
       "50%       ...         -0.035204    -0.013332    -0.011305     0.038272   \n",
       "75%       ...          0.196481     0.509243     0.146835     0.441278   \n",
       "max       ...         19.283602     5.805795    13.218751     3.535179   \n",
       "\n",
       "               V25          V26          V27          V28       Amount  \\\n",
       "count  5050.000000  5050.000000  5050.000000  5050.000000  5050.000000   \n",
       "mean     -0.003314    -0.004836    -0.005726     0.002482    86.117232   \n",
       "std       0.517363     0.481913     0.411055     0.302719   227.210259   \n",
       "min      -3.308049    -1.715640    -7.976100    -5.048979     0.000000   \n",
       "25%      -0.316947    -0.331584    -0.070963    -0.052133     4.990000   \n",
       "50%       0.019200    -0.059882     0.003521     0.012842    20.260000   \n",
       "75%       0.348177     0.228486     0.095662     0.077357    75.000000   \n",
       "max       3.590787     2.961609     4.623508     9.876371  4584.880000   \n",
       "\n",
       "             Class  \n",
       "count  5050.000000  \n",
       "mean      0.009901  \n",
       "std       0.099020  \n",
       "min       0.000000  \n",
       "25%       0.000000  \n",
       "50%       0.000000  \n",
       "75%       0.000000  \n",
       "max       1.000000  \n",
       "\n",
       "[8 rows x 31 columns]"
      ]
     },
     "execution_count": 4,
     "metadata": {},
     "output_type": "execute_result"
    }
   ],
   "source": [
    "# summary statistics\n",
    "df.describe()"
   ]
  },
  {
   "cell_type": "code",
   "execution_count": 5,
   "metadata": {},
   "outputs": [
    {
     "data": {
      "text/plain": [
       "Unnamed: 0    0\n",
       "V1            0\n",
       "V2            0\n",
       "V3            0\n",
       "V4            0\n",
       "V5            0\n",
       "V6            0\n",
       "V7            0\n",
       "V8            0\n",
       "V9            0\n",
       "V10           0\n",
       "V11           0\n",
       "V12           0\n",
       "V13           0\n",
       "V14           0\n",
       "V15           0\n",
       "V16           0\n",
       "V17           0\n",
       "V18           0\n",
       "V19           0\n",
       "V20           0\n",
       "V21           0\n",
       "V22           0\n",
       "V23           0\n",
       "V24           0\n",
       "V25           0\n",
       "V26           0\n",
       "V27           0\n",
       "V28           0\n",
       "Amount        0\n",
       "Class         0\n",
       "dtype: int64"
      ]
     },
     "execution_count": 5,
     "metadata": {},
     "output_type": "execute_result"
    }
   ],
   "source": [
    "# check for missing values\n",
    "df.isnull().sum()"
   ]
  },
  {
   "cell_type": "code",
   "execution_count": 6,
   "metadata": {},
   "outputs": [
    {
     "data": {
      "text/plain": [
       "0    5000\n",
       "1      50\n",
       "Name: Class, dtype: int64"
      ]
     },
     "execution_count": 6,
     "metadata": {},
     "output_type": "execute_result"
    }
   ],
   "source": [
    "# count the occurrences of fraud and no fraud cases\n",
    "df[\"Class\"].value_counts()"
   ]
  },
  {
   "cell_type": "code",
   "execution_count": 7,
   "metadata": {},
   "outputs": [
    {
     "data": {
      "text/plain": [
       "0    0.990099\n",
       "1    0.009901\n",
       "Name: Class, dtype: float64"
      ]
     },
     "execution_count": 7,
     "metadata": {},
     "output_type": "execute_result"
    }
   ],
   "source": [
    "# ratio of fraud and no fraud cases\n",
    "df[\"Class\"].value_counts(normalize=True)"
   ]
  },
  {
   "attachments": {},
   "cell_type": "markdown",
   "metadata": {},
   "source": [
    "---\n",
    "# <a name=\"trad\">Traditional Method</a>\n",
    "### Exploring the traditional way to catch fraud\n",
    "\n",
    "We will start off by finding fraud cases in the credit card dataset the \"old way\". First we'll define threshold values using common statistics, to split fraud and non-fraud. Then, use those thresholds on the features to detect fraud. This is common practice within fraud analytics teams.\n",
    "\n",
    "Statistical thresholds are often determined by looking at the mean values of observations. Let's start this exercise by checking whether feature means differ between fraud and non-fraud cases. Then, we'll use that information to create common sense thresholds. Finally, we'll check how well this performs in fraud detection.\n",
    "\n",
    "Steps:\n",
    "- Use groupby() to group df on Class and obtain the mean of the features.\n",
    "- Create the condition V1 smaller than -3, and V3 smaller than -5 as a condition to flag fraud cases.\n",
    "- As a measure of performance, use the crosstab function from pandas to compare the flagged fraud cases to actual fraud cases."
   ]
  },
  {
   "cell_type": "code",
   "execution_count": 8,
   "metadata": {},
   "outputs": [
    {
     "data": {
      "text/html": [
       "<div>\n",
       "<style scoped>\n",
       "    .dataframe tbody tr th:only-of-type {\n",
       "        vertical-align: middle;\n",
       "    }\n",
       "\n",
       "    .dataframe tbody tr th {\n",
       "        vertical-align: top;\n",
       "    }\n",
       "\n",
       "    .dataframe thead th {\n",
       "        text-align: right;\n",
       "    }\n",
       "</style>\n",
       "<table border=\"1\" class=\"dataframe\">\n",
       "  <thead>\n",
       "    <tr style=\"text-align: right;\">\n",
       "      <th></th>\n",
       "      <th>Unnamed: 0</th>\n",
       "      <th>V1</th>\n",
       "      <th>V2</th>\n",
       "      <th>V3</th>\n",
       "      <th>V4</th>\n",
       "      <th>V5</th>\n",
       "      <th>V6</th>\n",
       "      <th>V7</th>\n",
       "      <th>V8</th>\n",
       "      <th>V9</th>\n",
       "      <th>...</th>\n",
       "      <th>V20</th>\n",
       "      <th>V21</th>\n",
       "      <th>V22</th>\n",
       "      <th>V23</th>\n",
       "      <th>V24</th>\n",
       "      <th>V25</th>\n",
       "      <th>V26</th>\n",
       "      <th>V27</th>\n",
       "      <th>V28</th>\n",
       "      <th>Amount</th>\n",
       "    </tr>\n",
       "    <tr>\n",
       "      <th>Class</th>\n",
       "      <th></th>\n",
       "      <th></th>\n",
       "      <th></th>\n",
       "      <th></th>\n",
       "      <th></th>\n",
       "      <th></th>\n",
       "      <th></th>\n",
       "      <th></th>\n",
       "      <th></th>\n",
       "      <th></th>\n",
       "      <th></th>\n",
       "      <th></th>\n",
       "      <th></th>\n",
       "      <th></th>\n",
       "      <th></th>\n",
       "      <th></th>\n",
       "      <th></th>\n",
       "      <th></th>\n",
       "      <th></th>\n",
       "      <th></th>\n",
       "      <th></th>\n",
       "    </tr>\n",
       "  </thead>\n",
       "  <tbody>\n",
       "    <tr>\n",
       "      <th>0</th>\n",
       "      <td>143084.8702</td>\n",
       "      <td>0.035030</td>\n",
       "      <td>0.011553</td>\n",
       "      <td>0.037444</td>\n",
       "      <td>-0.045760</td>\n",
       "      <td>-0.013825</td>\n",
       "      <td>-0.030885</td>\n",
       "      <td>0.014315</td>\n",
       "      <td>-0.022432</td>\n",
       "      <td>-0.002227</td>\n",
       "      <td>...</td>\n",
       "      <td>-0.002896</td>\n",
       "      <td>-0.010583</td>\n",
       "      <td>-0.010206</td>\n",
       "      <td>-0.003305</td>\n",
       "      <td>-0.000918</td>\n",
       "      <td>-0.002613</td>\n",
       "      <td>-0.004651</td>\n",
       "      <td>-0.009584</td>\n",
       "      <td>0.002414</td>\n",
       "      <td>85.843714</td>\n",
       "    </tr>\n",
       "    <tr>\n",
       "      <th>1</th>\n",
       "      <td>121384.7000</td>\n",
       "      <td>-4.985211</td>\n",
       "      <td>3.321539</td>\n",
       "      <td>-7.293909</td>\n",
       "      <td>4.827952</td>\n",
       "      <td>-3.326587</td>\n",
       "      <td>-1.591882</td>\n",
       "      <td>-5.776541</td>\n",
       "      <td>1.395058</td>\n",
       "      <td>-2.537728</td>\n",
       "      <td>...</td>\n",
       "      <td>0.194580</td>\n",
       "      <td>0.703182</td>\n",
       "      <td>0.069065</td>\n",
       "      <td>-0.088374</td>\n",
       "      <td>-0.029425</td>\n",
       "      <td>-0.073336</td>\n",
       "      <td>-0.023377</td>\n",
       "      <td>0.380072</td>\n",
       "      <td>0.009304</td>\n",
       "      <td>113.469000</td>\n",
       "    </tr>\n",
       "  </tbody>\n",
       "</table>\n",
       "<p>2 rows × 30 columns</p>\n",
       "</div>"
      ],
      "text/plain": [
       "        Unnamed: 0        V1        V2        V3        V4        V5  \\\n",
       "Class                                                                  \n",
       "0      143084.8702  0.035030  0.011553  0.037444 -0.045760 -0.013825   \n",
       "1      121384.7000 -4.985211  3.321539 -7.293909  4.827952 -3.326587   \n",
       "\n",
       "             V6        V7        V8        V9     ...           V20       V21  \\\n",
       "Class                                             ...                           \n",
       "0     -0.030885  0.014315 -0.022432 -0.002227     ...     -0.002896 -0.010583   \n",
       "1     -1.591882 -5.776541  1.395058 -2.537728     ...      0.194580  0.703182   \n",
       "\n",
       "            V22       V23       V24       V25       V26       V27       V28  \\\n",
       "Class                                                                         \n",
       "0     -0.010206 -0.003305 -0.000918 -0.002613 -0.004651 -0.009584  0.002414   \n",
       "1      0.069065 -0.088374 -0.029425 -0.073336 -0.023377  0.380072  0.009304   \n",
       "\n",
       "           Amount  \n",
       "Class              \n",
       "0       85.843714  \n",
       "1      113.469000  \n",
       "\n",
       "[2 rows x 30 columns]"
      ]
     },
     "execution_count": 8,
     "metadata": {},
     "output_type": "execute_result"
    }
   ],
   "source": [
    "# get the mean for each group\n",
    "df.groupby(\"Class\").mean()"
   ]
  },
  {
   "cell_type": "code",
   "execution_count": 9,
   "metadata": {},
   "outputs": [
    {
     "data": {
      "text/plain": [
       "0    0\n",
       "1    0\n",
       "2    0\n",
       "3    0\n",
       "4    0\n",
       "5    0\n",
       "6    0\n",
       "7    0\n",
       "8    0\n",
       "9    0\n",
       "Name: flag_as_fraud, dtype: int32"
      ]
     },
     "execution_count": 9,
     "metadata": {},
     "output_type": "execute_result"
    }
   ],
   "source": [
    "# implement a rule for stating which cases are flagged as fraud\n",
    "df[\"flag_as_fraud\"] = np.where(np.logical_and(df[\"V1\"] < -3, df[\"V3\"] < -5), 1, 0)\n",
    "df[\"flag_as_fraud\"].head(10)"
   ]
  },
  {
   "cell_type": "code",
   "execution_count": 10,
   "metadata": {},
   "outputs": [
    {
     "name": "stdout",
     "output_type": "stream",
     "text": [
      "Flagged Fraud     0   1\n",
      "Actual Fraud           \n",
      "0              4984  16\n",
      "1                28  22\n"
     ]
    }
   ],
   "source": [
    "# create a crosstab of flagged fraud cases versus the actual fraud cases\n",
    "print(pd.crosstab(df.Class, df.flag_as_fraud, rownames=[\"Actual Fraud\"], colnames=[\"Flagged Fraud\"]))"
   ]
  },
  {
   "attachments": {},
   "cell_type": "markdown",
   "metadata": {},
   "source": [
    "With this rule, we detect 22 out of 50 fraud cases, but can't detect the other 28, and get 16 false positives. Next, we'll see how this measures up to a machine learning model."
   ]
  },
  {
   "attachments": {},
   "cell_type": "markdown",
   "metadata": {},
   "source": [
    "---\n",
    "# <a name=\"sml\">Supervised Machine Learning</a>\n",
    "### Machine learning model to catch fraud\n",
    "When we have labelled data, we can use supervised machine learning techniques to flag fraudulent transactions. We can use classifiers, adjust them and compare them to find the most efficient fraud detection model."
   ]
  },
  {
   "cell_type": "code",
   "execution_count": 11,
   "metadata": {},
   "outputs": [],
   "source": [
    "# create input and target variable\n",
    "X = df.drop([\"Unnamed: 0\", \"Class\", \"flag_as_fraud\"], axis=1)\n",
    "y = df[\"Class\"]"
   ]
  },
  {
   "cell_type": "code",
   "execution_count": 12,
   "metadata": {},
   "outputs": [],
   "source": [
    "# create the training and testing sets\n",
    "X_train, X_test, y_train, y_test = train_test_split(X, y, test_size=0.3, random_state=0)"
   ]
  },
  {
   "cell_type": "code",
   "execution_count": 13,
   "metadata": {},
   "outputs": [
    {
     "data": {
      "text/plain": [
       "LogisticRegression(C=1.0, class_weight=None, dual=False, fit_intercept=True,\n",
       "          intercept_scaling=1, max_iter=100, multi_class='warn',\n",
       "          n_jobs=None, penalty='l2', random_state=None, solver='liblinear',\n",
       "          tol=0.0001, verbose=0, warm_start=False)"
      ]
     },
     "execution_count": 13,
     "metadata": {},
     "output_type": "execute_result"
    }
   ],
   "source": [
    "# fit a logistic regression model to the data\n",
    "model = LogisticRegression(solver=\"liblinear\")\n",
    "model.fit(X_train, y_train)"
   ]
  },
  {
   "cell_type": "code",
   "execution_count": 14,
   "metadata": {},
   "outputs": [],
   "source": [
    "# obtain model predictions\n",
    "predicted = model.predict(X_test)"
   ]
  },
  {
   "cell_type": "code",
   "execution_count": 15,
   "metadata": {},
   "outputs": [],
   "source": [
    "# predict probabilities\n",
    "probs = model.predict_proba(X_test)"
   ]
  },
  {
   "cell_type": "code",
   "execution_count": 16,
   "metadata": {},
   "outputs": [
    {
     "name": "stdout",
     "output_type": "stream",
     "text": [
      "Accuracy Score: 0.998019801980198\n"
     ]
    }
   ],
   "source": [
    "# print the accuracy score\n",
    "print(\"Accuracy Score: {}\".format(accuracy_score(y_test, predicted)))"
   ]
  },
  {
   "cell_type": "code",
   "execution_count": 17,
   "metadata": {},
   "outputs": [
    {
     "name": "stdout",
     "output_type": "stream",
     "text": [
      "ROC score: 0.9996013289036545\n",
      "\n",
      "Classification report:\n",
      "              precision    recall  f1-score   support\n",
      "\n",
      "           0       1.00      1.00      1.00      1505\n",
      "           1       0.89      0.80      0.84        10\n",
      "\n",
      "   micro avg       1.00      1.00      1.00      1515\n",
      "   macro avg       0.94      0.90      0.92      1515\n",
      "weighted avg       1.00      1.00      1.00      1515\n",
      "\n",
      "\n",
      "Confusion matrix:\n",
      "[[1504    1]\n",
      " [   2    8]]\n",
      "\n"
     ]
    }
   ],
   "source": [
    "# print the ROC score\n",
    "print(\"ROC score: {}\\n\".format(roc_auc_score(y_test, probs[:,1])))\n",
    "\n",
    "# print the classifcation report and confusion matrix\n",
    "print(\"Classification report:\\n{}\\n\".format(classification_report(y_test, predicted)))\n",
    "\n",
    "# print confusion matrix\n",
    "conf_mat = confusion_matrix(y_true=y_test, y_pred=predicted)\n",
    "print(\"Confusion matrix:\\n{}\\n\".format(conf_mat))"
   ]
  },
  {
   "cell_type": "code",
   "execution_count": 18,
   "metadata": {},
   "outputs": [
    {
     "data": {
      "image/png": "[encoded data removed]",
      "text/plain": [
       "<Figure size 432x288 with 1 Axes>"
      ]
     },
     "metadata": {},
     "output_type": "display_data"
    }
   ],
   "source": [
    "# plot the confusion matrix\n",
    "sns.heatmap(conf_mat, annot=True, annot_kws={\"size\":16}, fmt=\"d\", cbar=False, linewidths=0.1, cmap=\"Blues\")\n",
    "plt.title(\"Confusion matrix of the classifier\", fontsize=14)\n",
    "plt.ylabel(\"Actual label\", fontsize=12)\n",
    "plt.xlabel(\"Predicted label\", fontsize=12)\n",
    "\n",
    "# plt.savefig(\"cm.png\", bbox_inches=\"tight\")\n",
    "plt.show()"
   ]
  },
  {
   "attachments": {},
   "cell_type": "markdown",
   "metadata": {},
   "source": [
    "As shown above, we managed to catch 8 out of 10 fraud cases, only 1 false positive and 2 false negative, not bad for our first machine learning model. "
   ]
  },
  {
   "attachments": {},
   "cell_type": "markdown",
   "metadata": {},
   "source": [
    "### Data Resampling\n",
    "\n",
    "To deal with class imbalance, we can either undersample the majority class (non-fraud cases) or oversample the minority class (fraud cases). But there are drawbacks. With undersampling, we are throwing away a lot of data and information. With oversampling, we are copying data and creating duplicates. SMOTE or Synthetic Minority Over-sampling Technique may be a better way of adjusting class imbalance by oversampling minority class. With SMOTE, we are not just copying monitority class, SMOTE uses characteristics of nearest neighbours of fraud cases to create new synthetic fraud cases and avoid duplicates. But it only works well if the fraud cases are quite similar to each other. If fraud is spread out over the data and not very distinct, using nearest neighbours to create more fraud cases introduces a bit of noise in the data, as the nearest neighbours might not necessarily be fraud cases. \n",
    "\n",
    "One thing to keep in mind: Use resampling methods on training set, never on test set. Always make sure the test set is free of duplicate or synthetic data."
   ]
  },
  {
   "cell_type": "code",
   "execution_count": 19,
   "metadata": {},
   "outputs": [],
   "source": [
    "# import SMOTE\n",
    "from imblearn.over_sampling import SMOTE\n",
    "\n",
    "# Define the resampling method\n",
    "method = SMOTE(kind=\"regular\")\n",
    "\n",
    "# Create the resampled feature set\n",
    "X_resampled, y_resampled = method.fit_sample(X_train, y_train)"
   ]
  },
  {
   "cell_type": "code",
   "execution_count": 20,
   "metadata": {},
   "outputs": [
    {
     "name": "stdout",
     "output_type": "stream",
     "text": [
      "Before resampling:\n",
      "0    3495\n",
      "1      40\n",
      "Name: Class, dtype: int64\n",
      "\n",
      "After resampling:\n",
      "1    3495\n",
      "0    3495\n",
      "dtype: int64\n",
      "\n"
     ]
    }
   ],
   "source": [
    "# check before and after resample\n",
    "print(\"Before resampling:\\n{}\\n\".format(y_train.value_counts()))\n",
    "print(\"After resampling:\\n{}\\n\".format(pd.Series(y_resampled).value_counts()))"
   ]
  },
  {
   "attachments": {},
   "cell_type": "markdown",
   "metadata": {},
   "source": [
    "The result above shows how the balance between the two classes has changed with SMOTE. Using SMOTE gives us more observations of the minority class. Unlike Random Over-sampling, SMOTE does not create exact copies of observations,  but creates new, synthetic, samples that are quite similar to the existing observations in the minority class. SMOTE is therefore slightly more sophisticated than just copying observations. We can then fit the resampled training data into a machine learning model and make prediction on the non-resampled test data."
   ]
  },
  {
   "cell_type": "code",
   "execution_count": 21,
   "metadata": {},
   "outputs": [
    {
     "name": "stdout",
     "output_type": "stream",
     "text": [
      "Accuracy Score: 0.9966996699669967\n",
      "\n",
      "ROC score: 0.9995348837209301\n",
      "\n",
      "Classification report:\n",
      "              precision    recall  f1-score   support\n",
      "\n",
      "           0       1.00      1.00      1.00      1505\n",
      "           1       0.67      1.00      0.80        10\n",
      "\n",
      "   micro avg       1.00      1.00      1.00      1515\n",
      "   macro avg       0.83      1.00      0.90      1515\n",
      "weighted avg       1.00      1.00      1.00      1515\n",
      "\n",
      "\n",
      "Confusion matrix:\n",
      "[[1500    5]\n",
      " [   0   10]]\n",
      "\n"
     ]
    }
   ],
   "source": [
    "# fit the model\n",
    "model = LogisticRegression(solver=\"liblinear\")\n",
    "model.fit(X_resampled, y_resampled)\n",
    "\n",
    "# make predictions\n",
    "predicted = model.predict(X_test)\n",
    "probs = model.predict_proba(X_test)\n",
    "\n",
    "# print the accuracy score\n",
    "print(\"Accuracy Score: {}\\n\".format(accuracy_score(y_test, predicted)))\n",
    "\n",
    "# print the ROC score\n",
    "print(\"ROC score: {}\\n\".format(roc_auc_score(y_test, probs[:,1])))\n",
    "\n",
    "# print the classifcation report and confusion matrix\n",
    "print(\"Classification report:\\n{}\\n\".format(classification_report(y_test, predicted)))\n",
    "\n",
    "# print confusion matrix\n",
    "conf_mat = confusion_matrix(y_true=y_test, y_pred=predicted)\n",
    "print(\"Confusion matrix:\\n{}\\n\".format(conf_mat))"
   ]
  },
  {
   "attachments": {},
   "cell_type": "markdown",
   "metadata": {},
   "source": [
    "#### Pipeline\n",
    "We can also use a pipeline that combines the resampling method with the model in one go. First, we need to define the pipeline that we're going to use. The Pipeline() requires two arguments. We need to state we want to combine resampling with the model in the respective arguments.\n",
    "\n",
    "After we defined our pipeline, aka by combining a logistic regression with a SMOTE method, we can run it on the data. We can treat the pipeline as if it were a single machine learning model."
   ]
  },
  {
   "cell_type": "code",
   "execution_count": 22,
   "metadata": {},
   "outputs": [],
   "source": [
    "# import SMOTE\n",
    "from imblearn.over_sampling import SMOTE\n",
    "\n",
    "# this is the pipeline module we need for this from imblearn\n",
    "from imblearn.pipeline import Pipeline \n",
    "\n",
    "# define which resampling method and which ML model to use in the pipeline\n",
    "resampling = SMOTE(kind=\"borderline2\")\n",
    "model = LogisticRegression(solver=\"liblinear\")\n",
    "\n",
    "# define the pipeline, tell it to combine SMOTE with the Logistic Regression model\n",
    "pipeline = Pipeline([(\"SMOTE\", resampling), (\"Logistic Regression\", model)])"
   ]
  },
  {
   "cell_type": "code",
   "execution_count": 23,
   "metadata": {},
   "outputs": [
    {
     "name": "stdout",
     "output_type": "stream",
     "text": [
      "Accuracy Score: 0.9966996699669967\n",
      "\n",
      "ROC score: 0.9995348837209302\n",
      "\n",
      "Classification report:\n",
      "              precision    recall  f1-score   support\n",
      "\n",
      "           0       1.00      1.00      1.00      1505\n",
      "           1       0.67      1.00      0.80        10\n",
      "\n",
      "   micro avg       1.00      1.00      1.00      1515\n",
      "   macro avg       0.83      1.00      0.90      1515\n",
      "weighted avg       1.00      1.00      1.00      1515\n",
      "\n",
      "\n",
      "Confusion matrix:\n",
      "[[1500    5]\n",
      " [   0   10]]\n",
      "\n"
     ]
    }
   ],
   "source": [
    "# fit your pipeline onto your training set and obtain predictions by fitting the model onto the test data \n",
    "pipeline.fit(X_train, y_train) \n",
    "predicted = pipeline.predict(X_test)\n",
    "probs = pipeline.predict_proba(X_test)\n",
    "\n",
    "# print the accuracy score\n",
    "print(\"Accuracy Score: {}\\n\".format(accuracy_score(y_test, predicted)))\n",
    "\n",
    "# print the ROC score\n",
    "print(\"ROC score: {}\\n\".format(roc_auc_score(y_test, probs[:,1])))\n",
    "\n",
    "# print the classifcation report and confusion matrix\n",
    "print(\"Classification report:\\n{}\\n\".format(classification_report(y_test, predicted)))\n",
    "\n",
    "# print confusion matrix\n",
    "conf_mat = confusion_matrix(y_true=y_test, y_pred=predicted)\n",
    "print(\"Confusion matrix:\\n{}\\n\".format(conf_mat))"
   ]
  },
  {
   "cell_type": "code",
   "execution_count": 24,
   "metadata": {},
   "outputs": [
    {
     "data": {
      "image/png": "[encoded data removed]",
      "text/plain": [
       "<Figure size 432x288 with 1 Axes>"
      ]
     },
     "metadata": {},
     "output_type": "display_data"
    }
   ],
   "source": [
    "# plot the confusion matrix\n",
    "sns.heatmap(conf_mat, annot=True, annot_kws={\"size\":16}, fmt=\"d\", cbar=False, linewidths=0.1, cmap=\"Blues\")\n",
    "plt.title(\"Confusion matrix of the classifier\", fontsize=14)\n",
    "plt.ylabel(\"Actual label\", fontsize=12)\n",
    "plt.xlabel(\"Predicted label\", fontsize=12)\n",
    "\n",
    "# plt.savefig(\"log_cm.png\", bbox_inches=\"tight\")\n",
    "plt.show()"
   ]
  },
  {
   "attachments": {},
   "cell_type": "markdown",
   "metadata": {},
   "source": [
    "As we can see, the SMOTE slightly improves our results. We now manage to find all cases of fraud, but we have a slightly higher number of false positives, albeit only 6 cases. Remember, not in all cases does resampling necessarily lead to better results. When the fraud cases are very spread and scattered over the data, using SMOTE can introduce a bit of bias. Nearest neighbors aren't necessarily also fraud cases, so the synthetic samples might 'confuse' the model slightly."
   ]
  },
  {
   "attachments": {},
   "cell_type": "markdown",
   "metadata": {},
   "source": [
    "### Random Forest"
   ]
  },
  {
   "attachments": {},
   "cell_type": "markdown",
   "metadata": {},
   "source": [
    "Accuracy can be misleading in the case of fraud detection. A model with no predictive power and just predict everything as non-fraud will have high accuracy. That does not mean it is a good model. With highly imbalanced fraud data, we need to look at Precision, Recall and the AUC ROC curve. These are more reliable performance metric, used to compare different classifiers.\n",
    "\n",
    "To understand Precision and recall, we need to understand False negative and False positive. False negative - predicted no fraud but actually there is fraud. False positive - false alarm, predicted fraud but actually no fraud. Different companies implementing fraud detection may focus on different aspect. For example, Banks and Insurance companies may have different focus. \n",
    "\n",
    "Banks may want to minimize false negative, catch as many fraud as possible, because fraud credit card transactions can cost alot of money, they don't mind false positive because it just means stopping the transaction. Therefore banks may want to optimize for Recall, as high as possible, means out of all actual fraud cases, as many as possible are flagged, achieving a high percentage of predicted fraud cases out of all actual fraud cases.\n",
    "\n",
    "On the other hand, insurance companies may want to minimize false positive, i.e. minimize false alarm, because high false alarm would mean incur huge resources of assembling a team of investigators to go through each flagged fraud case. Thus, insurance companies may want to optimize for Precision, as high as possible, achieving a high percentage of actual fraud cases out of all predicted fraud cases .\n",
    "\n",
    "Precision and recall are inversely related, as Precision increases, Recall falls and vice-versa. This is the Precision-Recall Tradeoff. A balance between these two needs to be achieved in your model, otherwise you might end up with many false positives, or not enough actual fraud cases caught. To achieve this and to compare performance, the precision-recall curves come in handy. However, a better metric is the AUC ROC (area under the receiver operating characteristic curve). The AUC ROC answers the question: \"How well can this classifier be expected to perform in general, at a variety of different baseline probabilities?\" but precision and recall don't. \n",
    "\n",
    "Since for fraud detection we are mostly interested in catching as many fraud cases as possible, we can optimize our model settings to get the best possible Recall score. If we also cared about reducing the number of false positives, we could optimize on F1-score, this gives us that nice Precision-Recall trade-off. To decide which final model is best, we need to take into account how bad it is not to catch fraudsters, versus how many false positives the fraud analytics team can deal with. Ultimately, this final decision should be made by us and the fraud team together.\n",
    "\n",
    "Having said that, accuracy is a good metric to start as we need to know what the \"natural accuracy\" is, if we were to predict everything as non-fraud. It is important to understand which level of \"accuracy\" we need to \"beat\" in order to get a better prediction than by doing nothing. In the following section, we'll create our first random forest classifier for fraud detection. That will serve as the \"baseline\" model that we're going to try to improve."
   ]
  },
  {
   "cell_type": "code",
   "execution_count": 25,
   "metadata": {},
   "outputs": [
    {
     "data": {
      "text/html": [
       "<div>\n",
       "<style scoped>\n",
       "    .dataframe tbody tr th:only-of-type {\n",
       "        vertical-align: middle;\n",
       "    }\n",
       "\n",
       "    .dataframe tbody tr th {\n",
       "        vertical-align: top;\n",
       "    }\n",
       "\n",
       "    .dataframe thead th {\n",
       "        text-align: right;\n",
       "    }\n",
       "</style>\n",
       "<table border=\"1\" class=\"dataframe\">\n",
       "  <thead>\n",
       "    <tr style=\"text-align: right;\">\n",
       "      <th></th>\n",
       "      <th>Unnamed: 0</th>\n",
       "      <th>V1</th>\n",
       "      <th>V2</th>\n",
       "      <th>V3</th>\n",
       "      <th>V4</th>\n",
       "      <th>V5</th>\n",
       "      <th>V6</th>\n",
       "      <th>V7</th>\n",
       "      <th>V8</th>\n",
       "      <th>V9</th>\n",
       "      <th>...</th>\n",
       "      <th>V21</th>\n",
       "      <th>V22</th>\n",
       "      <th>V23</th>\n",
       "      <th>V24</th>\n",
       "      <th>V25</th>\n",
       "      <th>V26</th>\n",
       "      <th>V27</th>\n",
       "      <th>V28</th>\n",
       "      <th>Amount</th>\n",
       "      <th>Class</th>\n",
       "    </tr>\n",
       "  </thead>\n",
       "  <tbody>\n",
       "    <tr>\n",
       "      <th>0</th>\n",
       "      <td>221547</td>\n",
       "      <td>-1.191668</td>\n",
       "      <td>0.428409</td>\n",
       "      <td>1.640028</td>\n",
       "      <td>-1.848859</td>\n",
       "      <td>-0.870903</td>\n",
       "      <td>-0.204849</td>\n",
       "      <td>-0.385675</td>\n",
       "      <td>0.352793</td>\n",
       "      <td>-1.098301</td>\n",
       "      <td>...</td>\n",
       "      <td>0.507173</td>\n",
       "      <td>1.292565</td>\n",
       "      <td>-0.467752</td>\n",
       "      <td>1.244887</td>\n",
       "      <td>0.697707</td>\n",
       "      <td>0.059375</td>\n",
       "      <td>-0.319964</td>\n",
       "      <td>-0.017444</td>\n",
       "      <td>27.44</td>\n",
       "      <td>0</td>\n",
       "    </tr>\n",
       "    <tr>\n",
       "      <th>1</th>\n",
       "      <td>184524</td>\n",
       "      <td>1.966614</td>\n",
       "      <td>-0.450087</td>\n",
       "      <td>-1.228586</td>\n",
       "      <td>0.142873</td>\n",
       "      <td>-0.150627</td>\n",
       "      <td>-0.543590</td>\n",
       "      <td>-0.076217</td>\n",
       "      <td>-0.108390</td>\n",
       "      <td>0.973310</td>\n",
       "      <td>...</td>\n",
       "      <td>0.124055</td>\n",
       "      <td>0.564916</td>\n",
       "      <td>-0.039331</td>\n",
       "      <td>-0.283904</td>\n",
       "      <td>0.186400</td>\n",
       "      <td>0.192932</td>\n",
       "      <td>-0.039155</td>\n",
       "      <td>-0.071314</td>\n",
       "      <td>35.95</td>\n",
       "      <td>0</td>\n",
       "    </tr>\n",
       "    <tr>\n",
       "      <th>2</th>\n",
       "      <td>91201</td>\n",
       "      <td>1.528452</td>\n",
       "      <td>-1.296191</td>\n",
       "      <td>-0.890677</td>\n",
       "      <td>-2.504028</td>\n",
       "      <td>0.803202</td>\n",
       "      <td>3.350793</td>\n",
       "      <td>-1.633016</td>\n",
       "      <td>0.815350</td>\n",
       "      <td>-1.884692</td>\n",
       "      <td>...</td>\n",
       "      <td>-0.412088</td>\n",
       "      <td>-1.017485</td>\n",
       "      <td>0.129566</td>\n",
       "      <td>0.948048</td>\n",
       "      <td>0.287826</td>\n",
       "      <td>-0.396592</td>\n",
       "      <td>0.042997</td>\n",
       "      <td>0.025853</td>\n",
       "      <td>28.40</td>\n",
       "      <td>0</td>\n",
       "    </tr>\n",
       "    <tr>\n",
       "      <th>3</th>\n",
       "      <td>26115</td>\n",
       "      <td>-0.774614</td>\n",
       "      <td>1.100916</td>\n",
       "      <td>0.679080</td>\n",
       "      <td>1.034016</td>\n",
       "      <td>0.168633</td>\n",
       "      <td>0.874582</td>\n",
       "      <td>0.209454</td>\n",
       "      <td>0.770550</td>\n",
       "      <td>-0.558106</td>\n",
       "      <td>...</td>\n",
       "      <td>0.011158</td>\n",
       "      <td>0.146017</td>\n",
       "      <td>-0.130401</td>\n",
       "      <td>-0.848815</td>\n",
       "      <td>0.005698</td>\n",
       "      <td>-0.183295</td>\n",
       "      <td>0.282940</td>\n",
       "      <td>0.123856</td>\n",
       "      <td>43.20</td>\n",
       "      <td>0</td>\n",
       "    </tr>\n",
       "    <tr>\n",
       "      <th>4</th>\n",
       "      <td>201292</td>\n",
       "      <td>-1.075860</td>\n",
       "      <td>1.361160</td>\n",
       "      <td>1.496972</td>\n",
       "      <td>2.242604</td>\n",
       "      <td>1.314751</td>\n",
       "      <td>0.272787</td>\n",
       "      <td>1.005246</td>\n",
       "      <td>0.132932</td>\n",
       "      <td>-1.558317</td>\n",
       "      <td>...</td>\n",
       "      <td>0.254485</td>\n",
       "      <td>0.530692</td>\n",
       "      <td>-0.651119</td>\n",
       "      <td>0.626389</td>\n",
       "      <td>1.040212</td>\n",
       "      <td>0.249501</td>\n",
       "      <td>-0.146745</td>\n",
       "      <td>0.029714</td>\n",
       "      <td>10.59</td>\n",
       "      <td>0</td>\n",
       "    </tr>\n",
       "  </tbody>\n",
       "</table>\n",
       "<p>5 rows × 31 columns</p>\n",
       "</div>"
      ],
      "text/plain": [
       "   Unnamed: 0        V1        V2        V3        V4        V5        V6  \\\n",
       "0      221547 -1.191668  0.428409  1.640028 -1.848859 -0.870903 -0.204849   \n",
       "1      184524  1.966614 -0.450087 -1.228586  0.142873 -0.150627 -0.543590   \n",
       "2       91201  1.528452 -1.296191 -0.890677 -2.504028  0.803202  3.350793   \n",
       "3       26115 -0.774614  1.100916  0.679080  1.034016  0.168633  0.874582   \n",
       "4      201292 -1.075860  1.361160  1.496972  2.242604  1.314751  0.272787   \n",
       "\n",
       "         V7        V8        V9  ...         V21       V22       V23  \\\n",
       "0 -0.385675  0.352793 -1.098301  ...    0.507173  1.292565 -0.467752   \n",
       "1 -0.076217 -0.108390  0.973310  ...    0.124055  0.564916 -0.039331   \n",
       "2 -1.633016  0.815350 -1.884692  ...   -0.412088 -1.017485  0.129566   \n",
       "3  0.209454  0.770550 -0.558106  ...    0.011158  0.146017 -0.130401   \n",
       "4  1.005246  0.132932 -1.558317  ...    0.254485  0.530692 -0.651119   \n",
       "\n",
       "        V24       V25       V26       V27       V28  Amount  Class  \n",
       "0  1.244887  0.697707  0.059375 -0.319964 -0.017444   27.44      0  \n",
       "1 -0.283904  0.186400  0.192932 -0.039155 -0.071314   35.95      0  \n",
       "2  0.948048  0.287826 -0.396592  0.042997  0.025853   28.40      0  \n",
       "3 -0.848815  0.005698 -0.183295  0.282940  0.123856   43.20      0  \n",
       "4  0.626389  1.040212  0.249501 -0.146745  0.029714   10.59      0  \n",
       "\n",
       "[5 rows x 31 columns]"
      ]
     },
     "execution_count": 25,
     "metadata": {},
     "output_type": "execute_result"
    }
   ],
   "source": [
    "# load dataset\n",
    "df = pd.read_csv(\"chapter_2/creditcard_sampledata_2.csv\")\n",
    "\n",
    "df.head()"
   ]
  },
  {
   "cell_type": "code",
   "execution_count": 26,
   "metadata": {},
   "outputs": [
    {
     "name": "stdout",
     "output_type": "stream",
     "text": [
      "<class 'pandas.core.frame.DataFrame'>\n",
      "RangeIndex: 7300 entries, 0 to 7299\n",
      "Data columns (total 31 columns):\n",
      "Unnamed: 0    7300 non-null int64\n",
      "V1            7300 non-null float64\n",
      "V2            7300 non-null float64\n",
      "V3            7300 non-null float64\n",
      "V4            7300 non-null float64\n",
      "V5            7300 non-null float64\n",
      "V6            7300 non-null float64\n",
      "V7            7300 non-null float64\n",
      "V8            7300 non-null float64\n",
      "V9            7300 non-null float64\n",
      "V10           7300 non-null float64\n",
      "V11           7300 non-null float64\n",
      "V12           7300 non-null float64\n",
      "V13           7300 non-null float64\n",
      "V14           7300 non-null float64\n",
      "V15           7300 non-null float64\n",
      "V16           7300 non-null float64\n",
      "V17           7300 non-null float64\n",
      "V18           7300 non-null float64\n",
      "V19           7300 non-null float64\n",
      "V20           7300 non-null float64\n",
      "V21           7300 non-null float64\n",
      "V22           7300 non-null float64\n",
      "V23           7300 non-null float64\n",
      "V24           7300 non-null float64\n",
      "V25           7300 non-null float64\n",
      "V26           7300 non-null float64\n",
      "V27           7300 non-null float64\n",
      "V28           7300 non-null float64\n",
      "Amount        7300 non-null float64\n",
      "Class         7300 non-null int64\n",
      "dtypes: float64(29), int64(2)\n",
      "memory usage: 1.7 MB\n",
      "None\n"
     ]
    }
   ],
   "source": [
    "# explore the features available in the dataframe\n",
    "print(df.info())"
   ]
  },
  {
   "cell_type": "code",
   "execution_count": 27,
   "metadata": {},
   "outputs": [
    {
     "data": {
      "text/html": [
       "<div>\n",
       "<style scoped>\n",
       "    .dataframe tbody tr th:only-of-type {\n",
       "        vertical-align: middle;\n",
       "    }\n",
       "\n",
       "    .dataframe tbody tr th {\n",
       "        vertical-align: top;\n",
       "    }\n",
       "\n",
       "    .dataframe thead th {\n",
       "        text-align: right;\n",
       "    }\n",
       "</style>\n",
       "<table border=\"1\" class=\"dataframe\">\n",
       "  <thead>\n",
       "    <tr style=\"text-align: right;\">\n",
       "      <th></th>\n",
       "      <th>Unnamed: 0</th>\n",
       "      <th>V1</th>\n",
       "      <th>V2</th>\n",
       "      <th>V3</th>\n",
       "      <th>V4</th>\n",
       "      <th>V5</th>\n",
       "      <th>V6</th>\n",
       "      <th>V7</th>\n",
       "      <th>V8</th>\n",
       "      <th>V9</th>\n",
       "      <th>...</th>\n",
       "      <th>V21</th>\n",
       "      <th>V22</th>\n",
       "      <th>V23</th>\n",
       "      <th>V24</th>\n",
       "      <th>V25</th>\n",
       "      <th>V26</th>\n",
       "      <th>V27</th>\n",
       "      <th>V28</th>\n",
       "      <th>Amount</th>\n",
       "      <th>Class</th>\n",
       "    </tr>\n",
       "  </thead>\n",
       "  <tbody>\n",
       "    <tr>\n",
       "      <th>count</th>\n",
       "      <td>7300.000000</td>\n",
       "      <td>7300.000000</td>\n",
       "      <td>7300.000000</td>\n",
       "      <td>7300.000000</td>\n",
       "      <td>7300.000000</td>\n",
       "      <td>7300.000000</td>\n",
       "      <td>7300.000000</td>\n",
       "      <td>7300.000000</td>\n",
       "      <td>7300.000000</td>\n",
       "      <td>7300.000000</td>\n",
       "      <td>...</td>\n",
       "      <td>7300.000000</td>\n",
       "      <td>7300.000000</td>\n",
       "      <td>7300.000000</td>\n",
       "      <td>7300.000000</td>\n",
       "      <td>7300.000000</td>\n",
       "      <td>7300.000000</td>\n",
       "      <td>7300.000000</td>\n",
       "      <td>7300.000000</td>\n",
       "      <td>7300.000000</td>\n",
       "      <td>7300.000000</td>\n",
       "    </tr>\n",
       "    <tr>\n",
       "      <th>mean</th>\n",
       "      <td>141459.804384</td>\n",
       "      <td>-0.193825</td>\n",
       "      <td>0.159880</td>\n",
       "      <td>-0.278411</td>\n",
       "      <td>0.193200</td>\n",
       "      <td>-0.128358</td>\n",
       "      <td>-0.048911</td>\n",
       "      <td>-0.202722</td>\n",
       "      <td>0.029468</td>\n",
       "      <td>-0.099865</td>\n",
       "      <td>...</td>\n",
       "      <td>0.033059</td>\n",
       "      <td>-0.003541</td>\n",
       "      <td>0.004062</td>\n",
       "      <td>-0.001630</td>\n",
       "      <td>-0.001130</td>\n",
       "      <td>0.011666</td>\n",
       "      <td>0.009332</td>\n",
       "      <td>0.005830</td>\n",
       "      <td>90.372956</td>\n",
       "      <td>0.041096</td>\n",
       "    </tr>\n",
       "    <tr>\n",
       "      <th>std</th>\n",
       "      <td>82409.871073</td>\n",
       "      <td>2.521772</td>\n",
       "      <td>1.970007</td>\n",
       "      <td>2.488454</td>\n",
       "      <td>1.746604</td>\n",
       "      <td>1.826802</td>\n",
       "      <td>1.371383</td>\n",
       "      <td>2.175403</td>\n",
       "      <td>1.764826</td>\n",
       "      <td>1.307587</td>\n",
       "      <td>...</td>\n",
       "      <td>1.071380</td>\n",
       "      <td>0.778235</td>\n",
       "      <td>0.654663</td>\n",
       "      <td>0.597398</td>\n",
       "      <td>0.531629</td>\n",
       "      <td>0.484641</td>\n",
       "      <td>0.464333</td>\n",
       "      <td>0.330659</td>\n",
       "      <td>289.206749</td>\n",
       "      <td>0.198526</td>\n",
       "    </tr>\n",
       "    <tr>\n",
       "      <th>min</th>\n",
       "      <td>104.000000</td>\n",
       "      <td>-31.972536</td>\n",
       "      <td>-42.172688</td>\n",
       "      <td>-31.103685</td>\n",
       "      <td>-5.047408</td>\n",
       "      <td>-28.815577</td>\n",
       "      <td>-8.389238</td>\n",
       "      <td>-43.557242</td>\n",
       "      <td>-41.044261</td>\n",
       "      <td>-13.320155</td>\n",
       "      <td>...</td>\n",
       "      <td>-22.797604</td>\n",
       "      <td>-8.887017</td>\n",
       "      <td>-17.530682</td>\n",
       "      <td>-2.822684</td>\n",
       "      <td>-4.547278</td>\n",
       "      <td>-1.577118</td>\n",
       "      <td>-7.263482</td>\n",
       "      <td>-3.916662</td>\n",
       "      <td>0.000000</td>\n",
       "      <td>0.000000</td>\n",
       "    </tr>\n",
       "    <tr>\n",
       "      <th>25%</th>\n",
       "      <td>70172.500000</td>\n",
       "      <td>-0.995027</td>\n",
       "      <td>-0.550039</td>\n",
       "      <td>-1.029977</td>\n",
       "      <td>-0.796602</td>\n",
       "      <td>-0.737594</td>\n",
       "      <td>-0.801558</td>\n",
       "      <td>-0.602338</td>\n",
       "      <td>-0.199438</td>\n",
       "      <td>-0.708590</td>\n",
       "      <td>...</td>\n",
       "      <td>-0.232682</td>\n",
       "      <td>-0.543785</td>\n",
       "      <td>-0.165239</td>\n",
       "      <td>-0.356176</td>\n",
       "      <td>-0.320517</td>\n",
       "      <td>-0.317820</td>\n",
       "      <td>-0.070511</td>\n",
       "      <td>-0.054776</td>\n",
       "      <td>5.000000</td>\n",
       "      <td>0.000000</td>\n",
       "    </tr>\n",
       "    <tr>\n",
       "      <th>50%</th>\n",
       "      <td>141476.000000</td>\n",
       "      <td>-0.081147</td>\n",
       "      <td>0.103165</td>\n",
       "      <td>0.112765</td>\n",
       "      <td>0.050026</td>\n",
       "      <td>-0.056608</td>\n",
       "      <td>-0.300839</td>\n",
       "      <td>0.031776</td>\n",
       "      <td>0.033797</td>\n",
       "      <td>-0.086823</td>\n",
       "      <td>...</td>\n",
       "      <td>-0.020227</td>\n",
       "      <td>0.007343</td>\n",
       "      <td>-0.012333</td>\n",
       "      <td>0.038141</td>\n",
       "      <td>0.013887</td>\n",
       "      <td>-0.035643</td>\n",
       "      <td>0.006109</td>\n",
       "      <td>0.012170</td>\n",
       "      <td>21.855000</td>\n",
       "      <td>0.000000</td>\n",
       "    </tr>\n",
       "    <tr>\n",
       "      <th>75%</th>\n",
       "      <td>213021.250000</td>\n",
       "      <td>1.291141</td>\n",
       "      <td>0.884756</td>\n",
       "      <td>1.012824</td>\n",
       "      <td>0.871857</td>\n",
       "      <td>0.616391</td>\n",
       "      <td>0.380007</td>\n",
       "      <td>0.558040</td>\n",
       "      <td>0.352100</td>\n",
       "      <td>0.583610</td>\n",
       "      <td>...</td>\n",
       "      <td>0.200228</td>\n",
       "      <td>0.528939</td>\n",
       "      <td>0.146370</td>\n",
       "      <td>0.428241</td>\n",
       "      <td>0.351934</td>\n",
       "      <td>0.270810</td>\n",
       "      <td>0.106617</td>\n",
       "      <td>0.083614</td>\n",
       "      <td>76.000000</td>\n",
       "      <td>0.000000</td>\n",
       "    </tr>\n",
       "    <tr>\n",
       "      <th>max</th>\n",
       "      <td>284764.000000</td>\n",
       "      <td>2.446505</td>\n",
       "      <td>22.057729</td>\n",
       "      <td>3.757300</td>\n",
       "      <td>12.132323</td>\n",
       "      <td>12.791416</td>\n",
       "      <td>21.190194</td>\n",
       "      <td>26.249717</td>\n",
       "      <td>20.007208</td>\n",
       "      <td>8.141560</td>\n",
       "      <td>...</td>\n",
       "      <td>27.202839</td>\n",
       "      <td>8.316275</td>\n",
       "      <td>13.218751</td>\n",
       "      <td>3.437028</td>\n",
       "      <td>3.590787</td>\n",
       "      <td>3.116200</td>\n",
       "      <td>5.058448</td>\n",
       "      <td>15.124103</td>\n",
       "      <td>12910.930000</td>\n",
       "      <td>1.000000</td>\n",
       "    </tr>\n",
       "  </tbody>\n",
       "</table>\n",
       "<p>8 rows × 31 columns</p>\n",
       "</div>"
      ],
      "text/plain": [
       "          Unnamed: 0           V1           V2           V3           V4  \\\n",
       "count    7300.000000  7300.000000  7300.000000  7300.000000  7300.000000   \n",
       "mean   141459.804384    -0.193825     0.159880    -0.278411     0.193200   \n",
       "std     82409.871073     2.521772     1.970007     2.488454     1.746604   \n",
       "min       104.000000   -31.972536   -42.172688   -31.103685    -5.047408   \n",
       "25%     70172.500000    -0.995027    -0.550039    -1.029977    -0.796602   \n",
       "50%    141476.000000    -0.081147     0.103165     0.112765     0.050026   \n",
       "75%    213021.250000     1.291141     0.884756     1.012824     0.871857   \n",
       "max    284764.000000     2.446505    22.057729     3.757300    12.132323   \n",
       "\n",
       "                V5           V6           V7           V8           V9  \\\n",
       "count  7300.000000  7300.000000  7300.000000  7300.000000  7300.000000   \n",
       "mean     -0.128358    -0.048911    -0.202722     0.029468    -0.099865   \n",
       "std       1.826802     1.371383     2.175403     1.764826     1.307587   \n",
       "min     -28.815577    -8.389238   -43.557242   -41.044261   -13.320155   \n",
       "25%      -0.737594    -0.801558    -0.602338    -0.199438    -0.708590   \n",
       "50%      -0.056608    -0.300839     0.031776     0.033797    -0.086823   \n",
       "75%       0.616391     0.380007     0.558040     0.352100     0.583610   \n",
       "max      12.791416    21.190194    26.249717    20.007208     8.141560   \n",
       "\n",
       "          ...               V21          V22          V23          V24  \\\n",
       "count     ...       7300.000000  7300.000000  7300.000000  7300.000000   \n",
       "mean      ...          0.033059    -0.003541     0.004062    -0.001630   \n",
       "std       ...          1.071380     0.778235     0.654663     0.597398   \n",
       "min       ...        -22.797604    -8.887017   -17.530682    -2.822684   \n",
       "25%       ...         -0.232682    -0.543785    -0.165239    -0.356176   \n",
       "50%       ...         -0.020227     0.007343    -0.012333     0.038141   \n",
       "75%       ...          0.200228     0.528939     0.146370     0.428241   \n",
       "max       ...         27.202839     8.316275    13.218751     3.437028   \n",
       "\n",
       "               V25          V26          V27          V28        Amount  \\\n",
       "count  7300.000000  7300.000000  7300.000000  7300.000000   7300.000000   \n",
       "mean     -0.001130     0.011666     0.009332     0.005830     90.372956   \n",
       "std       0.531629     0.484641     0.464333     0.330659    289.206749   \n",
       "min      -4.547278    -1.577118    -7.263482    -3.916662      0.000000   \n",
       "25%      -0.320517    -0.317820    -0.070511    -0.054776      5.000000   \n",
       "50%       0.013887    -0.035643     0.006109     0.012170     21.855000   \n",
       "75%       0.351934     0.270810     0.106617     0.083614     76.000000   \n",
       "max       3.590787     3.116200     5.058448    15.124103  12910.930000   \n",
       "\n",
       "             Class  \n",
       "count  7300.000000  \n",
       "mean      0.041096  \n",
       "std       0.198526  \n",
       "min       0.000000  \n",
       "25%       0.000000  \n",
       "50%       0.000000  \n",
       "75%       0.000000  \n",
       "max       1.000000  \n",
       "\n",
       "[8 rows x 31 columns]"
      ]
     },
     "execution_count": 27,
     "metadata": {},
     "output_type": "execute_result"
    }
   ],
   "source": [
    "# summary statistics\n",
    "df.describe()"
   ]
  },
  {
   "cell_type": "code",
   "execution_count": 28,
   "metadata": {},
   "outputs": [
    {
     "data": {
      "text/plain": [
       "Unnamed: 0    0\n",
       "V1            0\n",
       "V2            0\n",
       "V3            0\n",
       "V4            0\n",
       "V5            0\n",
       "V6            0\n",
       "V7            0\n",
       "V8            0\n",
       "V9            0\n",
       "V10           0\n",
       "V11           0\n",
       "V12           0\n",
       "V13           0\n",
       "V14           0\n",
       "V15           0\n",
       "V16           0\n",
       "V17           0\n",
       "V18           0\n",
       "V19           0\n",
       "V20           0\n",
       "V21           0\n",
       "V22           0\n",
       "V23           0\n",
       "V24           0\n",
       "V25           0\n",
       "V26           0\n",
       "V27           0\n",
       "V28           0\n",
       "Amount        0\n",
       "Class         0\n",
       "dtype: int64"
      ]
     },
     "execution_count": 28,
     "metadata": {},
     "output_type": "execute_result"
    }
   ],
   "source": [
    "# check for missing values\n",
    "df.isnull().sum()"
   ]
  },
  {
   "cell_type": "code",
   "execution_count": 29,
   "metadata": {},
   "outputs": [
    {
     "data": {
      "text/plain": [
       "0    7000\n",
       "1     300\n",
       "Name: Class, dtype: int64"
      ]
     },
     "execution_count": 29,
     "metadata": {},
     "output_type": "execute_result"
    }
   ],
   "source": [
    "# count the occurrences of fraud and no fraud\n",
    "df[\"Class\"].value_counts()"
   ]
  },
  {
   "cell_type": "code",
   "execution_count": 30,
   "metadata": {},
   "outputs": [
    {
     "data": {
      "text/plain": [
       "0    0.958904\n",
       "1    0.041096\n",
       "Name: Class, dtype: float64"
      ]
     },
     "execution_count": 30,
     "metadata": {},
     "output_type": "execute_result"
    }
   ],
   "source": [
    "# calculate the ratio of fraud and no fraud\n",
    "df[\"Class\"].value_counts(normalize=True)"
   ]
  },
  {
   "cell_type": "code",
   "execution_count": 31,
   "metadata": {},
   "outputs": [],
   "source": [
    "# create input and target variable\n",
    "X = df.drop([\"Unnamed: 0\", \"Class\"], axis=1)\n",
    "y = df[\"Class\"]"
   ]
  },
  {
   "cell_type": "code",
   "execution_count": 32,
   "metadata": {},
   "outputs": [],
   "source": [
    "# create the training and testing sets\n",
    "X_train, X_test, y_train, y_test = train_test_split(X, y, test_size=0.3, random_state=0)"
   ]
  },
  {
   "attachments": {},
   "cell_type": "markdown",
   "metadata": {},
   "source": [
    "#### Model adjustments\n",
    "\n",
    "A simple way to adjust the random forest model to deal with highly imbalanced fraud data, is to use the ```class_weights``` option when defining your sklearn model. The ```\"balanced\"``` mode uses the values of y to automatically adjust weights inversely proportional to class frequencies in the input data as n_samples / (n_classes * np.bincount(y)). The ```\"balanced_subsample\"``` mode is the same as “balanced” except that weights are computed based on the bootstrap sample for every tree grown."
   ]
  },
  {
   "cell_type": "code",
   "execution_count": 33,
   "metadata": {},
   "outputs": [
    {
     "name": "stderr",
     "output_type": "stream",
     "text": [
      "C:\\Users\\limchiahooi\\Anaconda3\\lib\\site-packages\\sklearn\\ensemble\\forest.py:246: FutureWarning: The default value of n_estimators will change from 10 in version 0.20 to 100 in 0.22.\n",
      "  \"10 in version 0.20 to 100 in 0.22.\", FutureWarning)\n"
     ]
    },
    {
     "name": "stdout",
     "output_type": "stream",
     "text": [
      "Accuracy Score: 0.9908675799086758\n",
      "\n",
      "ROC score = 0.9403902433916727\n",
      "\n",
      "Classification Report:\n",
      "              precision    recall  f1-score   support\n",
      "\n",
      "           0       0.99      1.00      1.00      2099\n",
      "           1       0.99      0.79      0.88        91\n",
      "\n",
      "   micro avg       0.99      0.99      0.99      2190\n",
      "   macro avg       0.99      0.90      0.94      2190\n",
      "weighted avg       0.99      0.99      0.99      2190\n",
      "\n",
      "\n",
      "Confusion Matrix:\n",
      "[[2098    1]\n",
      " [  19   72]]\n",
      "\n"
     ]
    }
   ],
   "source": [
    "# define the model as the random forest\n",
    "model = RandomForestClassifier(class_weight=\"balanced_subsample\", random_state=0)\n",
    "\n",
    "# fit the model to our training set\n",
    "model.fit(X_train, y_train)\n",
    "\n",
    "# obtain predictions from the test data \n",
    "predicted = model.predict(X_test)\n",
    "\n",
    "# predict probabilities\n",
    "probs = model.predict_proba(X_test)\n",
    "\n",
    "# print the accuracy score, ROC score, classification report and confusion matrix\n",
    "print(\"Accuracy Score: {}\\n\".format(accuracy_score(y_test, predicted)))\n",
    "print(\"ROC score = {}\\n\".format(roc_auc_score(y_test, probs[:,1])))\n",
    "print(\"Classification Report:\\n{}\\n\".format(classification_report(y_test, predicted)))\n",
    "print(\"Confusion Matrix:\\n{}\\n\".format(confusion_matrix(y_test, predicted)))"
   ]
  },
  {
   "cell_type": "code",
   "execution_count": 34,
   "metadata": {},
   "outputs": [
    {
     "data": {
      "image/png": "[encoded data removed]",
      "text/plain": [
       "<Figure size 432x288 with 1 Axes>"
      ]
     },
     "metadata": {},
     "output_type": "display_data"
    }
   ],
   "source": [
    "# plot the confusion matrix\n",
    "sns.heatmap(confusion_matrix(y_test, predicted), annot=True, annot_kws={\"size\":16}, fmt=\"d\", cbar=False, linewidths=0.1, cmap=\"Blues\")\n",
    "plt.title(\"Confusion matrix of the classifier\", fontsize=14)\n",
    "plt.ylabel(\"Actual label\", fontsize=12)\n",
    "plt.xlabel(\"Predicted label\", fontsize=12)\n",
    "\n",
    "# plt.savefig(\"log_cm.png\", bbox_inches=\"tight\")\n",
    "plt.show()"
   ]
  },
  {
   "attachments": {},
   "cell_type": "markdown",
   "metadata": {},
   "source": [
    "### GridSearchCV to find optimal parameters\n",
    "\n",
    "With GridSearchCV we can define which performance metric to score the options on. Since for fraud detection we are mostly interested in catching as many fraud cases as possible, we can optimize our model settings to get the best possible Recall score. If we also cared about reducing the number of false positives, we could optimize on F1-score, this gives us that nice Precision-Recall trade-off."
   ]
  },
  {
   "cell_type": "code",
   "execution_count": 35,
   "metadata": {},
   "outputs": [
    {
     "name": "stdout",
     "output_type": "stream",
     "text": [
      "Wall time: 28.9 s\n"
     ]
    }
   ],
   "source": [
    "%%time\n",
    "# define the parameter sets to test\n",
    "param_grid = {\"n_estimators\": [10, 50], \n",
    "              \"max_features\": [\"auto\", \"log2\"],  \n",
    "#               \"min_samples_leaf\": [1, 10],\n",
    "              \"max_depth\": [4, 8], \n",
    "              \"criterion\": [\"gini\", \"entropy\"], \n",
    "              \"class_weight\": [None, {0:1, 1:12}]\n",
    "}\n",
    "\n",
    "# define the model to use\n",
    "model = RandomForestClassifier(random_state=0)\n",
    "\n",
    "# combine the parameter sets with the defined model\n",
    "CV_model = GridSearchCV(estimator=model, param_grid=param_grid, cv=5, scoring=\"recall\", n_jobs=-1)\n",
    "\n",
    "# fit the model to our training data and obtain best parameters\n",
    "CV_model.fit(X_train, y_train)\n"
   ]
  },
  {
   "cell_type": "code",
   "execution_count": 36,
   "metadata": {},
   "outputs": [
    {
     "data": {
      "text/plain": [
       "{'class_weight': {0: 1, 1: 12},\n",
       " 'criterion': 'entropy',\n",
       " 'max_depth': 4,\n",
       " 'max_features': 'log2',\n",
       " 'n_estimators': 50}"
      ]
     },
     "execution_count": 36,
     "metadata": {},
     "output_type": "execute_result"
    }
   ],
   "source": [
    "# show best parameters\n",
    "CV_model.best_params_"
   ]
  },
  {
   "cell_type": "code",
   "execution_count": 37,
   "metadata": {},
   "outputs": [
    {
     "name": "stdout",
     "output_type": "stream",
     "text": [
      "Accuracy Score: 0.9922374429223745\n",
      "\n",
      "ROC score = 0.9743415231743007\n",
      "\n",
      "Classification Report:\n",
      "              precision    recall  f1-score   support\n",
      "\n",
      "           0       0.99      1.00      1.00      2099\n",
      "           1       0.99      0.82      0.90        91\n",
      "\n",
      "   micro avg       0.99      0.99      0.99      2190\n",
      "   macro avg       0.99      0.91      0.95      2190\n",
      "weighted avg       0.99      0.99      0.99      2190\n",
      "\n",
      "\n",
      "Confusion Matrix:\n",
      "[[2098    1]\n",
      " [  16   75]]\n",
      "\n"
     ]
    }
   ],
   "source": [
    "# obtain predictions from the test data \n",
    "predicted = CV_model.predict(X_test)\n",
    "\n",
    "# predict probabilities\n",
    "probs = CV_model.predict_proba(X_test)\n",
    "\n",
    "# print the accuracy score, ROC score, classification report and confusion matrix\n",
    "print(\"Accuracy Score: {}\\n\".format(accuracy_score(y_test, predicted)))\n",
    "print(\"ROC score = {}\\n\".format(roc_auc_score(y_test, probs[:,1])))\n",
    "print(\"Classification Report:\\n{}\\n\".format(classification_report(y_test, predicted)))\n",
    "print(\"Confusion Matrix:\\n{}\\n\".format(confusion_matrix(y_test, predicted)))"
   ]
  },
  {
   "cell_type": "code",
   "execution_count": 38,
   "metadata": {},
   "outputs": [
    {
     "data": {
      "image/png": "[encoded data removed]",
      "text/plain": [
       "<Figure size 432x288 with 1 Axes>"
      ]
     },
     "metadata": {},
     "output_type": "display_data"
    }
   ],
   "source": [
    "# plot the confusion matrix\n",
    "sns.heatmap(confusion_matrix(y_test, predicted), annot=True, annot_kws={\"size\":16}, fmt=\"d\", cbar=False, linewidths=0.1, cmap=\"Blues\")\n",
    "plt.title(\"Confusion matrix of the classifier\", fontsize=14)\n",
    "plt.ylabel(\"Actual label\", fontsize=12)\n",
    "plt.xlabel(\"Predicted label\", fontsize=12)\n",
    "\n",
    "# plt.savefig(\"log_cm.png\", bbox_inches=\"tight\")\n",
    "plt.show()"
   ]
  },
  {
   "cell_type": "code",
   "execution_count": 39,
   "metadata": {},
   "outputs": [
    {
     "name": "stdout",
     "output_type": "stream",
     "text": [
      "Accuracy Score: 0.9922374429223745\n",
      "\n",
      "ROC score = 0.9743415231743007\n",
      "\n",
      "Classification Report:\n",
      "              precision    recall  f1-score   support\n",
      "\n",
      "           0       0.99      1.00      1.00      2099\n",
      "           1       0.99      0.82      0.90        91\n",
      "\n",
      "   micro avg       0.99      0.99      0.99      2190\n",
      "   macro avg       0.99      0.91      0.95      2190\n",
      "weighted avg       0.99      0.99      0.99      2190\n",
      "\n",
      "\n",
      "Confusion Matrix:\n",
      "[[2098    1]\n",
      " [  16   75]]\n",
      "\n"
     ]
    }
   ],
   "source": [
    "# or manually input the optimal parameters in the model\n",
    "model = RandomForestClassifier(class_weight={0:1,1:12}, criterion='entropy',\n",
    "            n_estimators=50, max_features='log2', max_depth=4, n_jobs=-1, random_state=0)\n",
    "\n",
    "model.fit(X_train, y_train)\n",
    "predicted = model.predict(X_test)\n",
    "probs = model.predict_proba(X_test)\n",
    "\n",
    "# print the accuracy score, ROC score, classification report and confusion matrix\n",
    "print(\"Accuracy Score: {}\\n\".format(accuracy_score(y_test, predicted)))\n",
    "print(\"ROC score = {}\\n\".format(roc_auc_score(y_test, probs[:,1])))\n",
    "print(\"Classification Report:\\n{}\\n\".format(classification_report(y_test, predicted)))\n",
    "print(\"Confusion Matrix:\\n{}\\n\".format(confusion_matrix(y_test, predicted)))"
   ]
  },
  {
   "attachments": {},
   "cell_type": "markdown",
   "metadata": {},
   "source": [
    "### Logistic Regression"
   ]
  },
  {
   "cell_type": "code",
   "execution_count": 40,
   "metadata": {},
   "outputs": [
    {
     "name": "stdout",
     "output_type": "stream",
     "text": [
      "Accuracy Score: 0.9748858447488584\n",
      "\n",
      "ROC score = 0.9721007910622013\n",
      "\n",
      "Classification Report:\n",
      "              precision    recall  f1-score   support\n",
      "\n",
      "           0       0.99      0.98      0.99      2099\n",
      "           1       0.65      0.88      0.74        91\n",
      "\n",
      "   micro avg       0.97      0.97      0.97      2190\n",
      "   macro avg       0.82      0.93      0.87      2190\n",
      "weighted avg       0.98      0.97      0.98      2190\n",
      "\n",
      "\n",
      "Confusion Matrix:\n",
      "[[2055   44]\n",
      " [  11   80]]\n",
      "\n"
     ]
    }
   ],
   "source": [
    "# define the Logistic Regression model with weights\n",
    "lr_model = LogisticRegression(class_weight={0:1, 1:15}, random_state=5, solver=\"liblinear\")\n",
    "\n",
    "# fit the model to our training data\n",
    "lr_model.fit(X_train, y_train)\n",
    "\n",
    "# obtain predictions from the test data \n",
    "predicted = lr_model.predict(X_test)\n",
    "\n",
    "# predict probabilities\n",
    "probs = lr_model.predict_proba(X_test)\n",
    "\n",
    "# print the accuracy score, ROC score, classification report and confusion matrix\n",
    "print(\"Accuracy Score: {}\\n\".format(accuracy_score(y_test, predicted)))\n",
    "print(\"ROC score = {}\\n\".format(roc_auc_score(y_test, probs[:,1])))\n",
    "print(\"Classification Report:\\n{}\\n\".format(classification_report(y_test, predicted)))\n",
    "print(\"Confusion Matrix:\\n{}\\n\".format(confusion_matrix(y_test, predicted)))"
   ]
  },
  {
   "cell_type": "code",
   "execution_count": 41,
   "metadata": {},
   "outputs": [
    {
     "data": {
      "image/png": "[encoded data removed]",
      "text/plain": [
       "<Figure size 432x288 with 1 Axes>"
      ]
     },
     "metadata": {},
     "output_type": "display_data"
    }
   ],
   "source": [
    "# plot the confusion matrix\n",
    "sns.heatmap(confusion_matrix(y_test, predicted), annot=True, annot_kws={\"size\":16}, fmt=\"d\", cbar=False, linewidths=0.1, cmap=\"Blues\")\n",
    "plt.title(\"Confusion matrix of the classifier\", fontsize=14)\n",
    "plt.ylabel(\"Actual label\", fontsize=12)\n",
    "plt.xlabel(\"Predicted label\", fontsize=12)\n",
    "\n",
    "# plt.savefig(\"log_cm.png\", bbox_inches=\"tight\")\n",
    "plt.show()"
   ]
  },
  {
   "attachments": {},
   "cell_type": "markdown",
   "metadata": {},
   "source": [
    "Logistic Regression has quite different performance from the Random Forest. More false positives, but also a better Recall. It will therefore be a useful addition to the Random Forest in an ensemble model."
   ]
  },
  {
   "attachments": {},
   "cell_type": "markdown",
   "metadata": {},
   "source": [
    "### Decision Tree"
   ]
  },
  {
   "cell_type": "code",
   "execution_count": 42,
   "metadata": {},
   "outputs": [
    {
     "name": "stdout",
     "output_type": "stream",
     "text": [
      "Accuracy Score: 0.9840182648401826\n",
      "\n",
      "ROC score = 0.9128182441665054\n",
      "\n",
      "Classification Report:\n",
      "              precision    recall  f1-score   support\n",
      "\n",
      "           0       0.99      0.99      0.99      2099\n",
      "           1       0.79      0.84      0.81        91\n",
      "\n",
      "   micro avg       0.98      0.98      0.98      2190\n",
      "   macro avg       0.89      0.91      0.90      2190\n",
      "weighted avg       0.98      0.98      0.98      2190\n",
      "\n",
      "\n",
      "Confusion Matrix:\n",
      "[[2079   20]\n",
      " [  15   76]]\n",
      "\n"
     ]
    }
   ],
   "source": [
    "# define the Decision Tree model with balanced weight\n",
    "tree_model = DecisionTreeClassifier(random_state=0, class_weight=\"balanced\")\n",
    "\n",
    "# fit the model to our training data\n",
    "tree_model.fit(X_train, y_train)\n",
    "\n",
    "# obtain predictions from the test data \n",
    "predicted = tree_model.predict(X_test)\n",
    "\n",
    "# predict probabilities\n",
    "probs = tree_model.predict_proba(X_test)\n",
    "\n",
    "# print the accuracy score, ROC score, classification report and confusion matrix\n",
    "print(\"Accuracy Score: {}\\n\".format(accuracy_score(y_test, predicted)))\n",
    "print(\"ROC score = {}\\n\".format(roc_auc_score(y_test, probs[:,1])))\n",
    "print(\"Classification Report:\\n{}\\n\".format(classification_report(y_test, predicted)))\n",
    "print(\"Confusion Matrix:\\n{}\\n\".format(confusion_matrix(y_test, predicted)))"
   ]
  },
  {
   "cell_type": "code",
   "execution_count": 43,
   "metadata": {},
   "outputs": [
    {
     "data": {
      "image/png": "[encoded data removed]",
      "text/plain": [
       "<Figure size 432x288 with 1 Axes>"
      ]
     },
     "metadata": {},
     "output_type": "display_data"
    }
   ],
   "source": [
    "# plot the confusion matrix\n",
    "sns.heatmap(confusion_matrix(y_test, predicted), annot=True, annot_kws={\"size\":16}, fmt=\"d\", cbar=False, linewidths=0.1, cmap=\"Blues\")\n",
    "plt.title(\"Confusion matrix of the classifier\", fontsize=14)\n",
    "plt.ylabel(\"Actual label\", fontsize=12)\n",
    "plt.xlabel(\"Predicted label\", fontsize=12)\n",
    "\n",
    "# plt.savefig(\"log_cm.png\", bbox_inches=\"tight\")\n",
    "plt.show()"
   ]
  },
  {
   "attachments": {},
   "cell_type": "markdown",
   "metadata": {},
   "source": [
    "Compared to  Random Forest, Decision Tree also has more false positives, but a better Recall. It will therefore be a useful addition to the Random Forest in an ensemble model."
   ]
  },
  {
   "attachments": {},
   "cell_type": "markdown",
   "metadata": {},
   "source": [
    "### Voting Classifier\n",
    "\n",
    "Let's now combine three machine learning models into one, to improve our Random Forest fraud detection model from before. We'll combine our usual Random Forest model, with the Logistic Regression and Decision Tree model from the previous section."
   ]
  },
  {
   "cell_type": "code",
   "execution_count": 44,
   "metadata": {},
   "outputs": [],
   "source": [
    "# import the package\n",
    "from sklearn.ensemble import VotingClassifier\n",
    "\n",
    "# define the three classifiers to use in the ensemble\n",
    "clf1 = LogisticRegression(class_weight={0:1, 1:15}, random_state=0, solver=\"liblinear\")\n",
    "clf2 = RandomForestClassifier(class_weight={0:1,1:12}, criterion='entropy', n_estimators=50, max_features='log2', max_depth=4, n_jobs=-1, random_state=0)\n",
    "clf3 = DecisionTreeClassifier(random_state=0, class_weight=\"balanced\")"
   ]
  },
  {
   "cell_type": "code",
   "execution_count": 45,
   "metadata": {},
   "outputs": [
    {
     "name": "stdout",
     "output_type": "stream",
     "text": [
      "Accuracy Score: 0.9899543378995433\n",
      "\n",
      "Classification Report:\n",
      "              precision    recall  f1-score   support\n",
      "\n",
      "           0       0.99      1.00      0.99      2099\n",
      "           1       0.90      0.86      0.88        91\n",
      "\n",
      "   micro avg       0.99      0.99      0.99      2190\n",
      "   macro avg       0.95      0.93      0.94      2190\n",
      "weighted avg       0.99      0.99      0.99      2190\n",
      "\n",
      "\n",
      "Confusion Matrix:\n",
      "[[2090    9]\n",
      " [  13   78]]\n",
      "\n"
     ]
    }
   ],
   "source": [
    "# combine the classifiers in the ensemble model\n",
    "ensemble_model = VotingClassifier(estimators=[(\"lr\", clf1), (\"rf\", clf2), (\"dt\", clf3)], voting=\"hard\")\n",
    "\n",
    "ensemble_model.fit(X_train, y_train)\n",
    "predicted = ensemble_model.predict(X_test)\n",
    "# probs = ensemble_model.predict_proba(X_test)\n",
    "\n",
    "# print the accuracy score, ROC score, classification report and confusion matrix\n",
    "print(\"Accuracy Score: {}\\n\".format(accuracy_score(y_test, predicted)))\n",
    "# print(\"ROC score = {}\\n\".format(roc_auc_score(y_test, probs[:,1])))\n",
    "print(\"Classification Report:\\n{}\\n\".format(classification_report(y_test, predicted)))\n",
    "print(\"Confusion Matrix:\\n{}\\n\".format(confusion_matrix(y_test, predicted)))\n"
   ]
  },
  {
   "cell_type": "code",
   "execution_count": 46,
   "metadata": {},
   "outputs": [
    {
     "data": {
      "image/png": "[encoded data removed]",
      "text/plain": [
       "<Figure size 432x288 with 1 Axes>"
      ]
     },
     "metadata": {},
     "output_type": "display_data"
    }
   ],
   "source": [
    "# plot the confusion matrix\n",
    "sns.heatmap(confusion_matrix(y_test, predicted), annot=True, annot_kws={\"size\":16}, fmt=\"d\", cbar=False, linewidths=0.1, cmap=\"Blues\")\n",
    "plt.title(\"Confusion matrix of the classifier\", fontsize=14)\n",
    "plt.ylabel(\"Actual label\", fontsize=12)\n",
    "plt.xlabel(\"Predicted label\", fontsize=12)\n",
    "\n",
    "# plt.savefig(\"log_cm.png\", bbox_inches=\"tight\")\n",
    "plt.show()"
   ]
  },
  {
   "attachments": {},
   "cell_type": "markdown",
   "metadata": {},
   "source": [
    "### Adjust weights within the Voting Classifier\n",
    "\n",
    "We have just seen that the Voting Classifier allows us to improve our fraud detection performance, by combining good aspects from multiple models. Now let's try to adjust the weights we give to these models. By increasing or decreasing weights we can play with how much emphasis we give to a particular model relative to the rest. This comes in handy when a certain model has overall better performance than the rest, but we still want to combine aspects of the others to further improve our results."
   ]
  },
  {
   "cell_type": "code",
   "execution_count": 47,
   "metadata": {},
   "outputs": [
    {
     "name": "stdout",
     "output_type": "stream",
     "text": [
      "Accuracy Score: 0.9917808219178083\n",
      "\n",
      "ROC score = 0.9738022815678843\n",
      "\n",
      "Classification Report:\n",
      "              precision    recall  f1-score   support\n",
      "\n",
      "           0       0.99      1.00      1.00      2099\n",
      "           1       0.94      0.86      0.90        91\n",
      "\n",
      "   micro avg       0.99      0.99      0.99      2190\n",
      "   macro avg       0.97      0.93      0.95      2190\n",
      "weighted avg       0.99      0.99      0.99      2190\n",
      "\n",
      "\n",
      "Confusion Matrix:\n",
      "[[2094    5]\n",
      " [  13   78]]\n",
      "\n"
     ]
    }
   ],
   "source": [
    "# combine the classifiers in the ensemble model\n",
    "ensemble_model = VotingClassifier(estimators=[(\"lr\", clf1), (\"rf\", clf2), (\"gnb\", clf3)], voting=\"soft\", weights=[1,4,1], flatten_transform=True)\n",
    "\n",
    "ensemble_model.fit(X_train, y_train)\n",
    "predicted = ensemble_model.predict(X_test)\n",
    "probs = ensemble_model.predict_proba(X_test)\n",
    "\n",
    "# print the accuracy score, ROC score, classification report and confusion matrix\n",
    "print(\"Accuracy Score: {}\\n\".format(accuracy_score(y_test, predicted)))\n",
    "print(\"ROC score = {}\\n\".format(roc_auc_score(y_test, probs[:,1])))\n",
    "print(\"Classification Report:\\n{}\\n\".format(classification_report(y_test, predicted)))\n",
    "print(\"Confusion Matrix:\\n{}\\n\".format(confusion_matrix(y_test, predicted)))"
   ]
  },
  {
   "cell_type": "code",
   "execution_count": 48,
   "metadata": {},
   "outputs": [
    {
     "data": {
      "image/png": "[encoded data removed]",
      "text/plain": [
       "<Figure size 432x288 with 1 Axes>"
      ]
     },
     "metadata": {},
     "output_type": "display_data"
    }
   ],
   "source": [
    "# plot the confusion matrix\n",
    "sns.heatmap(confusion_matrix(y_test, predicted), annot=True, annot_kws={\"size\":16}, fmt=\"d\", cbar=False, linewidths=0.1, cmap=\"Blues\")\n",
    "plt.title(\"Confusion matrix of the classifier\", fontsize=14)\n",
    "plt.ylabel(\"Actual label\", fontsize=12)\n",
    "plt.xlabel(\"Predicted label\", fontsize=12)\n",
    "\n",
    "# plt.savefig(\"log_cm.png\", bbox_inches=\"tight\")\n",
    "plt.show()"
   ]
  },
  {
   "cell_type": "code",
   "execution_count": 49,
   "metadata": {},
   "outputs": [
    {
     "data": {
      "image/png": "[encoded data removed]",
      "text/plain": [
       "<Figure size 864x576 with 1 Axes>"
      ]
     },
     "metadata": {},
     "output_type": "display_data"
    }
   ],
   "source": [
    "# create ROC curves\n",
    "from sklearn.metrics import roc_curve\n",
    "\n",
    "fpr, tpr, thresholds = roc_curve(y_test, CV_model.predict_proba(X_test)[:,1])\n",
    "lr_fpr, lr_tpr, lr_thresholds = roc_curve(y_test, lr_model.predict_proba(X_test)[:,1])\n",
    "tree_fpr, tree_tpr, tree_thresholds = roc_curve(y_test, tree_model.predict_proba(X_test)[:,1])\n",
    "ensemble_fpr, ensemble_tpr, ensemble_thresholds = roc_curve(y_test, ensemble_model.predict_proba(X_test)[:,1])\n",
    "plt.figure(figsize=(12, 8))\n",
    "\n",
    "# plot Random Forest ROC\n",
    "plt.plot(fpr, tpr, label=\"Random Forest (AUC = {:1.4f})\".format(roc_auc_score(y_test, CV_model.predict_proba(X_test)[:,1])))\n",
    "# plot Linear Regression ROC\n",
    "plt.plot(lr_fpr, lr_tpr, label=\"Logistic Regression (AUC = {:1.4f})\".format(roc_auc_score(y_test, lr_model.predict_proba(X_test)[:,1])))\n",
    "# plot Decision Tree ROC\n",
    "plt.plot(tree_fpr, tree_tpr, label=\"Decision Tree (AUC = {:1.4f})\".format(roc_auc_score(y_test, tree_model.predict_proba(X_test)[:,1])))\n",
    "# plot Voting Classifier ROC\n",
    "plt.plot(ensemble_fpr, ensemble_tpr, label=\"Voting Classifier (AUC = {:1.4f})\".format(roc_auc_score(y_test, ensemble_model.predict_proba(X_test)[:,1])))\n",
    "# plot Baseline ROC\n",
    "plt.plot([0,1], [0,1],label=\"Baseline (AUC = 0.5000)\", linestyle=\"--\")\n",
    "\n",
    "plt.xlim([0.0, 1.0])\n",
    "plt.ylim([0.0, 1.05])\n",
    "plt.xlabel(\"False Positive Rate\", fontsize=14)\n",
    "plt.ylabel(\"True Positive Rate\", fontsize=14)\n",
    "plt.title(\"ROC Curve\", fontsize=16)\n",
    "plt.legend(loc=\"lower right\")\n",
    "plt.savefig(\"roc.png\", bbox_inches=\"tight\")\n",
    "plt.show()"
   ]
  },
  {
   "attachments": {},
   "cell_type": "markdown",
   "metadata": {},
   "source": [
    "***\n",
    "### Discussion \n",
    "By combining the classifiers, we can take the best of multiple models. Random Forest as a standalone model was good in Precision but quite bad in terms of false negatives. Logistic Regression was good in Recall but very bad in terms of false positives. Decision Tree was in the middle. By combining these models together we indeed managed to improve performance. We have increased the cases of fraud that we are catching from 75 to 78, and reduced false negatives by 3, and we only have 4 extra false positives in return. If we do care about catching as many fraud cases as we can, whilst keeping the false positives low, this is a pretty good trade-off. \n",
    "\n",
    "\n",
    "| Model | Precision | Recall | f1-score | Accuracy | AUC ROC | TP | FP | FN | TN |\n",
    "|---|---|---|---|---|---|---|---|---|---|\n",
    "| Random Forest | 0.99 | 0.82 | 0.90 | 0.9922 | 0.9743 | 75 | 1 | 16 | 2098 |\n",
    "| Logistic Regression | 0.65 | 0.88 | 0.74 | 0.9749 | 0.9721 | 80 | 44 | 11 | 2055 |\n",
    "| Decision Tree | 0.79 | 0.84 | 0.81 | 0.9840 | 0.9128 | 76 | 20 | 15 | 2079 |\n",
    "| Voting Classifier | 0.94 | 0.86 | 0.90 | 0.9918 | 0.9738 | 78 | 5 | 13 | 2094 |\n",
    "\n"
   ]
  },
  {
   "attachments": {},
   "cell_type": "markdown",
   "metadata": {},
   "source": [
    "---\n",
    "# <a name=\"uml\">Unsupervised Machine Learning</a>\n",
    "When we do not have labels for fraud cases (often in real life circumstances), we have to make use of unsupervised machine learning. When using unsupervised learning techniques for fraud detection, we want to distinguish normal from abnormal (thus potentially fraudulent) behavior. As a fraud analyst to understand what is \"normal\", we need to have a good understanding of the data and its characteristics. "
   ]
  },
  {
   "cell_type": "code",
   "execution_count": 50,
   "metadata": {},
   "outputs": [
    {
     "name": "stdout",
     "output_type": "stream",
     "text": [
      "(7200, 6)\n"
     ]
    },
    {
     "data": {
      "text/html": [
       "<div>\n",
       "<style scoped>\n",
       "    .dataframe tbody tr th:only-of-type {\n",
       "        vertical-align: middle;\n",
       "    }\n",
       "\n",
       "    .dataframe tbody tr th {\n",
       "        vertical-align: top;\n",
       "    }\n",
       "\n",
       "    .dataframe thead th {\n",
       "        text-align: right;\n",
       "    }\n",
       "</style>\n",
       "<table border=\"1\" class=\"dataframe\">\n",
       "  <thead>\n",
       "    <tr style=\"text-align: right;\">\n",
       "      <th></th>\n",
       "      <th>Unnamed: 0</th>\n",
       "      <th>age</th>\n",
       "      <th>gender</th>\n",
       "      <th>category</th>\n",
       "      <th>amount</th>\n",
       "      <th>fraud</th>\n",
       "    </tr>\n",
       "  </thead>\n",
       "  <tbody>\n",
       "    <tr>\n",
       "      <th>0</th>\n",
       "      <td>171915</td>\n",
       "      <td>3</td>\n",
       "      <td>F</td>\n",
       "      <td>es_transportation</td>\n",
       "      <td>49.71</td>\n",
       "      <td>0</td>\n",
       "    </tr>\n",
       "    <tr>\n",
       "      <th>1</th>\n",
       "      <td>426989</td>\n",
       "      <td>4</td>\n",
       "      <td>F</td>\n",
       "      <td>es_health</td>\n",
       "      <td>39.29</td>\n",
       "      <td>0</td>\n",
       "    </tr>\n",
       "    <tr>\n",
       "      <th>2</th>\n",
       "      <td>310539</td>\n",
       "      <td>3</td>\n",
       "      <td>F</td>\n",
       "      <td>es_transportation</td>\n",
       "      <td>18.76</td>\n",
       "      <td>0</td>\n",
       "    </tr>\n",
       "    <tr>\n",
       "      <th>3</th>\n",
       "      <td>215216</td>\n",
       "      <td>4</td>\n",
       "      <td>M</td>\n",
       "      <td>es_transportation</td>\n",
       "      <td>13.95</td>\n",
       "      <td>0</td>\n",
       "    </tr>\n",
       "    <tr>\n",
       "      <th>4</th>\n",
       "      <td>569244</td>\n",
       "      <td>2</td>\n",
       "      <td>M</td>\n",
       "      <td>es_transportation</td>\n",
       "      <td>49.87</td>\n",
       "      <td>0</td>\n",
       "    </tr>\n",
       "  </tbody>\n",
       "</table>\n",
       "</div>"
      ],
      "text/plain": [
       "   Unnamed: 0 age gender           category  amount  fraud\n",
       "0      171915   3      F  es_transportation   49.71      0\n",
       "1      426989   4      F          es_health   39.29      0\n",
       "2      310539   3      F  es_transportation   18.76      0\n",
       "3      215216   4      M  es_transportation   13.95      0\n",
       "4      569244   2      M  es_transportation   49.87      0"
      ]
     },
     "execution_count": 50,
     "metadata": {},
     "output_type": "execute_result"
    }
   ],
   "source": [
    "# load the dataset\n",
    "df = pd.read_csv(\"chapter_3/banksim.csv\")\n",
    "\n",
    "print(df.shape)\n",
    "df.head()"
   ]
  },
  {
   "cell_type": "code",
   "execution_count": 51,
   "metadata": {},
   "outputs": [
    {
     "name": "stdout",
     "output_type": "stream",
     "text": [
      "<class 'pandas.core.frame.DataFrame'>\n",
      "RangeIndex: 7200 entries, 0 to 7199\n",
      "Data columns (total 6 columns):\n",
      "Unnamed: 0    7200 non-null int64\n",
      "age           7200 non-null object\n",
      "gender        7200 non-null object\n",
      "category      7200 non-null object\n",
      "amount        7200 non-null float64\n",
      "fraud         7200 non-null int64\n",
      "dtypes: float64(1), int64(2), object(3)\n",
      "memory usage: 337.6+ KB\n",
      "None\n"
     ]
    }
   ],
   "source": [
    "# explore the features available in the dataframe\n",
    "print(df.info())"
   ]
  },
  {
   "cell_type": "code",
   "execution_count": 52,
   "metadata": {},
   "outputs": [
    {
     "data": {
      "text/plain": [
       "0    7000\n",
       "1     200\n",
       "Name: fraud, dtype: int64"
      ]
     },
     "execution_count": 52,
     "metadata": {},
     "output_type": "execute_result"
    }
   ],
   "source": [
    "# count the occurrences of fraud and no fraud cases\n",
    "df[\"fraud\"].value_counts()"
   ]
  },
  {
   "cell_type": "code",
   "execution_count": 53,
   "metadata": {},
   "outputs": [
    {
     "data": {
      "text/plain": [
       "0    0.972222\n",
       "1    0.027778\n",
       "Name: fraud, dtype: float64"
      ]
     },
     "execution_count": 53,
     "metadata": {},
     "output_type": "execute_result"
    }
   ],
   "source": [
    "# count the occurrences of fraud and no fraud cases\n",
    "df[\"fraud\"].value_counts(normalize=True)"
   ]
  },
  {
   "cell_type": "code",
   "execution_count": 54,
   "metadata": {},
   "outputs": [
    {
     "data": {
      "text/html": [
       "<div>\n",
       "<style scoped>\n",
       "    .dataframe tbody tr th:only-of-type {\n",
       "        vertical-align: middle;\n",
       "    }\n",
       "\n",
       "    .dataframe tbody tr th {\n",
       "        vertical-align: top;\n",
       "    }\n",
       "\n",
       "    .dataframe thead th {\n",
       "        text-align: right;\n",
       "    }\n",
       "</style>\n",
       "<table border=\"1\" class=\"dataframe\">\n",
       "  <thead>\n",
       "    <tr style=\"text-align: right;\">\n",
       "      <th></th>\n",
       "      <th>Unnamed: 0</th>\n",
       "      <th>amount</th>\n",
       "      <th>fraud</th>\n",
       "    </tr>\n",
       "    <tr>\n",
       "      <th>category</th>\n",
       "      <th></th>\n",
       "      <th></th>\n",
       "      <th></th>\n",
       "    </tr>\n",
       "  </thead>\n",
       "  <tbody>\n",
       "    <tr>\n",
       "      <th>es_leisure</th>\n",
       "      <td>186541.307692</td>\n",
       "      <td>229.757600</td>\n",
       "      <td>1.000000</td>\n",
       "    </tr>\n",
       "    <tr>\n",
       "      <th>es_travel</th>\n",
       "      <td>338897.777778</td>\n",
       "      <td>231.818656</td>\n",
       "      <td>0.944444</td>\n",
       "    </tr>\n",
       "    <tr>\n",
       "      <th>es_sportsandtoys</th>\n",
       "      <td>238775.539474</td>\n",
       "      <td>157.251737</td>\n",
       "      <td>0.657895</td>\n",
       "    </tr>\n",
       "    <tr>\n",
       "      <th>es_otherservices</th>\n",
       "      <td>241279.000000</td>\n",
       "      <td>149.648960</td>\n",
       "      <td>0.600000</td>\n",
       "    </tr>\n",
       "    <tr>\n",
       "      <th>es_hotelservices</th>\n",
       "      <td>280138.548387</td>\n",
       "      <td>172.756245</td>\n",
       "      <td>0.548387</td>\n",
       "    </tr>\n",
       "    <tr>\n",
       "      <th>es_health</th>\n",
       "      <td>335355.176955</td>\n",
       "      <td>126.604704</td>\n",
       "      <td>0.242798</td>\n",
       "    </tr>\n",
       "    <tr>\n",
       "      <th>es_home</th>\n",
       "      <td>248312.583333</td>\n",
       "      <td>120.688317</td>\n",
       "      <td>0.208333</td>\n",
       "    </tr>\n",
       "    <tr>\n",
       "      <th>es_tech</th>\n",
       "      <td>310473.948718</td>\n",
       "      <td>132.852862</td>\n",
       "      <td>0.179487</td>\n",
       "    </tr>\n",
       "    <tr>\n",
       "      <th>es_hyper</th>\n",
       "      <td>244440.712500</td>\n",
       "      <td>46.788180</td>\n",
       "      <td>0.125000</td>\n",
       "    </tr>\n",
       "    <tr>\n",
       "      <th>es_wellnessandbeauty</th>\n",
       "      <td>275085.979798</td>\n",
       "      <td>66.167078</td>\n",
       "      <td>0.060606</td>\n",
       "    </tr>\n",
       "    <tr>\n",
       "      <th>es_barsandrestaurants</th>\n",
       "      <td>267372.707865</td>\n",
       "      <td>43.841793</td>\n",
       "      <td>0.022472</td>\n",
       "    </tr>\n",
       "    <tr>\n",
       "      <th>es_fashion</th>\n",
       "      <td>286952.226804</td>\n",
       "      <td>59.780769</td>\n",
       "      <td>0.020619</td>\n",
       "    </tr>\n",
       "    <tr>\n",
       "      <th>es_contents</th>\n",
       "      <td>335906.153846</td>\n",
       "      <td>55.170000</td>\n",
       "      <td>0.000000</td>\n",
       "    </tr>\n",
       "    <tr>\n",
       "      <th>es_food</th>\n",
       "      <td>334978.976190</td>\n",
       "      <td>35.216050</td>\n",
       "      <td>0.000000</td>\n",
       "    </tr>\n",
       "    <tr>\n",
       "      <th>es_transportation</th>\n",
       "      <td>295733.881674</td>\n",
       "      <td>27.422014</td>\n",
       "      <td>0.000000</td>\n",
       "    </tr>\n",
       "  </tbody>\n",
       "</table>\n",
       "</div>"
      ],
      "text/plain": [
       "                          Unnamed: 0      amount     fraud\n",
       "category                                                  \n",
       "es_leisure             186541.307692  229.757600  1.000000\n",
       "es_travel              338897.777778  231.818656  0.944444\n",
       "es_sportsandtoys       238775.539474  157.251737  0.657895\n",
       "es_otherservices       241279.000000  149.648960  0.600000\n",
       "es_hotelservices       280138.548387  172.756245  0.548387\n",
       "es_health              335355.176955  126.604704  0.242798\n",
       "es_home                248312.583333  120.688317  0.208333\n",
       "es_tech                310473.948718  132.852862  0.179487\n",
       "es_hyper               244440.712500   46.788180  0.125000\n",
       "es_wellnessandbeauty   275085.979798   66.167078  0.060606\n",
       "es_barsandrestaurants  267372.707865   43.841793  0.022472\n",
       "es_fashion             286952.226804   59.780769  0.020619\n",
       "es_contents            335906.153846   55.170000  0.000000\n",
       "es_food                334978.976190   35.216050  0.000000\n",
       "es_transportation      295733.881674   27.422014  0.000000"
      ]
     },
     "execution_count": 54,
     "metadata": {},
     "output_type": "execute_result"
    }
   ],
   "source": [
    "# groupby categories and take the mean\n",
    "df.groupby(\"category\").mean().sort_values(by=\"fraud\", ascending=False)"
   ]
  },
  {
   "attachments": {},
   "cell_type": "markdown",
   "metadata": {},
   "source": [
    "As shown above, the majority of fraud is observed in leisure, travel, and sports related transactions.\n",
    "\n",
    "### Customer segmentation\n",
    "\n",
    "We're going to check whether there are any obvious patterns for the clients in this data, thus whether we need to segment the data into groups, or whether the data is rather homogenous.\n",
    "\n",
    "We unfortunately don't have a lot client information available; we can't for example distinguish between the wealth levels of different clients. However, there is data on age available, so let's see whether there is any significant difference between behavior of age groups."
   ]
  },
  {
   "cell_type": "code",
   "execution_count": 55,
   "metadata": {},
   "outputs": [
    {
     "data": {
      "text/html": [
       "<div>\n",
       "<style scoped>\n",
       "    .dataframe tbody tr th:only-of-type {\n",
       "        vertical-align: middle;\n",
       "    }\n",
       "\n",
       "    .dataframe tbody tr th {\n",
       "        vertical-align: top;\n",
       "    }\n",
       "\n",
       "    .dataframe thead th {\n",
       "        text-align: right;\n",
       "    }\n",
       "</style>\n",
       "<table border=\"1\" class=\"dataframe\">\n",
       "  <thead>\n",
       "    <tr style=\"text-align: right;\">\n",
       "      <th></th>\n",
       "      <th>Unnamed: 0</th>\n",
       "      <th>amount</th>\n",
       "      <th>fraud</th>\n",
       "    </tr>\n",
       "    <tr>\n",
       "      <th>age</th>\n",
       "      <th></th>\n",
       "      <th></th>\n",
       "      <th></th>\n",
       "    </tr>\n",
       "  </thead>\n",
       "  <tbody>\n",
       "    <tr>\n",
       "      <th>0</th>\n",
       "      <td>327520.450000</td>\n",
       "      <td>49.468935</td>\n",
       "      <td>0.050000</td>\n",
       "    </tr>\n",
       "    <tr>\n",
       "      <th>1</th>\n",
       "      <td>290985.509116</td>\n",
       "      <td>35.622829</td>\n",
       "      <td>0.026648</td>\n",
       "    </tr>\n",
       "    <tr>\n",
       "      <th>2</th>\n",
       "      <td>296867.958851</td>\n",
       "      <td>37.228665</td>\n",
       "      <td>0.028718</td>\n",
       "    </tr>\n",
       "    <tr>\n",
       "      <th>3</th>\n",
       "      <td>291471.417346</td>\n",
       "      <td>37.279338</td>\n",
       "      <td>0.023283</td>\n",
       "    </tr>\n",
       "    <tr>\n",
       "      <th>4</th>\n",
       "      <td>306041.396403</td>\n",
       "      <td>36.197985</td>\n",
       "      <td>0.035966</td>\n",
       "    </tr>\n",
       "    <tr>\n",
       "      <th>5</th>\n",
       "      <td>290885.960859</td>\n",
       "      <td>37.547521</td>\n",
       "      <td>0.023990</td>\n",
       "    </tr>\n",
       "    <tr>\n",
       "      <th>6</th>\n",
       "      <td>299193.716561</td>\n",
       "      <td>36.700852</td>\n",
       "      <td>0.022293</td>\n",
       "    </tr>\n",
       "    <tr>\n",
       "      <th>U</th>\n",
       "      <td>288372.181818</td>\n",
       "      <td>39.117000</td>\n",
       "      <td>0.000000</td>\n",
       "    </tr>\n",
       "  </tbody>\n",
       "</table>\n",
       "</div>"
      ],
      "text/plain": [
       "        Unnamed: 0     amount     fraud\n",
       "age                                    \n",
       "0    327520.450000  49.468935  0.050000\n",
       "1    290985.509116  35.622829  0.026648\n",
       "2    296867.958851  37.228665  0.028718\n",
       "3    291471.417346  37.279338  0.023283\n",
       "4    306041.396403  36.197985  0.035966\n",
       "5    290885.960859  37.547521  0.023990\n",
       "6    299193.716561  36.700852  0.022293\n",
       "U    288372.181818  39.117000  0.000000"
      ]
     },
     "execution_count": 55,
     "metadata": {},
     "output_type": "execute_result"
    }
   ],
   "source": [
    "# group by age groups and get the mean\n",
    "df.groupby(\"age\").mean()"
   ]
  },
  {
   "cell_type": "code",
   "execution_count": 56,
   "metadata": {},
   "outputs": [
    {
     "data": {
      "text/plain": [
       "0      40\n",
       "1     713\n",
       "2    2333\n",
       "3    1718\n",
       "4    1279\n",
       "5     792\n",
       "6     314\n",
       "U      11\n",
       "Name: age, dtype: int64"
      ]
     },
     "execution_count": 56,
     "metadata": {},
     "output_type": "execute_result"
    }
   ],
   "source": [
    "df[\"age\"].value_counts().sort_index()"
   ]
  },
  {
   "attachments": {},
   "cell_type": "markdown",
   "metadata": {},
   "source": [
    "Based on the results above, does it make sense to divide the data into age segments before running a fraud detection algorithm? As we can see the average amount spent as well as fraud occurrence is rather similar across groups. Age group '0' stands out but since there are only 40 cases, it does not make sense to split these out in a separate group and run a separate model on them."
   ]
  },
  {
   "cell_type": "code",
   "execution_count": 57,
   "metadata": {},
   "outputs": [
    {
     "data": {
      "image/png": "[encoded data removed]",
      "text/plain": [
       "<Figure size 432x288 with 1 Axes>"
      ]
     },
     "metadata": {},
     "output_type": "display_data"
    }
   ],
   "source": [
    "# create two dataframes with fraud and non-fraud data \n",
    "df_fraud = df.loc[df.fraud == 1] \n",
    "df_non_fraud = df.loc[df.fraud == 0]\n",
    "\n",
    "# plot histograms of the amounts in fraud and non-fraud data \n",
    "plt.hist(df_fraud.amount, alpha=0.5, label='fraud')\n",
    "plt.hist(df_non_fraud.amount, alpha=0.5, label='nonfraud')\n",
    "plt.title(\"Fraud vs Non-fraud by Amount\")\n",
    "plt.xlabel(\"Amount\", fontsize=12)\n",
    "plt.ylabel(\"No of transaction\", fontsize=12)\n",
    "plt.legend()\n",
    "plt.show()"
   ]
  },
  {
   "attachments": {},
   "cell_type": "markdown",
   "metadata": {},
   "source": [
    "As the number fraud observations is much smaller, it is difficult to see the full distribution. Nonetheless, we can see that the fraudulent transactions tend to be on the larger side relative to normal obervations. This is good news, as it helps us later in detecting fraud from non-fraud. Next we are going to implement a clustering model to distinguish between normal and abnormal transactions, **when the fraud labels are no longer available.**"
   ]
  },
  {
   "cell_type": "code",
   "execution_count": 58,
   "metadata": {},
   "outputs": [
    {
     "name": "stdout",
     "output_type": "stream",
     "text": [
      "(7189, 19)\n"
     ]
    },
    {
     "data": {
      "text/html": [
       "<div>\n",
       "<style scoped>\n",
       "    .dataframe tbody tr th:only-of-type {\n",
       "        vertical-align: middle;\n",
       "    }\n",
       "\n",
       "    .dataframe tbody tr th {\n",
       "        vertical-align: top;\n",
       "    }\n",
       "\n",
       "    .dataframe thead th {\n",
       "        text-align: right;\n",
       "    }\n",
       "</style>\n",
       "<table border=\"1\" class=\"dataframe\">\n",
       "  <thead>\n",
       "    <tr style=\"text-align: right;\">\n",
       "      <th></th>\n",
       "      <th>Unnamed: 0</th>\n",
       "      <th>age</th>\n",
       "      <th>amount</th>\n",
       "      <th>fraud</th>\n",
       "      <th>M</th>\n",
       "      <th>es_barsandrestaurants</th>\n",
       "      <th>es_contents</th>\n",
       "      <th>es_fashion</th>\n",
       "      <th>es_food</th>\n",
       "      <th>es_health</th>\n",
       "      <th>es_home</th>\n",
       "      <th>es_hotelservices</th>\n",
       "      <th>es_hyper</th>\n",
       "      <th>es_leisure</th>\n",
       "      <th>es_otherservices</th>\n",
       "      <th>es_sportsandtoys</th>\n",
       "      <th>es_tech</th>\n",
       "      <th>es_transportation</th>\n",
       "      <th>es_travel</th>\n",
       "    </tr>\n",
       "  </thead>\n",
       "  <tbody>\n",
       "    <tr>\n",
       "      <th>0</th>\n",
       "      <td>0</td>\n",
       "      <td>3</td>\n",
       "      <td>49.71</td>\n",
       "      <td>0</td>\n",
       "      <td>0</td>\n",
       "      <td>0</td>\n",
       "      <td>0</td>\n",
       "      <td>0</td>\n",
       "      <td>0</td>\n",
       "      <td>0</td>\n",
       "      <td>0</td>\n",
       "      <td>0</td>\n",
       "      <td>0</td>\n",
       "      <td>0</td>\n",
       "      <td>0</td>\n",
       "      <td>0</td>\n",
       "      <td>0</td>\n",
       "      <td>1</td>\n",
       "      <td>0</td>\n",
       "    </tr>\n",
       "    <tr>\n",
       "      <th>1</th>\n",
       "      <td>1</td>\n",
       "      <td>4</td>\n",
       "      <td>39.29</td>\n",
       "      <td>0</td>\n",
       "      <td>0</td>\n",
       "      <td>0</td>\n",
       "      <td>0</td>\n",
       "      <td>0</td>\n",
       "      <td>0</td>\n",
       "      <td>1</td>\n",
       "      <td>0</td>\n",
       "      <td>0</td>\n",
       "      <td>0</td>\n",
       "      <td>0</td>\n",
       "      <td>0</td>\n",
       "      <td>0</td>\n",
       "      <td>0</td>\n",
       "      <td>0</td>\n",
       "      <td>0</td>\n",
       "    </tr>\n",
       "    <tr>\n",
       "      <th>2</th>\n",
       "      <td>2</td>\n",
       "      <td>3</td>\n",
       "      <td>18.76</td>\n",
       "      <td>0</td>\n",
       "      <td>0</td>\n",
       "      <td>0</td>\n",
       "      <td>0</td>\n",
       "      <td>0</td>\n",
       "      <td>0</td>\n",
       "      <td>0</td>\n",
       "      <td>0</td>\n",
       "      <td>0</td>\n",
       "      <td>0</td>\n",
       "      <td>0</td>\n",
       "      <td>0</td>\n",
       "      <td>0</td>\n",
       "      <td>0</td>\n",
       "      <td>1</td>\n",
       "      <td>0</td>\n",
       "    </tr>\n",
       "    <tr>\n",
       "      <th>3</th>\n",
       "      <td>3</td>\n",
       "      <td>4</td>\n",
       "      <td>13.95</td>\n",
       "      <td>0</td>\n",
       "      <td>1</td>\n",
       "      <td>0</td>\n",
       "      <td>0</td>\n",
       "      <td>0</td>\n",
       "      <td>0</td>\n",
       "      <td>0</td>\n",
       "      <td>0</td>\n",
       "      <td>0</td>\n",
       "      <td>0</td>\n",
       "      <td>0</td>\n",
       "      <td>0</td>\n",
       "      <td>0</td>\n",
       "      <td>0</td>\n",
       "      <td>1</td>\n",
       "      <td>0</td>\n",
       "    </tr>\n",
       "    <tr>\n",
       "      <th>4</th>\n",
       "      <td>4</td>\n",
       "      <td>2</td>\n",
       "      <td>49.87</td>\n",
       "      <td>0</td>\n",
       "      <td>1</td>\n",
       "      <td>0</td>\n",
       "      <td>0</td>\n",
       "      <td>0</td>\n",
       "      <td>0</td>\n",
       "      <td>0</td>\n",
       "      <td>0</td>\n",
       "      <td>0</td>\n",
       "      <td>0</td>\n",
       "      <td>0</td>\n",
       "      <td>0</td>\n",
       "      <td>0</td>\n",
       "      <td>0</td>\n",
       "      <td>1</td>\n",
       "      <td>0</td>\n",
       "    </tr>\n",
       "  </tbody>\n",
       "</table>\n",
       "</div>"
      ],
      "text/plain": [
       "   Unnamed: 0  age  amount  fraud  M  es_barsandrestaurants  es_contents  \\\n",
       "0           0    3   49.71      0  0                      0            0   \n",
       "1           1    4   39.29      0  0                      0            0   \n",
       "2           2    3   18.76      0  0                      0            0   \n",
       "3           3    4   13.95      0  1                      0            0   \n",
       "4           4    2   49.87      0  1                      0            0   \n",
       "\n",
       "   es_fashion  es_food  es_health  es_home  es_hotelservices  es_hyper  \\\n",
       "0           0        0          0        0                 0         0   \n",
       "1           0        0          1        0                 0         0   \n",
       "2           0        0          0        0                 0         0   \n",
       "3           0        0          0        0                 0         0   \n",
       "4           0        0          0        0                 0         0   \n",
       "\n",
       "   es_leisure  es_otherservices  es_sportsandtoys  es_tech  es_transportation  \\\n",
       "0           0                 0                 0        0                  1   \n",
       "1           0                 0                 0        0                  0   \n",
       "2           0                 0                 0        0                  1   \n",
       "3           0                 0                 0        0                  1   \n",
       "4           0                 0                 0        0                  1   \n",
       "\n",
       "   es_travel  \n",
       "0          0  \n",
       "1          0  \n",
       "2          0  \n",
       "3          0  \n",
       "4          0  "
      ]
     },
     "execution_count": 58,
     "metadata": {},
     "output_type": "execute_result"
    }
   ],
   "source": [
    "# load the dataset\n",
    "df = pd.read_csv(\"chapter_3/banksim_adj.csv\")\n",
    "\n",
    "print(df.shape)\n",
    "df.head()"
   ]
  },
  {
   "cell_type": "code",
   "execution_count": 59,
   "metadata": {},
   "outputs": [
    {
     "data": {
      "text/plain": [
       "0    6989\n",
       "1     200\n",
       "Name: fraud, dtype: int64"
      ]
     },
     "execution_count": 59,
     "metadata": {},
     "output_type": "execute_result"
    }
   ],
   "source": [
    "# count the occurrences of fraud and no fraud\n",
    "df[\"fraud\"].value_counts()"
   ]
  },
  {
   "cell_type": "code",
   "execution_count": 60,
   "metadata": {},
   "outputs": [
    {
     "data": {
      "text/plain": [
       "0    0.97218\n",
       "1    0.02782\n",
       "Name: fraud, dtype: float64"
      ]
     },
     "execution_count": 60,
     "metadata": {},
     "output_type": "execute_result"
    }
   ],
   "source": [
    "# count the occurrences of fraud and no fraud\n",
    "df[\"fraud\"].value_counts(normalize=True)"
   ]
  },
  {
   "attachments": {},
   "cell_type": "markdown",
   "metadata": {},
   "source": [
    "### Scaling the data\n",
    "\n",
    "For ML algorithms using distance based metrics, it is crucial to always scale our data, as features using different scales will distort our results. K-means uses the Euclidian distance to assess distance to cluster centroids, therefore we first need to scale the data before continuing to implement the algorithm. Let's do that first."
   ]
  },
  {
   "cell_type": "code",
   "execution_count": 61,
   "metadata": {},
   "outputs": [],
   "source": [
    "# create input and target variable\n",
    "# transform features into a numpy array\n",
    "\n",
    "X = np.array(df.drop([\"Unnamed: 0\", \"fraud\"], axis=1)).astype(np.float)\n",
    "y = df[\"fraud\"].values"
   ]
  },
  {
   "cell_type": "code",
   "execution_count": 62,
   "metadata": {},
   "outputs": [],
   "source": [
    "# import the scaler\n",
    "from sklearn.preprocessing import MinMaxScaler\n",
    "\n",
    "# define the scaler and apply to the data, default feature_range=(0, 1)\n",
    "scaler = MinMaxScaler()\n",
    "X_scaled = scaler.fit_transform(X)"
   ]
  },
  {
   "attachments": {},
   "cell_type": "markdown",
   "metadata": {},
   "source": [
    "### K-means clustering\n",
    "\n",
    "A very commonly used clustering algorithm is K-means clustering. For fraud detection, K-means clustering is straightforward to implement and relatively powerful in predicting suspicious cases. It is a good algorithm to start with when working on fraud detection problems. However, fraud data is often times very large, especially when we are working with transaction data. MiniBatch K-means is an efficient way (faster) to implement K-means on a large dataset, which we will use in this project."
   ]
  },
  {
   "cell_type": "code",
   "execution_count": 63,
   "metadata": {},
   "outputs": [
    {
     "data": {
      "text/plain": [
       "MiniBatchKMeans(batch_size=100, compute_labels=True, init='k-means++',\n",
       "        init_size=None, max_iter=100, max_no_improvement=10, n_clusters=8,\n",
       "        n_init=3, random_state=0, reassignment_ratio=0.01, tol=0.0,\n",
       "        verbose=0)"
      ]
     },
     "execution_count": 63,
     "metadata": {},
     "output_type": "execute_result"
    }
   ],
   "source": [
    "# Import MiniBatchKmeans \n",
    "from sklearn.cluster import MiniBatchKMeans\n",
    "\n",
    "# Define the model \n",
    "# default: n_clusters=8, init='k-means++', max_iter=100, batch_size=100,\n",
    "kmeans = MiniBatchKMeans(n_clusters=8, random_state=0)\n",
    "\n",
    "# Fit the model to the scaled data\n",
    "kmeans.fit(X_scaled)"
   ]
  },
  {
   "attachments": {},
   "cell_type": "markdown",
   "metadata": {},
   "source": [
    "We have now fitted the MiniBatch K-means model to the data. The default n_clusters is 8. But we need to figure our what the right number of clusters to use is.\n",
    "\n",
    "### Elbow method\n",
    "\n",
    "We've implemented MiniBatch K-means with 8 clusters, without actually checking what the right amount of clusters should be. For our first fraud detection approach, it is important to get the number of clusters right, especially when we want to use the outliers of those clusters as fraud predictions. To decide which amount of clusters we're going to use, let's apply the Elbow method and see what the optimal number of clusters should be based on this method."
   ]
  },
  {
   "cell_type": "code",
   "execution_count": 64,
   "metadata": {},
   "outputs": [
    {
     "data": {
      "image/png": "[encoded data removed]",
      "text/plain": [
       "<Figure size 432x288 with 1 Axes>"
      ]
     },
     "metadata": {},
     "output_type": "display_data"
    }
   ],
   "source": [
    "# define the range of clusters to try\n",
    "clustno = range(1, 10)\n",
    "\n",
    "# run MiniBatch Kmeans over the number of clusters\n",
    "kmeans = [MiniBatchKMeans(n_clusters=i) for i in clustno]\n",
    "\n",
    "# obtain the score for each model\n",
    "score = [kmeans[i].fit(X_scaled).score(X_scaled) for i in range(len(kmeans))]\n",
    "\n",
    "# plot the models and their respective score \n",
    "plt.plot(clustno , score)\n",
    "plt.xlabel('Number of Clusters')\n",
    "plt.ylabel('Score')\n",
    "plt.title('Elbow Curve')\n",
    "plt.show()"
   ]
  },
  {
   "cell_type": "code",
   "execution_count": 65,
   "metadata": {},
   "outputs": [
    {
     "data": {
      "image/png": "[encoded data removed]",
      "text/plain": [
       "<Figure size 432x288 with 1 Axes>"
      ]
     },
     "metadata": {},
     "output_type": "display_data"
    }
   ],
   "source": [
    "# ANOTHER METHOD:\n",
    "# For each k value, we will initialise k-means and use the inertia attribute to identify the sum of squared distances of samples to the nearest cluster centre.\n",
    "\n",
    "# kmeans = MiniBatchKMeans(n_clusters=8, random_state=0)\n",
    "Sum_of_squared_distances = []\n",
    "# Cluster_centers = []\n",
    "clustno = range(1,16)\n",
    "for k in clustno:\n",
    "    km = MiniBatchKMeans(n_clusters=k, random_state=0)\n",
    "    km = km.fit(X_scaled)\n",
    "    Sum_of_squared_distances.append(km.inertia_)\n",
    "#     Cluster_centers.append(km.cluster_centers_)\n",
    "    \n",
    "# print(\"There are {} clusters.\".format(len(Cluster_centers), \"\\n\"))\n",
    "plt.plot(clustno, Sum_of_squared_distances, \"bx-\")\n",
    "plt.xlabel(\"k\")\n",
    "plt.xticks([1,2,3,4,5,6,7,8,9,10,11,12,13,14,15])\n",
    "plt.ylabel(\"Sum_of_squared_distances\")\n",
    "plt.title(\"Elbow Method For Optimal k\")\n",
    "plt.show()"
   ]
  },
  {
   "attachments": {},
   "cell_type": "markdown",
   "metadata": {},
   "source": [
    "Now we can see that the optimal number of clusters should probably be at around 3 clusters, as that is where the elbow is in the curve. We'll use this as our baseline model, and see how well this does in detecting fraud.\n",
    "\n",
    "### Detecting outliers\n",
    "\n",
    "In the next section, we're going to use the K-means algorithm to predict fraud, and compare those predictions to the actual labels that are saved, to sense check our results.\n",
    "\n",
    "The fraudulent transactions are typically flagged as the observations that are furthest aways from the cluster centroid. We'll need to determine the cut-off point."
   ]
  },
  {
   "cell_type": "code",
   "execution_count": 66,
   "metadata": {},
   "outputs": [],
   "source": [
    "# split the data into training and test set\n",
    "X_train, X_test, y_train, y_test = train_test_split(X_scaled, y, test_size=0.3, random_state=0)\n",
    "\n",
    "# define K-means model \n",
    "kmeans = MiniBatchKMeans(n_clusters=3, random_state=42).fit(X_train)\n",
    "\n",
    "# obtain predictions and calculate distance from cluster centroid\n",
    "X_test_clusters = kmeans.predict(X_test)\n",
    "\n",
    "# save the cluster centroids\n",
    "X_test_clusters_centers = kmeans.cluster_centers_\n",
    "\n",
    "# calculate the distance to the cluster centroids for each point\n",
    "dist = [np.linalg.norm(x-y) for x, y in zip(X_test, X_test_clusters_centers[X_test_clusters])]\n",
    "\n",
    "# create fraud predictions based on outliers on clusters \n",
    "# define the boundary between fraud and non fraud to be at 95% of distance distribution and higher\n",
    "km_y_pred = np.array(dist)\n",
    "km_y_pred[dist >= np.percentile(dist, 95)] = 1\n",
    "km_y_pred[dist < np.percentile(dist, 95)] = 0"
   ]
  },
  {
   "attachments": {},
   "cell_type": "markdown",
   "metadata": {},
   "source": [
    "Now we have the predictions from our kmeans model, let's check how it compares to the actual labels.\n",
    "\n",
    "### Checking model results\n",
    "\n",
    "In the previous section we've flagged all observations to be fraud, if they are in the top 5th percentile in distance from the cluster centroid. I.e. these are the very outliers of the three clusters. We have the scaled data and labels already split into training and test set, so y_test is available. The predictions, km_y_pred, are also available. Let's create some performance metrics and see how well we did."
   ]
  },
  {
   "cell_type": "code",
   "execution_count": 67,
   "metadata": {},
   "outputs": [
    {
     "data": {
      "text/plain": [
       "array([0., 0., 0., 0., 0., 0., 0., 0., 0., 0., 0., 0., 0., 0., 0., 0., 0.,\n",
       "       0., 0., 0., 0., 0., 0., 0., 0., 0., 0., 0., 0., 0., 0., 0., 0., 0.,\n",
       "       0., 0., 0., 0., 0., 0., 0., 1., 0., 0., 0., 1., 0., 0., 0., 1., 0.,\n",
       "       0., 0., 0., 0., 0., 0., 0., 0., 0., 0., 0., 0., 0., 0., 0., 0., 0.,\n",
       "       0., 0., 0., 0., 0., 0., 0., 0., 0., 0., 0., 0., 0., 0., 0., 0., 0.,\n",
       "       0., 0., 0., 0., 0., 0., 0., 0., 1., 0., 0., 0., 0., 0., 0.])"
      ]
     },
     "execution_count": 67,
     "metadata": {},
     "output_type": "execute_result"
    }
   ],
   "source": [
    "# check the results\n",
    "km_y_pred[:100]"
   ]
  },
  {
   "cell_type": "code",
   "execution_count": 68,
   "metadata": {},
   "outputs": [
    {
     "name": "stdout",
     "output_type": "stream",
     "text": [
      "Accuracy Score: 0.9582753824756607\n",
      "\n",
      "ROC score = 0.8109115999408585\n",
      "\n"
     ]
    },
    {
     "data": {
      "image/png": "[encoded data removed]",
      "text/plain": [
       "<Figure size 432x288 with 1 Axes>"
      ]
     },
     "metadata": {},
     "output_type": "display_data"
    }
   ],
   "source": [
    "# print the accuracy score, ROC score, classification report and confusion matrix\n",
    "print(\"Accuracy Score: {}\\n\".format(accuracy_score(y_test, km_y_pred)))\n",
    "\n",
    "# obtain the ROC score\n",
    "print(\"ROC score = {}\\n\".format(roc_auc_score(y_test, km_y_pred)))\n",
    "\n",
    "# create a confusion matrix\n",
    "km_cm = confusion_matrix(y_test, km_y_pred)\n",
    "\n",
    "# plot the confusion matrix in a figure to visualize results \n",
    "sns.heatmap(km_cm, annot=True, annot_kws={\"size\":16}, fmt=\"d\", cbar=False, linewidths=0.1, cmap=\"Blues\")\n",
    "plt.title(\"Confusion matrix of K-means\", fontsize=14)\n",
    "plt.ylabel(\"Actual label\", fontsize=12)\n",
    "plt.xlabel(\"Predicted label\", fontsize=12)\n",
    "\n",
    "# plt.savefig(\"_cm.png\", bbox_inches=\"tight\")\n",
    "plt.show()"
   ]
  },
  {
   "attachments": {},
   "cell_type": "markdown",
   "metadata": {},
   "source": [
    "If we were to decrease the percentile used as a cutoff point in the previous exercise to 93% instead of 95%, what would that do to our prediction results? The number of fraud cases caught increases, but false positives also increase. By lowering the threshold for cases flagged as fraud, we flag more cases overall but thereby also get more false positives.\n",
    "\n",
    "### DBSCAN\n",
    "DBSCAN - Density-Based Spatial Clustering of Applications with Noise. Finds core samples of high density and expands clusters from them. Good for data which contains clusters of similar density. DBSCAN groups together points that are close to each other based on a distance measurement (usually Euclidean distance) and a minimum number of points. It also marks as outliers the points that are in low-density regions.\n",
    "\n",
    "Parameters:\n",
    "\n",
    "The DBSCAN algorithm basically requires 2 parameters:\n",
    "\n",
    "- eps: the minimum distance between two points. It means that if the distance between two points is lower or equal to this value (eps), these points are considered neighbors.\n",
    "\n",
    "- minPoints: the minimum number of points to form a dense region. For example, if we set the minPoints parameter as 5, then we need at least 5 points to form a dense region.\n",
    "\n",
    "DBSCAN vs K-means\n",
    "\n",
    "- no need to predefine number of clusters\n",
    "- adjust maximum distance between points within clusters\n",
    "- assign minimum amount of samples in clusters\n",
    "- better performance on weirdly shaped data (i.e. non-convex)\n",
    "- but higher computational costs\n",
    "\n",
    "This time, we are not going to take the outliers of the clusters and use that for fraud, but take the smallest clusters in the data and label those as fraud."
   ]
  },
  {
   "cell_type": "code",
   "execution_count": 69,
   "metadata": {},
   "outputs": [
    {
     "name": "stdout",
     "output_type": "stream",
     "text": [
      "Estimated number of clusters: 23\n",
      "Homogeneity: 0.6117\n",
      "Silhouette Coefficient: 0.7127\n"
     ]
    }
   ],
   "source": [
    "# import DBSCAN\n",
    "from sklearn.cluster import DBSCAN\n",
    "\n",
    "# initialize and fit the DBscan model\n",
    "db = DBSCAN(eps=0.9, min_samples=10, n_jobs=-1).fit(X_scaled)\n",
    "\n",
    "# obtain the predicted labels \n",
    "pred_labels = db.labels_\n",
    "\n",
    "# calculate number of clusters\n",
    "# Cluster labels for each point in the dataset given to fit(). Noisy samples are given the label -1.\n",
    "n_clusters = len(set(pred_labels)) - (1 if -1 in y else 0)\n",
    "\n",
    "# print performance metrics for DBscan\n",
    "print(\"Estimated number of clusters: {}\".format(n_clusters))\n",
    "print(\"Homogeneity: {:0.4f}\".format(homogeneity_score(y, pred_labels)))\n",
    "print(\"Silhouette Coefficient: {:0.4f}\".format(silhouette_score(X_scaled, pred_labels)))"
   ]
  },
  {
   "attachments": {},
   "cell_type": "markdown",
   "metadata": {},
   "source": [
    "The number of clusters using DBSCAN (23) is much higher than with K-means (3). For fraud detection this is for now OK, as we are only interested in the smallest clusters, since those are considered as abnormal. Now let's have a look at those clusters and decide which one to flag as fraud.\n",
    "\n",
    "### Assessing smallest clusters\n",
    "\n",
    "In this exercise we're going to have a look at the clusters that came out of DBSCAN, and flag certain clusters as fraud:\n",
    "\n",
    "- first, we need to figure out how big the clusters are, and filter out the smallest\n",
    "- then, we're going to take the smallest ones and flag those as fraud\n",
    "- last, we'll check with the original labels whether this does actually do a good job in detecting fraud"
   ]
  },
  {
   "cell_type": "code",
   "execution_count": 70,
   "metadata": {},
   "outputs": [
    {
     "name": "stdout",
     "output_type": "stream",
     "text": [
      "[21 17  9]\n",
      "Their counts are:\n",
      "[10 15 15]\n"
     ]
    }
   ],
   "source": [
    "# count observations in each cluster number\n",
    "counts = np.bincount(pred_labels[pred_labels>=0])\n",
    "\n",
    "# sort the sample counts of the clusters and take the top 3 smallest clusters\n",
    "smallest_clusters = np.argsort(counts)[:3]\n",
    "print(smallest_clusters)\n",
    "\n",
    "# print the counts of the smallest clusters only\n",
    "print(\"Their counts are:\")      \n",
    "print(counts[smallest_clusters])"
   ]
  },
  {
   "attachments": {},
   "cell_type": "markdown",
   "metadata": {},
   "source": [
    "So now we know which smallest clusters we could flag as fraud. If we were to take more of the smallest clusters, we cast our net wider and catch more fraud, but most likely also more false positives. It is up to the fraud analyst to find the right amount of cases to flag and to investigate. In the next section we'll check the results with the actual labels.\n",
    "\n",
    "### Checking results\n",
    "\n",
    "We're going to check the results of DBSCAN fraud detection model. In reality, we often don't have reliable labels and this where a fraud analyst can help us validate the results. He/She can check our results and see whether the cases we flagged are indeed suspicious. We can also check historically known cases of fraud and see whether our model flags them."
   ]
  },
  {
   "cell_type": "code",
   "execution_count": 71,
   "metadata": {},
   "outputs": [
    {
     "name": "stdout",
     "output_type": "stream",
     "text": [
      "Flagged Fraud     0   1\n",
      "Actual Fraud           \n",
      "0              6973  16\n",
      "1               176  24\n"
     ]
    }
   ],
   "source": [
    "# create a dataframe of the predicted cluster numbers and fraud labels \n",
    "df_result = pd.DataFrame({'clusternr':pred_labels,'fraud':y})\n",
    "\n",
    "# create a condition flagging fraud for the smallest clusters \n",
    "df_result['predicted_fraud'] = np.where((df_result.clusternr==21)|(df_result.clusternr==17)|(df_result.clusternr==9), 1 , 0)\n",
    "\n",
    "# run a crosstab on the results \n",
    "print(pd.crosstab(y, df_result['predicted_fraud'], rownames=['Actual Fraud'], colnames=['Flagged Fraud']))"
   ]
  },
  {
   "cell_type": "code",
   "execution_count": 72,
   "metadata": {},
   "outputs": [
    {
     "data": {
      "image/png": "[encoded data removed]",
      "text/plain": [
       "<Figure size 432x288 with 1 Axes>"
      ]
     },
     "metadata": {},
     "output_type": "display_data"
    }
   ],
   "source": [
    "# plot the confusion matrix in a figure to visualize results\n",
    "testabc = pd.crosstab(y, df_result['predicted_fraud'], rownames=['Actual Fraud'], colnames=['Flagged Fraud'])\n",
    "sns.heatmap(testabc, annot=True, annot_kws={\"size\":16}, fmt=\"d\", cbar=False, linewidths=0.1, cmap=\"Blues\")\n",
    "plt.title(\"Confusion matrix of DBSCAN\", fontsize=14)\n",
    "plt.ylabel(\"Actual label\", fontsize=12)\n",
    "plt.xlabel(\"Predicted label\", fontsize=12)\n",
    "\n",
    "# plt.savefig(\"_cm.png\", bbox_inches=\"tight\")\n",
    "plt.show()"
   ]
  },
  {
   "attachments": {},
   "cell_type": "markdown",
   "metadata": {},
   "source": [
    "How does this compare to the K-means model? The good thing is: out of all flagged cases (40), roughly 2/3 are actually fraud (24)! Since we only take the three smallest clusters, by definition we flag less cases of fraud, so we catch less but also have less false positives. However, we are missing quite a lot of fraud cases. Increasing the amount of smallest clusters we flag could improve that, at the cost of more false positives of course. \n",
    "\n",
    "### Validate the model results\n",
    "In reality, we often don't have reliable labels of the actual fraud cases (i.e. the ground truth), thus it is difficult to validate model results with normal performance metrics (e.g. accuracy). But there are other ways to do so:\n",
    "\n",
    "- check with fraud analyst\n",
    "- investigate and describe cases that are flagged in more detail\n",
    "- compare to past known cases of fraud (use model on past known fraud cases to see whether the model can actually detect those historical fraud cases correctly)"
   ]
  },
  {
   "attachments": {},
   "cell_type": "markdown",
   "metadata": {},
   "source": [
    "***\n",
    "# <a name=\"conclusion\">Discussion and Conclusion</a>\n",
    "In this project, we have used both supervised and unsupervised machine learning techniques to detect fraud cases. We use supervised machine learning when we have fraud cases with labels. By combining the classifiers, we can take the best of multiple models. Random Forest as a standalone model was good in Precision but quite bad in terms of false negatives. Logistic Regression was good in Recall but very bad in terms of false positives. Decision Tree was in the middle. By combining these models together we indeed managed to improve performance. We have increased the cases of fraud that we are catching from 75 to 78, and reduced false negatives by 3, and we only have 4 extra false positives in return. If we do care about catching as many fraud cases as we can, whilst keeping the false positives low, this is a pretty good trade-off. \n",
    "\n",
    "\n",
    "| Model | Precision | Recall | f1-score | Accuracy | AUC ROC | TP | FP | FN | TN |\n",
    "|---|---|---|---|---|---|---|---|---|---|\n",
    "| Random Forest | 0.99 | 0.82 | 0.90 | 0.9922 | 0.9743 | 75 | 1 | 16 | 2098 |\n",
    "| Logistic Regression | 0.65 | 0.88 | 0.74 | 0.9749 | 0.9721 | 80 | 44 | 11 | 2055 |\n",
    "| Decision Tree | 0.79 | 0.84 | 0.81 | 0.9840 | 0.9128 | 76 | 20 | 15 | 2079 |\n",
    "| Voting Classifier | 0.94 | 0.86 | 0.90 | 0.9918 | 0.9738 | 78 | 5 | 13 | 2094 |\n",
    "\n",
    "<br>\n",
    "When we do not have labels for fraud cases (often in real life circumstances), we can use unsupervised machine learning  techniques to distinguish normal from abnormal (thus potentially fraudulent) behavior. This requires an understanding of what is \"normal\" and we need to have a good understanding of the data and its characteristics. It is important to point out that it is difficult to validate unsupervised machine learning model results with normal performance metrics (e.g. accuracy, prevision, recall) because we don't have the actual fraud labels, or the ground truth. But there are other ways to do so such as check with fraud analysts to help us validate and see whether the cases we flagged are indeed suspicious , investigate and describe cases that are flagged in more detail and use model on past known fraud cases to see whether the model can actually detect those historical fraud cases correctly."
   ]
  },
  {
   "attachments": {},
   "cell_type": "markdown",
   "metadata": {},
   "source": [
    "---\n",
    "### References\n",
    "- https://scikit-learn.org/stable/modules/generated/sklearn.linear_model.LogisticRegression.html\n",
    "- https://scikit-learn.org/stable/modules/generated/sklearn.ensemble.RandomForestClassifier.html\n",
    "- https://scikit-learn.org/stable/modules/generated/sklearn.model_selection.GridSearchCV.html\n",
    "- https://scikit-learn.org/stable/modules/generated/sklearn.tree.DecisionTreeClassifier.html\n",
    "- https://scikit-learn.org/stable/modules/generated/sklearn.ensemble.VotingClassifier.html\n",
    "- https://www.datacamp.com/courses/fraud-detection-in-python\n",
    "- https://towardsdatascience.com/how-dbscan-works-and-why-should-i-use-it-443b4a191c80\n",
    "- https://scikit-learn.org/stable/modules/generated/sklearn.cluster.DBSCAN.html"
   ]
  },
  {
   "cell_type": "code",
   "execution_count": null,
   "metadata": {},
   "outputs": [],
   "source": []
  }
 ],
 "metadata": {
  "kernelspec": {
   "display_name": "Python 3",
   "language": "python",
   "name": "python3"
  },
  "language_info": {
   "codemirror_mode": {
    "name": "ipython",
    "version": 3
   },
   "file_extension": ".py",
   "mimetype": "text/x-python",
   "name": "python",
   "nbconvert_exporter": "python",
   "pygments_lexer": "ipython3",
   "version": "3.6.4"
  }
 },
 "nbformat": 4,
 "nbformat_minor": 2
}
