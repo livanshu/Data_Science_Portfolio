{
  "nbformat": 4,
  "nbformat_minor": 0,
  "metadata": {
    "colab": {
      "name": "Untitled3.ipynb",
      "provenance": [],
      "authorship_tag": "ABX9TyMQHRavRnJelo+6PrfqmKid",
      "include_colab_link": true
    },
    "kernelspec": {
      "name": "python3",
      "display_name": "Python 3"
    },
    "language_info": {
      "name": "python"
    }
  },
  "cells": [
    {
      "cell_type": "markdown",
      "metadata": {
        "id": "view-in-github",
        "colab_type": "text"
      },
      "source": [
        "<a href=\"https://colab.research.google.com/github/livanshu/Data_Science_Portfolio/blob/main/MITx/6.86x/LSTM.ipynb\" target=\"_parent\"><img src=\"https://colab.research.google.com/assets/colab-badge.svg\" alt=\"Open In Colab\"/></a>"
      ]
    },
    {
      "cell_type": "code",
      "metadata": {
        "colab": {
          "base_uri": "https://localhost:8080/"
        },
        "id": "QVw3FxAJM2g_",
        "outputId": "7f745138-eb75-4fbf-b334-4639940e2c96"
      },
      "source": [
        "\n",
        "import numpy as np\n",
        "import matplotlib.pyplot as plt\n",
        "\n",
        "# Weights and bias\n",
        "W_fh = 0; W_fx = 0; b_f = -100  # forget gate\n",
        "W_ih = 0; W_ix = 100; b_i = 100     # input gate\n",
        "W_oh = 0; W_ox = 100; b_o = 0   # output gate\n",
        "W_ch = -100; W_cx = 50; b_c = 0     # memory cell\n",
        "\n",
        "# Length of sequence\n",
        "n = 5   \n",
        "\n",
        "# Vectors of states and gates\n",
        "f_t = np.zeros((n,1))     # forget gate\n",
        "i_t = np.zeros((n,1))     # input gate\n",
        "o_t = np.zeros((n,1))     # output gate\n",
        "c_t = np.zeros((n,1))     # vector of memory cells\n",
        "h_t = np.zeros((n,1))     # vector of visible states\n",
        "\n",
        "# Vector of input sequence \n",
        "x_t = np.array([[1],[1],[0],[1],[1]])\n",
        "\n",
        "# Sigmoid function\n",
        "def sigmoid(x):\n",
        "    \"\"\" Computes the sigmoid output (1/(1+e^-x)) of a number, x. \"\"\"\n",
        "    \n",
        "    if x >= 50:\n",
        "        return 1.0\n",
        "    elif x <= -50:\n",
        "        return 0.0\n",
        "    \n",
        "    sig = 1/(1 + np.exp(-x))\n",
        "    return sig\n",
        "\n",
        "# Compute gate and output states sequentially\n",
        "for i in range(n):\n",
        "    if i == 0:\n",
        "        h = 0.0\n",
        "        c = 0.0\n",
        "    else:\n",
        "        h = float(h_t[i-1])\n",
        "        c = float(c_t[i-1])\n",
        "        \n",
        "    # Current input, x_t\n",
        "    x = float(x_t[i])\n",
        "    \n",
        "    # Gate values\n",
        "    f_t[i] = sigmoid(W_fh*h + W_fx*x + b_f)     # forget gate\n",
        "    i_t[i] = sigmoid(W_ih*h + W_ix*x + b_i)     # input gate\n",
        "    o_t[i] = sigmoid(W_oh*h + W_ox*x + b_o)     # output gate\n",
        "\n",
        "    # Revised memory cell values, C'\n",
        "    c_rev = np.tanh(W_ch*h + W_cx*x + b_c)\n",
        "\n",
        "    # New memory cell state (what to forget + what to remember)\n",
        "    c_t[i] = f_t[i]*c + i_t[i]*c_rev\n",
        "    \n",
        "    # New visible state rounded to the nesrest integer (what to show)\n",
        "    h_t[i] = np.round(o_t[i]*np.tanh(c_t[i]))\n",
        "    \n",
        "print(h_t)"
      ],
      "execution_count": 1,
      "outputs": [
        {
          "output_type": "stream",
          "text": [
            "[[ 1.]\n",
            " [-1.]\n",
            " [ 0.]\n",
            " [ 1.]\n",
            " [-1.]]\n"
          ],
          "name": "stdout"
        }
      ]
    }
  ]
}